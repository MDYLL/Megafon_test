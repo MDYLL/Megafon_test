{
  "nbformat": 4,
  "nbformat_minor": 0,
  "metadata": {
    "colab": {
      "name": "Megafon_test.ipynb",
      "provenance": [],
      "collapsed_sections": [],
      "machine_shape": "hm",
      "authorship_tag": "ABX9TyPu/R9KoebqxSPH3f9Hjcku",
      "include_colab_link": true
    },
    "kernelspec": {
      "name": "python3",
      "display_name": "Python 3"
    },
    "accelerator": "GPU"
  },
  "cells": [
    {
      "cell_type": "markdown",
      "metadata": {
        "id": "view-in-github",
        "colab_type": "text"
      },
      "source": [
        "<a href=\"https://colab.research.google.com/github/MDYLL/Megafon_test/blob/master/Megafon_test.ipynb\" target=\"_parent\"><img src=\"https://colab.research.google.com/assets/colab-badge.svg\" alt=\"Open In Colab\"/></a>"
      ]
    },
    {
      "cell_type": "code",
      "metadata": {
        "id": "QAH_T0bO_6ql",
        "colab_type": "code",
        "colab": {}
      },
      "source": [
        "import pandas as pd"
      ],
      "execution_count": 0,
      "outputs": []
    },
    {
      "cell_type": "code",
      "metadata": {
        "id": "3VTdfFWlBtqW",
        "colab_type": "code",
        "outputId": "d300a222-853c-4be3-cfdd-53eeb5b71ebb",
        "colab": {
          "resources": {
            "http://localhost:8080/nbextensions/google.colab/files.js": {
              "data": "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",
              "ok": true,
              "headers": [
                [
                  "content-type",
                  "application/javascript"
                ]
              ],
              "status": 200,
              "status_text": ""
            }
          },
          "base_uri": "https://localhost:8080/",
          "height": 74
        }
      },
      "source": [
        "from google.colab import files\n",
        "uploaded = files.upload()"
      ],
      "execution_count": 27,
      "outputs": [
        {
          "output_type": "display_data",
          "data": {
            "text/html": [
              "\n",
              "     <input type=\"file\" id=\"files-94a8c965-cd60-4692-92db-7801ff6a1197\" name=\"files[]\" multiple disabled />\n",
              "     <output id=\"result-94a8c965-cd60-4692-92db-7801ff6a1197\">\n",
              "      Upload widget is only available when the cell has been executed in the\n",
              "      current browser session. Please rerun this cell to enable.\n",
              "      </output>\n",
              "      <script src=\"/nbextensions/google.colab/files.js\"></script> "
            ],
            "text/plain": [
              "<IPython.core.display.HTML object>"
            ]
          },
          "metadata": {
            "tags": []
          }
        },
        {
          "output_type": "stream",
          "text": [
            "Saving 02_Data.csv to 02_Data (1).csv\n"
          ],
          "name": "stdout"
        }
      ]
    },
    {
      "cell_type": "code",
      "metadata": {
        "id": "gwJxvMV5Cgg9",
        "colab_type": "code",
        "outputId": "585b9428-9e09-4e03-d422-8f310914a6d8",
        "colab": {
          "base_uri": "https://localhost:8080/",
          "height": 34
        }
      },
      "source": [
        "ls"
      ],
      "execution_count": 28,
      "outputs": [
        {
          "output_type": "stream",
          "text": [
            "'02_Data (1).csv'   02_Data.csv   \u001b[0m\u001b[01;34msample_data\u001b[0m/\n"
          ],
          "name": "stdout"
        }
      ]
    },
    {
      "cell_type": "code",
      "metadata": {
        "id": "nI5O10DHAEH4",
        "colab_type": "code",
        "colab": {}
      },
      "source": [
        "df=pd.read_csv('02_Data.csv',sep=';')"
      ],
      "execution_count": 0,
      "outputs": []
    },
    {
      "cell_type": "code",
      "metadata": {
        "id": "lRhyMxNqAhST",
        "colab_type": "code",
        "outputId": "2ff01eb7-4bc7-43d5-aee0-7de421121da3",
        "colab": {
          "base_uri": "https://localhost:8080/",
          "height": 195
        }
      },
      "source": [
        "df.head()"
      ],
      "execution_count": 30,
      "outputs": [
        {
          "output_type": "execute_result",
          "data": {
            "text/html": [
              "<div>\n",
              "<style scoped>\n",
              "    .dataframe tbody tr th:only-of-type {\n",
              "        vertical-align: middle;\n",
              "    }\n",
              "\n",
              "    .dataframe tbody tr th {\n",
              "        vertical-align: top;\n",
              "    }\n",
              "\n",
              "    .dataframe thead th {\n",
              "        text-align: right;\n",
              "    }\n",
              "</style>\n",
              "<table border=\"1\" class=\"dataframe\">\n",
              "  <thead>\n",
              "    <tr style=\"text-align: right;\">\n",
              "      <th></th>\n",
              "      <th>lac</th>\n",
              "      <th>cid</th>\n",
              "      <th>msisdn</th>\n",
              "      <th>imei</th>\n",
              "      <th>event_type</th>\n",
              "      <th>tstamp</th>\n",
              "      <th>long</th>\n",
              "      <th>lat</th>\n",
              "      <th>max_dist</th>\n",
              "      <th>cell_type</th>\n",
              "      <th>start_angle</th>\n",
              "      <th>end_angle</th>\n",
              "    </tr>\n",
              "  </thead>\n",
              "  <tbody>\n",
              "    <tr>\n",
              "      <th>0</th>\n",
              "      <td>5029</td>\n",
              "      <td>40798</td>\n",
              "      <td>158529599791</td>\n",
              "      <td>3.531111e+14</td>\n",
              "      <td>0</td>\n",
              "      <td>1369252800974</td>\n",
              "      <td>37.9305</td>\n",
              "      <td>55.7815</td>\n",
              "      <td>2101</td>\n",
              "      <td>OUTDOOR</td>\n",
              "      <td>220.0</td>\n",
              "      <td>280.0</td>\n",
              "    </tr>\n",
              "    <tr>\n",
              "      <th>1</th>\n",
              "      <td>7782</td>\n",
              "      <td>56870</td>\n",
              "      <td>158520145943</td>\n",
              "      <td>1.292900e+13</td>\n",
              "      <td>5</td>\n",
              "      <td>1369252801396</td>\n",
              "      <td>37.4239</td>\n",
              "      <td>55.7426</td>\n",
              "      <td>2</td>\n",
              "      <td>OUTDOOR</td>\n",
              "      <td>45.0</td>\n",
              "      <td>105.0</td>\n",
              "    </tr>\n",
              "    <tr>\n",
              "      <th>2</th>\n",
              "      <td>7794</td>\n",
              "      <td>32226</td>\n",
              "      <td>158521798391</td>\n",
              "      <td>3.519940e+14</td>\n",
              "      <td>5</td>\n",
              "      <td>1369252802013</td>\n",
              "      <td>37.7034</td>\n",
              "      <td>55.5803</td>\n",
              "      <td>1125</td>\n",
              "      <td>OUTDOOR</td>\n",
              "      <td>0.0</td>\n",
              "      <td>60.0</td>\n",
              "    </tr>\n",
              "    <tr>\n",
              "      <th>3</th>\n",
              "      <td>7758</td>\n",
              "      <td>33528</td>\n",
              "      <td>158537830573</td>\n",
              "      <td>3.586270e+14</td>\n",
              "      <td>0</td>\n",
              "      <td>1369252802331</td>\n",
              "      <td>37.7895</td>\n",
              "      <td>55.7042</td>\n",
              "      <td>1158</td>\n",
              "      <td>OUTDOOR</td>\n",
              "      <td>210.0</td>\n",
              "      <td>270.0</td>\n",
              "    </tr>\n",
              "    <tr>\n",
              "      <th>4</th>\n",
              "      <td>5060</td>\n",
              "      <td>17568</td>\n",
              "      <td>158510204039</td>\n",
              "      <td>3.524581e+14</td>\n",
              "      <td>8</td>\n",
              "      <td>1369252803586</td>\n",
              "      <td>37.1900</td>\n",
              "      <td>55.8308</td>\n",
              "      <td>500</td>\n",
              "      <td>OUTDOOR</td>\n",
              "      <td>180.0</td>\n",
              "      <td>240.0</td>\n",
              "    </tr>\n",
              "  </tbody>\n",
              "</table>\n",
              "</div>"
            ],
            "text/plain": [
              "    lac    cid        msisdn  ...  cell_type  start_angle  end_angle\n",
              "0  5029  40798  158529599791  ...    OUTDOOR        220.0      280.0\n",
              "1  7782  56870  158520145943  ...    OUTDOOR         45.0      105.0\n",
              "2  7794  32226  158521798391  ...    OUTDOOR          0.0       60.0\n",
              "3  7758  33528  158537830573  ...    OUTDOOR        210.0      270.0\n",
              "4  5060  17568  158510204039  ...    OUTDOOR        180.0      240.0\n",
              "\n",
              "[5 rows x 12 columns]"
            ]
          },
          "metadata": {
            "tags": []
          },
          "execution_count": 30
        }
      ]
    },
    {
      "cell_type": "code",
      "metadata": {
        "id": "jJBBcsxBXbMA",
        "colab_type": "code",
        "colab": {
          "base_uri": "https://localhost:8080/",
          "height": 34
        },
        "outputId": "e978ae67-9db9-4a3c-ddea-b65d1ec90251"
      },
      "source": [
        "df.shape[0]"
      ],
      "execution_count": 31,
      "outputs": [
        {
          "output_type": "execute_result",
          "data": {
            "text/plain": [
              "174123"
            ]
          },
          "metadata": {
            "tags": []
          },
          "execution_count": 31
        }
      ]
    },
    {
      "cell_type": "code",
      "metadata": {
        "id": "Z6sjy3jQ53J5",
        "colab_type": "code",
        "outputId": "6a9c510e-cd1a-412d-873f-913657261f42",
        "colab": {
          "base_uri": "https://localhost:8080/",
          "height": 50
        }
      },
      "source": [
        "pd.to_datetime(df.tstamp.min(), unit='ms'),pd.to_datetime(df.tstamp.max(), unit='ms')"
      ],
      "execution_count": 32,
      "outputs": [
        {
          "output_type": "execute_result",
          "data": {
            "text/plain": [
              "(Timestamp('2013-05-22 20:00:00.974000'),\n",
              " Timestamp('2013-05-30 16:29:37.643000'))"
            ]
          },
          "metadata": {
            "tags": []
          },
          "execution_count": 32
        }
      ]
    },
    {
      "cell_type": "code",
      "metadata": {
        "id": "EorO3DZ9g5nD",
        "colab_type": "code",
        "colab": {
          "base_uri": "https://localhost:8080/",
          "height": 34
        },
        "outputId": "5f35fa09-99e1-4887-84e2-cd78544bd6a7"
      },
      "source": [
        "pd.to_datetime(1369409228852, unit='ms')"
      ],
      "execution_count": 33,
      "outputs": [
        {
          "output_type": "execute_result",
          "data": {
            "text/plain": [
              "Timestamp('2013-05-24 15:27:08.852000')"
            ]
          },
          "metadata": {
            "tags": []
          },
          "execution_count": 33
        }
      ]
    },
    {
      "cell_type": "code",
      "metadata": {
        "id": "A9RIuQAQQsMF",
        "colab_type": "code",
        "colab": {}
      },
      "source": [
        "df=df.drop(['lac','cid','imei','event_type','max_dist','cell_type','start_angle','end_angle'],axis=1)"
      ],
      "execution_count": 0,
      "outputs": []
    },
    {
      "cell_type": "code",
      "metadata": {
        "id": "TJW4RJxkRPqX",
        "colab_type": "code",
        "colab": {}
      },
      "source": [
        "df.tstamp//=1000\n",
        "df.tstamp-=df.tstamp.min(axis=0)"
      ],
      "execution_count": 0,
      "outputs": []
    },
    {
      "cell_type": "code",
      "metadata": {
        "id": "ZZrA5PiKW4Tp",
        "colab_type": "code",
        "colab": {}
      },
      "source": [
        "period=df.tstamp.max(axis=0)//1000\n",
        "y=[]\n",
        "for i in range(1000):\n",
        "  y.append(df.loc[(df.tstamp>i*period)&(df.tstamp<=(i+1)*period)].shape[0])"
      ],
      "execution_count": 0,
      "outputs": []
    },
    {
      "cell_type": "code",
      "metadata": {
        "id": "vqddnxjMXGKU",
        "colab_type": "code",
        "colab": {
          "base_uri": "https://localhost:8080/",
          "height": 266
        },
        "outputId": "4336bd08-6a3e-41c7-ccd5-5a443527a184"
      },
      "source": [
        "from matplotlib import pyplot as plt\n",
        "plt.plot(y)\n",
        "plt.show()"
      ],
      "execution_count": 37,
      "outputs": [
        {
          "output_type": "display_data",
          "data": {
            "image/png": "[encoded data removed]",
            "text/plain": [
              "<Figure size 432x288 with 1 Axes>"
            ]
          },
          "metadata": {
            "tags": []
          }
        }
      ]
    },
    {
      "cell_type": "code",
      "metadata": {
        "id": "MGKbTFxuCnrC",
        "colab_type": "code",
        "outputId": "f7eddd3c-a941-42bc-937d-f18bcb2161cb",
        "colab": {
          "base_uri": "https://localhost:8080/",
          "height": 34
        }
      },
      "source": [
        "unique_numbers=df['msisdn'].unique()\n",
        "len(unique_numbers)"
      ],
      "execution_count": 38,
      "outputs": [
        {
          "output_type": "execute_result",
          "data": {
            "text/plain": [
              "2361"
            ]
          },
          "metadata": {
            "tags": []
          },
          "execution_count": 38
        }
      ]
    },
    {
      "cell_type": "code",
      "metadata": {
        "id": "fa6Irs5vRyBe",
        "colab_type": "code",
        "colab": {}
      },
      "source": [
        "quantity_time_intervals=100\n",
        "min_tstamp=df.tstamp.min(axis=0)\n",
        "max_tstamp=df.tstamp.max(axis=0)\n",
        "time_period=(max_tstamp-min_tstamp)//quantity_time_intervals\n",
        "# time_intervals=[el for el in range(0,max_tstamp,time_period)]\n",
        "df_norm=pd.DataFrame(columns=df.columns)"
      ],
      "execution_count": 0,
      "outputs": []
    },
    {
      "cell_type": "code",
      "metadata": {
        "id": "44S1RsPUeWte",
        "colab_type": "code",
        "colab": {
          "base_uri": "https://localhost:8080/",
          "height": 402
        },
        "outputId": "e6526080-75ab-4e29-8d34-6d8c7919a55a"
      },
      "source": [
        "df"
      ],
      "execution_count": 40,
      "outputs": [
        {
          "output_type": "execute_result",
          "data": {
            "text/html": [
              "<div>\n",
              "<style scoped>\n",
              "    .dataframe tbody tr th:only-of-type {\n",
              "        vertical-align: middle;\n",
              "    }\n",
              "\n",
              "    .dataframe tbody tr th {\n",
              "        vertical-align: top;\n",
              "    }\n",
              "\n",
              "    .dataframe thead th {\n",
              "        text-align: right;\n",
              "    }\n",
              "</style>\n",
              "<table border=\"1\" class=\"dataframe\">\n",
              "  <thead>\n",
              "    <tr style=\"text-align: right;\">\n",
              "      <th></th>\n",
              "      <th>msisdn</th>\n",
              "      <th>tstamp</th>\n",
              "      <th>long</th>\n",
              "      <th>lat</th>\n",
              "    </tr>\n",
              "  </thead>\n",
              "  <tbody>\n",
              "    <tr>\n",
              "      <th>0</th>\n",
              "      <td>158529599791</td>\n",
              "      <td>0</td>\n",
              "      <td>37.9305</td>\n",
              "      <td>55.7815</td>\n",
              "    </tr>\n",
              "    <tr>\n",
              "      <th>1</th>\n",
              "      <td>158520145943</td>\n",
              "      <td>1</td>\n",
              "      <td>37.4239</td>\n",
              "      <td>55.7426</td>\n",
              "    </tr>\n",
              "    <tr>\n",
              "      <th>2</th>\n",
              "      <td>158521798391</td>\n",
              "      <td>2</td>\n",
              "      <td>37.7034</td>\n",
              "      <td>55.5803</td>\n",
              "    </tr>\n",
              "    <tr>\n",
              "      <th>3</th>\n",
              "      <td>158537830573</td>\n",
              "      <td>2</td>\n",
              "      <td>37.7895</td>\n",
              "      <td>55.7042</td>\n",
              "    </tr>\n",
              "    <tr>\n",
              "      <th>4</th>\n",
              "      <td>158510204039</td>\n",
              "      <td>3</td>\n",
              "      <td>37.1900</td>\n",
              "      <td>55.8308</td>\n",
              "    </tr>\n",
              "    <tr>\n",
              "      <th>...</th>\n",
              "      <td>...</td>\n",
              "      <td>...</td>\n",
              "      <td>...</td>\n",
              "      <td>...</td>\n",
              "    </tr>\n",
              "    <tr>\n",
              "      <th>174118</th>\n",
              "      <td>158503851673</td>\n",
              "      <td>673967</td>\n",
              "      <td>37.6178</td>\n",
              "      <td>55.7370</td>\n",
              "    </tr>\n",
              "    <tr>\n",
              "      <th>174119</th>\n",
              "      <td>158503851673</td>\n",
              "      <td>674287</td>\n",
              "      <td>37.6217</td>\n",
              "      <td>55.7363</td>\n",
              "    </tr>\n",
              "    <tr>\n",
              "      <th>174120</th>\n",
              "      <td>158503851673</td>\n",
              "      <td>675316</td>\n",
              "      <td>37.6217</td>\n",
              "      <td>55.7363</td>\n",
              "    </tr>\n",
              "    <tr>\n",
              "      <th>174121</th>\n",
              "      <td>158503851673</td>\n",
              "      <td>678091</td>\n",
              "      <td>37.7856</td>\n",
              "      <td>55.7508</td>\n",
              "    </tr>\n",
              "    <tr>\n",
              "      <th>174122</th>\n",
              "      <td>158503851673</td>\n",
              "      <td>678577</td>\n",
              "      <td>37.3426</td>\n",
              "      <td>55.4158</td>\n",
              "    </tr>\n",
              "  </tbody>\n",
              "</table>\n",
              "<p>174123 rows × 4 columns</p>\n",
              "</div>"
            ],
            "text/plain": [
              "              msisdn  tstamp     long      lat\n",
              "0       158529599791       0  37.9305  55.7815\n",
              "1       158520145943       1  37.4239  55.7426\n",
              "2       158521798391       2  37.7034  55.5803\n",
              "3       158537830573       2  37.7895  55.7042\n",
              "4       158510204039       3  37.1900  55.8308\n",
              "...              ...     ...      ...      ...\n",
              "174118  158503851673  673967  37.6178  55.7370\n",
              "174119  158503851673  674287  37.6217  55.7363\n",
              "174120  158503851673  675316  37.6217  55.7363\n",
              "174121  158503851673  678091  37.7856  55.7508\n",
              "174122  158503851673  678577  37.3426  55.4158\n",
              "\n",
              "[174123 rows x 4 columns]"
            ]
          },
          "metadata": {
            "tags": []
          },
          "execution_count": 40
        }
      ]
    },
    {
      "cell_type": "code",
      "metadata": {
        "id": "7g79XACheP0N",
        "colab_type": "code",
        "outputId": "298dfbbe-9b77-4547-e69e-ad3b9b3d6a55",
        "colab": {
          "base_uri": "https://localhost:8080/",
          "height": 34
        }
      },
      "source": [
        "min_tstamp,max_tstamp,time_period"
      ],
      "execution_count": 41,
      "outputs": [
        {
          "output_type": "execute_result",
          "data": {
            "text/plain": [
              "(0, 678577, 6785)"
            ]
          },
          "metadata": {
            "tags": []
          },
          "execution_count": 41
        }
      ]
    },
    {
      "cell_type": "code",
      "metadata": {
        "id": "n_FF7PwjIaqd",
        "colab_type": "code",
        "colab": {}
      },
      "source": [
        "import collections\n",
        "current_tstamp=collections.defaultdict(tuple)\n",
        "for number in unique_numbers:\n",
        "  df1=df.loc[df.msisdn==number]\n",
        "  idx=df1.tstamp.idxmax()\n",
        "  current_tstamp[number]=(df.at[idx,'long'],df.at[idx,'lat'])\n"
      ],
      "execution_count": 0,
      "outputs": []
    },
    {
      "cell_type": "code",
      "metadata": {
        "id": "cfOUqHbaY0YO",
        "colab_type": "code",
        "colab": {}
      },
      "source": [
        "df_norm=pd.DataFrame(columns=df.columns)\n",
        "for number in unique_numbers:\n",
        "  for i in range(0,quantity_time_intervals):\n",
        "    # print(i,end=' ')\n",
        "  \n",
        "  # for j in range(1):\n",
        "    # number=158529599791\n",
        "    # if i==18:\n",
        "    #   break\n",
        "    df1=df.loc[(df.msisdn==number)&(df.tstamp<=max_tstamp-i*time_period)&(df.tstamp>max_tstamp-(i+1)*time_period)]\n",
        "    if df1.size>0:\n",
        "      idx=df1.tstamp.idxmax()\n",
        "      df_norm=df_norm.append({'msisdn':number,'tstamp':i,'long':df1.at[idx,'long'],'lat':df1.at[idx,'lat']},ignore_index=True)\n",
        "      # print(i,number,df1.at[idx,'long'])\n",
        "      # df_norm.at[idx,'tstamp']=max_tstamp-i*time_period\n",
        "      current_tstamp[number]=(df1.at[idx,'long'],df1.at[idx,'lat'])\n",
        "      # if number==158510204039:\n",
        "      #   print(df1.shape)\n",
        "      #   print(idx)\n",
        "      #   print(i,current_tstamp[number])\n",
        "    else:\n",
        "      # print('**************')\n",
        "      # print(i)\n",
        "      # df_norm=df_norm.append({'msisdn':number,'tstamp':max_tstamp-i*time_period,'long':current_tstamp[number][0],'lat':current_tstamp[number][1]},ignore_index=True)\n",
        "      df_norm=df_norm.append({'msisdn':number,'tstamp':i,'long':current_tstamp[number][0],'lat':current_tstamp[number][1]},ignore_index=True)\n",
        "      # print(i,number)"
      ],
      "execution_count": 0,
      "outputs": []
    },
    {
      "cell_type": "code",
      "metadata": {
        "id": "ZDcAdtHjQyPr",
        "colab_type": "code",
        "colab": {}
      },
      "source": [
        "df_norm=df_norm.astype({'msisdn':int,'tstamp':int})\n",
        "df_norm.loc[df_norm.msisdn==158529599791]\n"
      ],
      "execution_count": 0,
      "outputs": []
    },
    {
      "cell_type": "code",
      "metadata": {
        "id": "fi6WnSIrgN_u",
        "colab_type": "code",
        "colab": {}
      },
      "source": [
        "import torch\n",
        "(int(len(unique_numbers)*(len(unique_numbers)-1)/2),2*2*quantity_time_intervals)"
      ],
      "execution_count": 0,
      "outputs": []
    },
    {
      "cell_type": "code",
      "metadata": {
        "id": "kg1i4rUfkO2Q",
        "colab_type": "code",
        "colab": {}
      },
      "source": [
        "x=torch.zeros((int(len(unique_numbers)*(len(unique_numbers)-1)/2),2*2*quantity_time_intervals))"
      ],
      "execution_count": 0,
      "outputs": []
    },
    {
      "cell_type": "code",
      "metadata": {
        "id": "voV-6Ly_kY3N",
        "colab_type": "code",
        "colab": {}
      },
      "source": [
        "x.shape"
      ],
      "execution_count": 0,
      "outputs": []
    },
    {
      "cell_type": "code",
      "metadata": {
        "id": "bxg3EfxRka_M",
        "colab_type": "code",
        "colab": {}
      },
      "source": [
        "idx=0\n",
        "for i in unique_numbers:\n",
        "  print(i,end=' ')\n",
        "  for j in unique_numbers:\n",
        "    if i<=j:\n",
        "      continue\n",
        "    t1=torch.FloatTensor(df_norm.loc[df_norm.msisdn==i]['long'].values,)\n",
        "    t2=torch.FloatTensor(df_norm.loc[df_norm.msisdn==i]['lat'].values)\n",
        "    t3=torch.FloatTensor(df_norm.loc[df_norm.msisdn==j]['long'].values)\n",
        "    t4=torch.FloatTensor(df_norm.loc[df_norm.msisdn==j]['lat'].values)\n",
        "    t=torch.cat([t1,t2,t3,t4])\n",
        "    x[idx]=t\n",
        "    idx+=1\n",
        "    \n",
        "    "
      ],
      "execution_count": 0,
      "outputs": []
    },
    {
      "cell_type": "code",
      "metadata": {
        "id": "Rekvfmo-wmct",
        "colab_type": "code",
        "colab": {}
      },
      "source": [
        "x"
      ],
      "execution_count": 0,
      "outputs": []
    },
    {
      "cell_type": "code",
      "metadata": {
        "id": "xzjjemFo0SqG",
        "colab_type": "code",
        "colab": {}
      },
      "source": [
        "x.shape"
      ],
      "execution_count": 0,
      "outputs": []
    },
    {
      "cell_type": "code",
      "metadata": {
        "id": "reR4dudkL1f6",
        "colab_type": "code",
        "colab": {}
      },
      "source": [
        "pair=[]\n",
        "idx=0\n",
        "for i in unique_numbers:\n",
        "  # print(i,end=' ')\n",
        "  for j in unique_numbers:\n",
        "    if i<=j:\n",
        "      continue\n",
        "    pair.append((i,j))\n",
        "    # idx+=1\n"
      ],
      "execution_count": 0,
      "outputs": []
    },
    {
      "cell_type": "code",
      "metadata": {
        "id": "y9xP-tNmN0xB",
        "colab_type": "code",
        "colab": {}
      },
      "source": [
        "pair_back={(pair[i][0],pair[i][1]):i for i in range(len(pair))}"
      ],
      "execution_count": 0,
      "outputs": []
    },
    {
      "cell_type": "code",
      "metadata": {
        "id": "mlzdZLQUT-JO",
        "colab_type": "code",
        "colab": {}
      },
      "source": [
        "uploaded = files.upload()"
      ],
      "execution_count": 0,
      "outputs": []
    },
    {
      "cell_type": "code",
      "metadata": {
        "id": "cNp9UbTtT-OP",
        "colab_type": "code",
        "colab": {}
      },
      "source": [
        "df=pd.read_csv('facts.csv',sep=';')"
      ],
      "execution_count": 0,
      "outputs": []
    },
    {
      "cell_type": "code",
      "metadata": {
        "id": "nSs5qXvQT-Sf",
        "colab_type": "code",
        "colab": {}
      },
      "source": [
        "label=[]\n",
        "for row in df.iterrows():\n",
        "  label.append((max(row[1][0],row[1][1]),min(row[1][0],row[1][1])))"
      ],
      "execution_count": 0,
      "outputs": []
    },
    {
      "cell_type": "code",
      "metadata": {
        "id": "V5ct59adT-XP",
        "colab_type": "code",
        "colab": {}
      },
      "source": [
        "true_label=[]\n",
        "for el in label:\n",
        "  try:\n",
        "    num=pair_back[el]\n",
        "    true_label.append(el)\n",
        "  except:\n",
        "    print(el)"
      ],
      "execution_count": 0,
      "outputs": []
    },
    {
      "cell_type": "code",
      "metadata": {
        "id": "naAtwEdyT-cs",
        "colab_type": "code",
        "colab": {}
      },
      "source": [
        "label=true_label\n",
        "len(label)"
      ],
      "execution_count": 0,
      "outputs": []
    },
    {
      "cell_type": "code",
      "metadata": {
        "id": "l4zp_7N5c1FI",
        "colab_type": "code",
        "colab": {}
      },
      "source": [
        "numbers_of_labels=[]\n",
        "for el in label:\n",
        "  numbers_of_labels.append(pair_back[el])"
      ],
      "execution_count": 0,
      "outputs": []
    },
    {
      "cell_type": "code",
      "metadata": {
        "id": "gM1bQ4HXRe23",
        "colab_type": "code",
        "colab": {}
      },
      "source": [
        "numbers_of_labels[0:3]"
      ],
      "execution_count": 0,
      "outputs": []
    },
    {
      "cell_type": "code",
      "metadata": {
        "id": "PhVUZDfzKSV8",
        "colab_type": "code",
        "colab": {}
      },
      "source": [
        "x_label=x[numbers_of_labels]\n",
        "x_label.shape"
      ],
      "execution_count": 0,
      "outputs": []
    },
    {
      "cell_type": "code",
      "metadata": {
        "id": "A0H8XwneLyAU",
        "colab_type": "code",
        "colab": {}
      },
      "source": [
        "x0=torch.zeros((x.shape[0],1))\n",
        "for i in range(x0.shape[0]):\n",
        "  if i in numbers_of_labels:\n",
        "    x0[i][0]=1"
      ],
      "execution_count": 0,
      "outputs": []
    },
    {
      "cell_type": "code",
      "metadata": {
        "id": "W4Zo9p3esJnX",
        "colab_type": "code",
        "colab": {}
      },
      "source": [
        "import numpy as np\n",
        "x_fake=torch.zeros((1200000,x.shape[1]))\n",
        "for i in range(len(numbers_of_labels)):\n",
        "  for j in range(10000):\n",
        "    x_fake[i*10000+j]=x[numbers_of_labels[i]]+np.random.sample(1)/1000\n"
      ],
      "execution_count": 0,
      "outputs": []
    },
    {
      "cell_type": "code",
      "metadata": {
        "id": "05ul188XMDtD",
        "colab_type": "code",
        "colab": {}
      },
      "source": [
        "x1=torch.ones((x_fake.shape[0]),1)\n",
        "x_fake1=torch.cat((x_fake,x1),dim=1)\n",
        "x_fake1[0][-1]"
      ],
      "execution_count": 0,
      "outputs": []
    },
    {
      "cell_type": "code",
      "metadata": {
        "id": "46dTy1QRMt4R",
        "colab_type": "code",
        "colab": {}
      },
      "source": [
        "no_label=list(set(range(x.shape[0]))-set(numbers_of_labels))"
      ],
      "execution_count": 0,
      "outputs": []
    },
    {
      "cell_type": "code",
      "metadata": {
        "id": "BYBMzQ3cM6xf",
        "colab_type": "code",
        "colab": {}
      },
      "source": [
        "len(no_label)"
      ],
      "execution_count": 0,
      "outputs": []
    },
    {
      "cell_type": "code",
      "metadata": {
        "id": "GlicRoHXM9Pb",
        "colab_type": "code",
        "colab": {}
      },
      "source": [
        "numbers_of_labels[0] in no_label"
      ],
      "execution_count": 0,
      "outputs": []
    },
    {
      "cell_type": "code",
      "metadata": {
        "id": "qhAVYCkXTY4U",
        "colab_type": "code",
        "colab": {}
      },
      "source": [
        "x_with_labels=torch.cat((x,x0),dim=1)"
      ],
      "execution_count": 0,
      "outputs": []
    },
    {
      "cell_type": "code",
      "metadata": {
        "id": "p2tqd5z_Tvnj",
        "colab_type": "code",
        "colab": {}
      },
      "source": [
        "x_with_labels[numbers_of_labels[0]][-1]"
      ],
      "execution_count": 0,
      "outputs": []
    },
    {
      "cell_type": "code",
      "metadata": {
        "id": "d8t_82uiNcmq",
        "colab_type": "code",
        "colab": {}
      },
      "source": [
        "x1=x_with_labels[torch.randperm(x_with_labels.shape[0])]\n",
        "x2=x1[:int(x_with_labels.shape[0]*0.8)]\n",
        "x3=x1[int(x_with_labels.shape[0]*0.8):]"
      ],
      "execution_count": 0,
      "outputs": []
    },
    {
      "cell_type": "code",
      "metadata": {
        "id": "Go9iwVeDO56g",
        "colab_type": "code",
        "colab": {}
      },
      "source": [
        "sum(x2[:,-1]),sum(x3[:,-1])"
      ],
      "execution_count": 0,
      "outputs": []
    },
    {
      "cell_type": "code",
      "metadata": {
        "id": "Mw7GHAcryH-W",
        "colab_type": "code",
        "colab": {}
      },
      "source": [
        "x4=torch.cat((x2,x_fake1),dim=0)"
      ],
      "execution_count": 0,
      "outputs": []
    },
    {
      "cell_type": "code",
      "metadata": {
        "id": "V0Zt3MubUwIX",
        "colab_type": "code",
        "colab": {}
      },
      "source": [
        "X_train=x4[:,:-1]\n",
        "X_test=x3[:,:-1]\n",
        "y_train=x4[:,-1].long()\n",
        "y_test=x3[:,-1].long()"
      ],
      "execution_count": 0,
      "outputs": []
    },
    {
      "cell_type": "code",
      "metadata": {
        "id": "kpPL-7zGe82f",
        "colab_type": "code",
        "colab": {}
      },
      "source": [
        "y_train"
      ],
      "execution_count": 0,
      "outputs": []
    },
    {
      "cell_type": "code",
      "metadata": {
        "id": "2OJHXkOaVljo",
        "colab_type": "code",
        "colab": {}
      },
      "source": [
        "X_train.shape,X_test.shape,y_train.shape,y_test.shape"
      ],
      "execution_count": 0,
      "outputs": []
    },
    {
      "cell_type": "code",
      "metadata": {
        "id": "9hvWsQ30ah3C",
        "colab_type": "code",
        "colab": {}
      },
      "source": [
        "device = torch.device(\"cuda\" if torch.cuda.is_available() else \"cpu\")\n",
        "X_train.to(device)"
      ],
      "execution_count": 0,
      "outputs": []
    },
    {
      "cell_type": "code",
      "metadata": {
        "id": "gSe5iAp3VuL0",
        "colab_type": "code",
        "colab": {}
      },
      "source": [
        "class MegafonNet(torch.nn.Module):\n",
        "  def __init__(self,n_hidden_neurons):\n",
        "    super(MegafonNet,self).__init__()\n",
        "\n",
        "    self.fc1=torch.nn.Linear(quantity_time_intervals*4,n_hidden_neurons)\n",
        "    self.activ1=torch.nn.LeakyReLU()\n",
        "    self.fc2=torch.nn.Linear(n_hidden_neurons,n_hidden_neurons)\n",
        "    self.activ2=torch.nn.Tanh()\n",
        "    self.fc3=torch.nn.Linear(n_hidden_neurons,2)\n",
        "    self.sm = torch.nn.Softmax(dim=1)\n",
        "  \n",
        "  def forward(self,x):\n",
        "    x=self.fc1(x)\n",
        "    x=self.activ1(x)\n",
        "    x=self.fc2(x)\n",
        "    x=self.activ2(x)\n",
        "    x=self.fc3(x)\n",
        "    return x\n",
        "\n",
        "megafon_net=MegafonNet(100)"
      ],
      "execution_count": 0,
      "outputs": []
    },
    {
      "cell_type": "code",
      "metadata": {
        "id": "Jot4NUjiZmLn",
        "colab_type": "code",
        "colab": {}
      },
      "source": [
        "loss = torch.nn.CrossEntropyLoss()\n",
        "\n",
        "optimizer = torch.optim.Adam(megafon_net.parameters(), \n",
        "                             lr=1.0e-3)"
      ],
      "execution_count": 0,
      "outputs": []
    },
    {
      "cell_type": "code",
      "metadata": {
        "id": "QsEJAC4QZ0TR",
        "colab_type": "code",
        "colab": {}
      },
      "source": [
        "batch_size = 100\n",
        "\n",
        "for epoch in range(50000):\n",
        "    order = torch.randperm(len(X_train))\n",
        "    total_loss=0\n",
        "    iter=0\n",
        "    for start_index in range(0, len(X_train), batch_size):\n",
        "        # print(start_index/len(X_train))\n",
        "        optimizer.zero_grad()\n",
        "        \n",
        "        batch_indexes = order[start_index:start_index+batch_size]\n",
        "        \n",
        "        x_batch = X_train[batch_indexes]\n",
        "        y_batch = y_train[batch_indexes]\n",
        "        \n",
        "        preds = megafon_net.forward(x_batch) \n",
        "        \n",
        "        loss_value = loss(preds, y_batch)\n",
        "        total_loss+=loss_value\n",
        "        iter+=1\n",
        "        loss_value.backward()\n",
        "        \n",
        "        optimizer.step()\n",
        "        \n",
        "    if epoch % 1 == 0:\n",
        "        test_preds = megafon_net.forward(X_test)\n",
        "        print(\"train loss=\",total_loss/iter)\n",
        "        print(\"test loss=\",loss(megafon_net.forward(X_test),y_test))\n",
        "        test_preds = test_preds.argmax(dim=1)\n",
        "        accuracy=((test_preds == y_test).float().mean())\n",
        "        print(\"test accuracy=\",accuracy)\n",
        "        "
      ],
      "execution_count": 0,
      "outputs": []
    },
    {
      "cell_type": "code",
      "metadata": {
        "id": "GyoWva88it3O",
        "colab_type": "code",
        "colab": {}
      },
      "source": [
        "y_test.argmax()"
      ],
      "execution_count": 0,
      "outputs": []
    },
    {
      "cell_type": "code",
      "metadata": {
        "id": "J757-UVSiy0b",
        "colab_type": "code",
        "colab": {}
      },
      "source": [
        "y_test[549947],test_preds[549947]"
      ],
      "execution_count": 0,
      "outputs": []
    },
    {
      "cell_type": "code",
      "metadata": {
        "id": "2wmWFX6hdZYI",
        "colab_type": "code",
        "colab": {}
      },
      "source": [
        "y_batch"
      ],
      "execution_count": 0,
      "outputs": []
    },
    {
      "cell_type": "code",
      "metadata": {
        "id": "0f7j5jAsfvAp",
        "colab_type": "code",
        "colab": {}
      },
      "source": [
        "preds"
      ],
      "execution_count": 0,
      "outputs": []
    },
    {
      "cell_type": "code",
      "metadata": {
        "id": "zQIs0xwHfxmK",
        "colab_type": "code",
        "colab": {}
      },
      "source": [
        ""
      ],
      "execution_count": 0,
      "outputs": []
    }
  ]
}