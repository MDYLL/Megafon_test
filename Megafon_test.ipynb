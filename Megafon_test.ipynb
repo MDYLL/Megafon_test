{
  "nbformat": 4,
  "nbformat_minor": 0,
  "metadata": {
    "colab": {
      "name": "Megafon_test.ipynb",
      "provenance": [],
      "collapsed_sections": [],
      "machine_shape": "hm",
      "authorship_tag": "ABX9TyMRe+fiI/qYQydFzrO41y2a",
      "include_colab_link": true
    },
    "kernelspec": {
      "name": "python3",
      "display_name": "Python 3"
    }
  },
  "cells": [
    {
      "cell_type": "markdown",
      "metadata": {
        "id": "view-in-github",
        "colab_type": "text"
      },
      "source": [
        "<a href=\"https://colab.research.google.com/github/MDYLL/Megafon_test/blob/master/Megafon_test.ipynb\" target=\"_parent\"><img src=\"https://colab.research.google.com/assets/colab-badge.svg\" alt=\"Open In Colab\"/></a>"
      ]
    },
    {
      "cell_type": "code",
      "metadata": {
        "id": "QAH_T0bO_6ql",
        "colab_type": "code",
        "colab": {}
      },
      "source": [
        "import pandas as pd"
      ],
      "execution_count": 0,
      "outputs": []
    },
    {
      "cell_type": "code",
      "metadata": {
        "id": "3VTdfFWlBtqW",
        "colab_type": "code",
        "outputId": "d1e8925e-868d-4e75-92c5-9505cd81e96d",
        "colab": {
          "resources": {
            "http://localhost:8080/nbextensions/google.colab/files.js": {
              "data": "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",
              "ok": true,
              "headers": [
                [
                  "content-type",
                  "application/javascript"
                ]
              ],
              "status": 200,
              "status_text": ""
            }
          },
          "base_uri": "https://localhost:8080/",
          "height": 74
        }
      },
      "source": [
        "from google.colab import files\n",
        "uploaded = files.upload()"
      ],
      "execution_count": 14,
      "outputs": [
        {
          "output_type": "display_data",
          "data": {
            "text/html": [
              "\n",
              "     <input type=\"file\" id=\"files-b342d4fe-1930-48fb-96d5-736beed6baae\" name=\"files[]\" multiple disabled />\n",
              "     <output id=\"result-b342d4fe-1930-48fb-96d5-736beed6baae\">\n",
              "      Upload widget is only available when the cell has been executed in the\n",
              "      current browser session. Please rerun this cell to enable.\n",
              "      </output>\n",
              "      <script src=\"/nbextensions/google.colab/files.js\"></script> "
            ],
            "text/plain": [
              "<IPython.core.display.HTML object>"
            ]
          },
          "metadata": {
            "tags": []
          }
        },
        {
          "output_type": "stream",
          "text": [
            "Saving 021_Data.csv to 021_Data (1).csv\n"
          ],
          "name": "stdout"
        }
      ]
    },
    {
      "cell_type": "code",
      "metadata": {
        "id": "gwJxvMV5Cgg9",
        "colab_type": "code",
        "outputId": "b90487db-dba1-4265-990f-798a14c0ae68",
        "colab": {
          "base_uri": "https://localhost:8080/",
          "height": 34
        }
      },
      "source": [
        "ls"
      ],
      "execution_count": 15,
      "outputs": [
        {
          "output_type": "stream",
          "text": [
            "'021_Data (1).csv'   021_Data.csv   02_Data.csv   \u001b[0m\u001b[01;34msample_data\u001b[0m/\n"
          ],
          "name": "stdout"
        }
      ]
    },
    {
      "cell_type": "code",
      "metadata": {
        "id": "nI5O10DHAEH4",
        "colab_type": "code",
        "colab": {}
      },
      "source": [
        "df=pd.read_csv('02_Data.csv',sep=';')"
      ],
      "execution_count": 0,
      "outputs": []
    },
    {
      "cell_type": "code",
      "metadata": {
        "id": "lRhyMxNqAhST",
        "colab_type": "code",
        "outputId": "1067ffec-a7e5-46f5-8982-dd27ce83bf43",
        "colab": {
          "base_uri": "https://localhost:8080/",
          "height": 195
        }
      },
      "source": [
        "df.head()"
      ],
      "execution_count": 19,
      "outputs": [
        {
          "output_type": "execute_result",
          "data": {
            "text/html": [
              "<div>\n",
              "<style scoped>\n",
              "    .dataframe tbody tr th:only-of-type {\n",
              "        vertical-align: middle;\n",
              "    }\n",
              "\n",
              "    .dataframe tbody tr th {\n",
              "        vertical-align: top;\n",
              "    }\n",
              "\n",
              "    .dataframe thead th {\n",
              "        text-align: right;\n",
              "    }\n",
              "</style>\n",
              "<table border=\"1\" class=\"dataframe\">\n",
              "  <thead>\n",
              "    <tr style=\"text-align: right;\">\n",
              "      <th></th>\n",
              "      <th>lac</th>\n",
              "      <th>cid</th>\n",
              "      <th>msisdn</th>\n",
              "      <th>imei</th>\n",
              "      <th>event_type</th>\n",
              "      <th>tstamp</th>\n",
              "      <th>long</th>\n",
              "      <th>lat</th>\n",
              "      <th>max_dist</th>\n",
              "      <th>cell_type</th>\n",
              "      <th>start_angle</th>\n",
              "      <th>end_angle</th>\n",
              "    </tr>\n",
              "  </thead>\n",
              "  <tbody>\n",
              "    <tr>\n",
              "      <th>0</th>\n",
              "      <td>5029</td>\n",
              "      <td>40798</td>\n",
              "      <td>158529599791</td>\n",
              "      <td>3.531111e+14</td>\n",
              "      <td>0</td>\n",
              "      <td>1369252800974</td>\n",
              "      <td>37.9305</td>\n",
              "      <td>55.7815</td>\n",
              "      <td>2101</td>\n",
              "      <td>OUTDOOR</td>\n",
              "      <td>220.0</td>\n",
              "      <td>280.0</td>\n",
              "    </tr>\n",
              "    <tr>\n",
              "      <th>1</th>\n",
              "      <td>7782</td>\n",
              "      <td>56870</td>\n",
              "      <td>158520145943</td>\n",
              "      <td>1.292900e+13</td>\n",
              "      <td>5</td>\n",
              "      <td>1369252801396</td>\n",
              "      <td>37.4239</td>\n",
              "      <td>55.7426</td>\n",
              "      <td>2</td>\n",
              "      <td>OUTDOOR</td>\n",
              "      <td>45.0</td>\n",
              "      <td>105.0</td>\n",
              "    </tr>\n",
              "    <tr>\n",
              "      <th>2</th>\n",
              "      <td>7794</td>\n",
              "      <td>32226</td>\n",
              "      <td>158521798391</td>\n",
              "      <td>3.519940e+14</td>\n",
              "      <td>5</td>\n",
              "      <td>1369252802013</td>\n",
              "      <td>37.7034</td>\n",
              "      <td>55.5803</td>\n",
              "      <td>1125</td>\n",
              "      <td>OUTDOOR</td>\n",
              "      <td>0.0</td>\n",
              "      <td>60.0</td>\n",
              "    </tr>\n",
              "    <tr>\n",
              "      <th>3</th>\n",
              "      <td>7758</td>\n",
              "      <td>33528</td>\n",
              "      <td>158537830573</td>\n",
              "      <td>3.586270e+14</td>\n",
              "      <td>0</td>\n",
              "      <td>1369252802331</td>\n",
              "      <td>37.7895</td>\n",
              "      <td>55.7042</td>\n",
              "      <td>1158</td>\n",
              "      <td>OUTDOOR</td>\n",
              "      <td>210.0</td>\n",
              "      <td>270.0</td>\n",
              "    </tr>\n",
              "    <tr>\n",
              "      <th>4</th>\n",
              "      <td>5060</td>\n",
              "      <td>17568</td>\n",
              "      <td>158510204039</td>\n",
              "      <td>3.524581e+14</td>\n",
              "      <td>8</td>\n",
              "      <td>1369252803586</td>\n",
              "      <td>37.1900</td>\n",
              "      <td>55.8308</td>\n",
              "      <td>500</td>\n",
              "      <td>OUTDOOR</td>\n",
              "      <td>180.0</td>\n",
              "      <td>240.0</td>\n",
              "    </tr>\n",
              "  </tbody>\n",
              "</table>\n",
              "</div>"
            ],
            "text/plain": [
              "    lac    cid        msisdn  ...  cell_type  start_angle  end_angle\n",
              "0  5029  40798  158529599791  ...    OUTDOOR        220.0      280.0\n",
              "1  7782  56870  158520145943  ...    OUTDOOR         45.0      105.0\n",
              "2  7794  32226  158521798391  ...    OUTDOOR          0.0       60.0\n",
              "3  7758  33528  158537830573  ...    OUTDOOR        210.0      270.0\n",
              "4  5060  17568  158510204039  ...    OUTDOOR        180.0      240.0\n",
              "\n",
              "[5 rows x 12 columns]"
            ]
          },
          "metadata": {
            "tags": []
          },
          "execution_count": 19
        }
      ]
    },
    {
      "cell_type": "code",
      "metadata": {
        "id": "Z6sjy3jQ53J5",
        "colab_type": "code",
        "outputId": "c6b58f62-706a-4dab-fe4f-4731592ef64e",
        "colab": {
          "base_uri": "https://localhost:8080/",
          "height": 50
        }
      },
      "source": [
        "pd.to_datetime(df.tstamp.min(), unit='ms'),pd.to_datetime(df.tstamp.max(), unit='ms')"
      ],
      "execution_count": 20,
      "outputs": [
        {
          "output_type": "execute_result",
          "data": {
            "text/plain": [
              "(Timestamp('2013-05-22 20:00:00.974000'),\n",
              " Timestamp('2013-05-30 16:29:37.643000'))"
            ]
          },
          "metadata": {
            "tags": []
          },
          "execution_count": 20
        }
      ]
    },
    {
      "cell_type": "code",
      "metadata": {
        "id": "A9RIuQAQQsMF",
        "colab_type": "code",
        "colab": {}
      },
      "source": [
        "df=df.drop(['lac','cid','imei','event_type','max_dist','cell_type','start_angle','end_angle'],axis=1)\n",
        "df.tstamp//=1000"
      ],
      "execution_count": 0,
      "outputs": []
    },
    {
      "cell_type": "code",
      "metadata": {
        "id": "TJW4RJxkRPqX",
        "colab_type": "code",
        "outputId": "55bd218d-bdee-46c8-8cc5-42227da8a575",
        "colab": {
          "base_uri": "https://localhost:8080/",
          "height": 195
        }
      },
      "source": [
        "df.head()"
      ],
      "execution_count": 22,
      "outputs": [
        {
          "output_type": "execute_result",
          "data": {
            "text/html": [
              "<div>\n",
              "<style scoped>\n",
              "    .dataframe tbody tr th:only-of-type {\n",
              "        vertical-align: middle;\n",
              "    }\n",
              "\n",
              "    .dataframe tbody tr th {\n",
              "        vertical-align: top;\n",
              "    }\n",
              "\n",
              "    .dataframe thead th {\n",
              "        text-align: right;\n",
              "    }\n",
              "</style>\n",
              "<table border=\"1\" class=\"dataframe\">\n",
              "  <thead>\n",
              "    <tr style=\"text-align: right;\">\n",
              "      <th></th>\n",
              "      <th>msisdn</th>\n",
              "      <th>tstamp</th>\n",
              "      <th>long</th>\n",
              "      <th>lat</th>\n",
              "    </tr>\n",
              "  </thead>\n",
              "  <tbody>\n",
              "    <tr>\n",
              "      <th>0</th>\n",
              "      <td>158529599791</td>\n",
              "      <td>1369252800</td>\n",
              "      <td>37.9305</td>\n",
              "      <td>55.7815</td>\n",
              "    </tr>\n",
              "    <tr>\n",
              "      <th>1</th>\n",
              "      <td>158520145943</td>\n",
              "      <td>1369252801</td>\n",
              "      <td>37.4239</td>\n",
              "      <td>55.7426</td>\n",
              "    </tr>\n",
              "    <tr>\n",
              "      <th>2</th>\n",
              "      <td>158521798391</td>\n",
              "      <td>1369252802</td>\n",
              "      <td>37.7034</td>\n",
              "      <td>55.5803</td>\n",
              "    </tr>\n",
              "    <tr>\n",
              "      <th>3</th>\n",
              "      <td>158537830573</td>\n",
              "      <td>1369252802</td>\n",
              "      <td>37.7895</td>\n",
              "      <td>55.7042</td>\n",
              "    </tr>\n",
              "    <tr>\n",
              "      <th>4</th>\n",
              "      <td>158510204039</td>\n",
              "      <td>1369252803</td>\n",
              "      <td>37.1900</td>\n",
              "      <td>55.8308</td>\n",
              "    </tr>\n",
              "  </tbody>\n",
              "</table>\n",
              "</div>"
            ],
            "text/plain": [
              "         msisdn      tstamp     long      lat\n",
              "0  158529599791  1369252800  37.9305  55.7815\n",
              "1  158520145943  1369252801  37.4239  55.7426\n",
              "2  158521798391  1369252802  37.7034  55.5803\n",
              "3  158537830573  1369252802  37.7895  55.7042\n",
              "4  158510204039  1369252803  37.1900  55.8308"
            ]
          },
          "metadata": {
            "tags": []
          },
          "execution_count": 22
        }
      ]
    },
    {
      "cell_type": "code",
      "metadata": {
        "id": "MGKbTFxuCnrC",
        "colab_type": "code",
        "outputId": "8bbfe806-4a7c-4f70-bd0c-858cb95cd7d7",
        "colab": {
          "base_uri": "https://localhost:8080/",
          "height": 34
        }
      },
      "source": [
        "unique_numbers=df['msisdn'].unique()\n",
        "len(unique_numbers)"
      ],
      "execution_count": 23,
      "outputs": [
        {
          "output_type": "execute_result",
          "data": {
            "text/plain": [
              "2361"
            ]
          },
          "metadata": {
            "tags": []
          },
          "execution_count": 23
        }
      ]
    },
    {
      "cell_type": "code",
      "metadata": {
        "id": "fa6Irs5vRyBe",
        "colab_type": "code",
        "colab": {}
      },
      "source": [
        "df.tstamp-=df.tstamp.min(axis=0)\n",
        "quantity_time_intervals=30\n",
        "min_tstamp=df.tstamp.min(axis=0)\n",
        "max_tstamp=df.tstamp.max(axis=0)\n",
        "time_period=(max_tstamp-min_tstamp)//quantity_time_intervals\n",
        "# time_intervals=[el for el in range(0,max_tstamp,time_period)]\n",
        "df_norm=pd.DataFrame(columns=df.columns)"
      ],
      "execution_count": 0,
      "outputs": []
    },
    {
      "cell_type": "code",
      "metadata": {
        "id": "44S1RsPUeWte",
        "colab_type": "code",
        "colab": {
          "base_uri": "https://localhost:8080/",
          "height": 402
        },
        "outputId": "848bd023-dfa8-4868-eb2b-ad9e6d1ee245"
      },
      "source": [
        "df"
      ],
      "execution_count": 25,
      "outputs": [
        {
          "output_type": "execute_result",
          "data": {
            "text/html": [
              "<div>\n",
              "<style scoped>\n",
              "    .dataframe tbody tr th:only-of-type {\n",
              "        vertical-align: middle;\n",
              "    }\n",
              "\n",
              "    .dataframe tbody tr th {\n",
              "        vertical-align: top;\n",
              "    }\n",
              "\n",
              "    .dataframe thead th {\n",
              "        text-align: right;\n",
              "    }\n",
              "</style>\n",
              "<table border=\"1\" class=\"dataframe\">\n",
              "  <thead>\n",
              "    <tr style=\"text-align: right;\">\n",
              "      <th></th>\n",
              "      <th>msisdn</th>\n",
              "      <th>tstamp</th>\n",
              "      <th>long</th>\n",
              "      <th>lat</th>\n",
              "    </tr>\n",
              "  </thead>\n",
              "  <tbody>\n",
              "    <tr>\n",
              "      <th>0</th>\n",
              "      <td>158529599791</td>\n",
              "      <td>0</td>\n",
              "      <td>37.9305</td>\n",
              "      <td>55.7815</td>\n",
              "    </tr>\n",
              "    <tr>\n",
              "      <th>1</th>\n",
              "      <td>158520145943</td>\n",
              "      <td>1</td>\n",
              "      <td>37.4239</td>\n",
              "      <td>55.7426</td>\n",
              "    </tr>\n",
              "    <tr>\n",
              "      <th>2</th>\n",
              "      <td>158521798391</td>\n",
              "      <td>2</td>\n",
              "      <td>37.7034</td>\n",
              "      <td>55.5803</td>\n",
              "    </tr>\n",
              "    <tr>\n",
              "      <th>3</th>\n",
              "      <td>158537830573</td>\n",
              "      <td>2</td>\n",
              "      <td>37.7895</td>\n",
              "      <td>55.7042</td>\n",
              "    </tr>\n",
              "    <tr>\n",
              "      <th>4</th>\n",
              "      <td>158510204039</td>\n",
              "      <td>3</td>\n",
              "      <td>37.1900</td>\n",
              "      <td>55.8308</td>\n",
              "    </tr>\n",
              "    <tr>\n",
              "      <th>...</th>\n",
              "      <td>...</td>\n",
              "      <td>...</td>\n",
              "      <td>...</td>\n",
              "      <td>...</td>\n",
              "    </tr>\n",
              "    <tr>\n",
              "      <th>174118</th>\n",
              "      <td>158503851673</td>\n",
              "      <td>673967</td>\n",
              "      <td>37.6178</td>\n",
              "      <td>55.7370</td>\n",
              "    </tr>\n",
              "    <tr>\n",
              "      <th>174119</th>\n",
              "      <td>158503851673</td>\n",
              "      <td>674287</td>\n",
              "      <td>37.6217</td>\n",
              "      <td>55.7363</td>\n",
              "    </tr>\n",
              "    <tr>\n",
              "      <th>174120</th>\n",
              "      <td>158503851673</td>\n",
              "      <td>675316</td>\n",
              "      <td>37.6217</td>\n",
              "      <td>55.7363</td>\n",
              "    </tr>\n",
              "    <tr>\n",
              "      <th>174121</th>\n",
              "      <td>158503851673</td>\n",
              "      <td>678091</td>\n",
              "      <td>37.7856</td>\n",
              "      <td>55.7508</td>\n",
              "    </tr>\n",
              "    <tr>\n",
              "      <th>174122</th>\n",
              "      <td>158503851673</td>\n",
              "      <td>678577</td>\n",
              "      <td>37.3426</td>\n",
              "      <td>55.4158</td>\n",
              "    </tr>\n",
              "  </tbody>\n",
              "</table>\n",
              "<p>174123 rows × 4 columns</p>\n",
              "</div>"
            ],
            "text/plain": [
              "              msisdn  tstamp     long      lat\n",
              "0       158529599791       0  37.9305  55.7815\n",
              "1       158520145943       1  37.4239  55.7426\n",
              "2       158521798391       2  37.7034  55.5803\n",
              "3       158537830573       2  37.7895  55.7042\n",
              "4       158510204039       3  37.1900  55.8308\n",
              "...              ...     ...      ...      ...\n",
              "174118  158503851673  673967  37.6178  55.7370\n",
              "174119  158503851673  674287  37.6217  55.7363\n",
              "174120  158503851673  675316  37.6217  55.7363\n",
              "174121  158503851673  678091  37.7856  55.7508\n",
              "174122  158503851673  678577  37.3426  55.4158\n",
              "\n",
              "[174123 rows x 4 columns]"
            ]
          },
          "metadata": {
            "tags": []
          },
          "execution_count": 25
        }
      ]
    },
    {
      "cell_type": "code",
      "metadata": {
        "id": "7g79XACheP0N",
        "colab_type": "code",
        "outputId": "9fe9caf3-92fc-402e-a9d7-638583c1cfbd",
        "colab": {
          "base_uri": "https://localhost:8080/",
          "height": 34
        }
      },
      "source": [
        "min_tstamp,max_tstamp,time_period"
      ],
      "execution_count": 26,
      "outputs": [
        {
          "output_type": "execute_result",
          "data": {
            "text/plain": [
              "(0, 678577, 22619)"
            ]
          },
          "metadata": {
            "tags": []
          },
          "execution_count": 26
        }
      ]
    },
    {
      "cell_type": "code",
      "metadata": {
        "id": "n_FF7PwjIaqd",
        "colab_type": "code",
        "colab": {}
      },
      "source": [
        "import collections\n",
        "current_tstamp=collections.defaultdict(tuple)\n",
        "for number in unique_numbers:\n",
        "  df1=df.loc[df.msisdn==number]\n",
        "  idx=df1.tstamp.idxmax()\n",
        "  current_tstamp[number]=(df.at[idx,'long'],df.at[idx,'lat'])\n"
      ],
      "execution_count": 0,
      "outputs": []
    },
    {
      "cell_type": "code",
      "metadata": {
        "id": "cfOUqHbaY0YO",
        "colab_type": "code",
        "outputId": "e4b67837-bce9-410f-e6f9-b5a11fa224e6",
        "colab": {
          "base_uri": "https://localhost:8080/",
          "height": 34
        }
      },
      "source": [
        "df_norm=pd.DataFrame(columns=df.columns)\n",
        "for i in range(0,quantity_time_intervals):\n",
        "  print(i,end=' ')\n",
        "  for number in unique_numbers:\n",
        "  # for j in range(1):\n",
        "    # number=158510204039\n",
        "    df1=df.loc[(df.msisdn==number)&(df.tstamp<=max_tstamp-i*time_period)&(df.tstamp>max_tstamp-(i+1)*time_period)]\n",
        "    if df1.size>0:\n",
        "      idx=df1.tstamp.idxmax()\n",
        "      df_norm=df_norm.append(df.iloc[[idx]])\n",
        "      # df_norm.at[idx,'tstamp']=max_tstamp-i*time_period\n",
        "      df_norm.at[idx,'tstamp']=i\n",
        "      current_tstamp[number]=(df1.at[idx,'long'],df1.at[idx,'lat'])\n",
        "      # if number==158510204039:\n",
        "      #   print(df1.shape)\n",
        "      #   print(idx)\n",
        "      #   print(i,current_tstamp[number])\n",
        "    else:\n",
        "      # print('**************')\n",
        "      # print(i)\n",
        "      # df_norm=df_norm.append({'msisdn':number,'tstamp':max_tstamp-i*time_period,'long':current_tstamp[number][0],'lat':current_tstamp[number][1]},ignore_index=True)\n",
        "      df_norm=df_norm.append({'msisdn':number,'tstamp':i,'long':current_tstamp[number][0],'lat':current_tstamp[number][1]},ignore_index=True)"
      ],
      "execution_count": 59,
      "outputs": [
        {
          "output_type": "stream",
          "text": [
            "0 1 2 3 4 5 6 7 8 9 10 11 12 13 14 15 16 17 18 19 20 21 22 23 24 25 26 27 28 29 "
          ],
          "name": "stdout"
        }
      ]
    },
    {
      "cell_type": "code",
      "metadata": {
        "id": "ZDcAdtHjQyPr",
        "colab_type": "code",
        "colab": {
          "base_uri": "https://localhost:8080/",
          "height": 402
        },
        "outputId": "0f42ad2d-1b48-4547-d10b-d07a406e4e32"
      },
      "source": [
        "df_norm=df_norm.astype({'msisdn':int,'tstamp':int})\n",
        "# df_norm.loc[df_norm.msisdn==158510204039]\n",
        "df_norm"
      ],
      "execution_count": 79,
      "outputs": [
        {
          "output_type": "execute_result",
          "data": {
            "text/html": [
              "<div>\n",
              "<style scoped>\n",
              "    .dataframe tbody tr th:only-of-type {\n",
              "        vertical-align: middle;\n",
              "    }\n",
              "\n",
              "    .dataframe tbody tr th {\n",
              "        vertical-align: top;\n",
              "    }\n",
              "\n",
              "    .dataframe thead th {\n",
              "        text-align: right;\n",
              "    }\n",
              "</style>\n",
              "<table border=\"1\" class=\"dataframe\">\n",
              "  <thead>\n",
              "    <tr style=\"text-align: right;\">\n",
              "      <th></th>\n",
              "      <th>msisdn</th>\n",
              "      <th>tstamp</th>\n",
              "      <th>long</th>\n",
              "      <th>lat</th>\n",
              "    </tr>\n",
              "  </thead>\n",
              "  <tbody>\n",
              "    <tr>\n",
              "      <th>0</th>\n",
              "      <td>158529599791</td>\n",
              "      <td>0</td>\n",
              "      <td>37.9189</td>\n",
              "      <td>55.7804</td>\n",
              "    </tr>\n",
              "    <tr>\n",
              "      <th>1</th>\n",
              "      <td>158520145943</td>\n",
              "      <td>0</td>\n",
              "      <td>37.6034</td>\n",
              "      <td>55.7525</td>\n",
              "    </tr>\n",
              "    <tr>\n",
              "      <th>2</th>\n",
              "      <td>158521798391</td>\n",
              "      <td>0</td>\n",
              "      <td>37.7034</td>\n",
              "      <td>55.5803</td>\n",
              "    </tr>\n",
              "    <tr>\n",
              "      <th>3</th>\n",
              "      <td>158537830573</td>\n",
              "      <td>0</td>\n",
              "      <td>37.7769</td>\n",
              "      <td>55.6989</td>\n",
              "    </tr>\n",
              "    <tr>\n",
              "      <th>4</th>\n",
              "      <td>158510204039</td>\n",
              "      <td>0</td>\n",
              "      <td>37.1256</td>\n",
              "      <td>55.8134</td>\n",
              "    </tr>\n",
              "    <tr>\n",
              "      <th>...</th>\n",
              "      <td>...</td>\n",
              "      <td>...</td>\n",
              "      <td>...</td>\n",
              "      <td>...</td>\n",
              "    </tr>\n",
              "    <tr>\n",
              "      <th>70825</th>\n",
              "      <td>158599104843</td>\n",
              "      <td>29</td>\n",
              "      <td>37.0184</td>\n",
              "      <td>55.7105</td>\n",
              "    </tr>\n",
              "    <tr>\n",
              "      <th>70826</th>\n",
              "      <td>158500569307</td>\n",
              "      <td>29</td>\n",
              "      <td>37.8184</td>\n",
              "      <td>55.8072</td>\n",
              "    </tr>\n",
              "    <tr>\n",
              "      <th>70827</th>\n",
              "      <td>158532716103</td>\n",
              "      <td>29</td>\n",
              "      <td>37.7199</td>\n",
              "      <td>55.8921</td>\n",
              "    </tr>\n",
              "    <tr>\n",
              "      <th>70828</th>\n",
              "      <td>158503851673</td>\n",
              "      <td>29</td>\n",
              "      <td>37.6542</td>\n",
              "      <td>55.7415</td>\n",
              "    </tr>\n",
              "    <tr>\n",
              "      <th>70829</th>\n",
              "      <td>158528849161</td>\n",
              "      <td>29</td>\n",
              "      <td>37.5876</td>\n",
              "      <td>55.7912</td>\n",
              "    </tr>\n",
              "  </tbody>\n",
              "</table>\n",
              "<p>70830 rows × 4 columns</p>\n",
              "</div>"
            ],
            "text/plain": [
              "             msisdn  tstamp     long      lat\n",
              "0      158529599791       0  37.9189  55.7804\n",
              "1      158520145943       0  37.6034  55.7525\n",
              "2      158521798391       0  37.7034  55.5803\n",
              "3      158537830573       0  37.7769  55.6989\n",
              "4      158510204039       0  37.1256  55.8134\n",
              "...             ...     ...      ...      ...\n",
              "70825  158599104843      29  37.0184  55.7105\n",
              "70826  158500569307      29  37.8184  55.8072\n",
              "70827  158532716103      29  37.7199  55.8921\n",
              "70828  158503851673      29  37.6542  55.7415\n",
              "70829  158528849161      29  37.5876  55.7912\n",
              "\n",
              "[70830 rows x 4 columns]"
            ]
          },
          "metadata": {
            "tags": []
          },
          "execution_count": 79
        }
      ]
    },
    {
      "cell_type": "code",
      "metadata": {
        "id": "5kgsLn7wkD2C",
        "colab_type": "code",
        "colab": {}
      },
      "source": [
        "# pair_dist=dict()\n",
        "# idx=0\n",
        "# for i in unique_numbers:\n",
        "#   idx+=1\n",
        "#   print(idx,end=' ')\n",
        "#   for j in unique_numbers:\n",
        "#     if i<j:\n",
        "#       continue\n",
        "#     dist=0\n",
        "#     for k in range(max_tstamp,min_tstamp+time_period,-time_period):\n",
        "#       long1=df_norm.loc[(df_norm.msisdn==i)&(df_norm.tstamp==k)].long.max()\n",
        "#       long2=df_norm.loc[(df_norm.msisdn==j)&(df_norm.tstamp==k)].long.max()\n",
        "#       lat1=df_norm.loc[(df_norm.msisdn==i)&(df_norm.tstamp==k)].lat.max()\n",
        "#       lat2=df_norm.loc[(df_norm.msisdn==j)&(df_norm.tstamp==k)].lat.max()\n",
        "#       dist+=((long1-long2)*(long1-long2)+(lat1-lat2)*(lat1-lat2))**0.5\n",
        "#     pair_dist[(i,j)]=dist"
      ],
      "execution_count": 0,
      "outputs": []
    },
    {
      "cell_type": "code",
      "metadata": {
        "id": "fWfJjMhZuGs7",
        "colab_type": "code",
        "colab": {}
      },
      "source": [
        "# df_norm1=df_norm.copy()"
      ],
      "execution_count": 0,
      "outputs": []
    },
    {
      "cell_type": "code",
      "metadata": {
        "id": "JhRvOnOtfPtA",
        "colab_type": "code",
        "colab": {}
      },
      "source": [
        "# df_norm1=df_norm1.rename(columns={'msisdn':'msisdn1','tstamp':'tstamp1','long':'long1','lat':'lat1'})"
      ],
      "execution_count": 0,
      "outputs": []
    },
    {
      "cell_type": "code",
      "metadata": {
        "id": "XaWUzbHTfRQC",
        "colab_type": "code",
        "colab": {}
      },
      "source": [
        "# a.assign(key=1).merge(b.assign(key=1), on='key').drop('key',axis=1)\n",
        "# df_pairs=df_norm.assign(key=1).merge(df_norm1.assign(key=1),on='key').drop('key',axis=1)"
      ],
      "execution_count": 0,
      "outputs": []
    },
    {
      "cell_type": "code",
      "metadata": {
        "id": "fi6WnSIrgN_u",
        "colab_type": "code",
        "colab": {
          "base_uri": "https://localhost:8080/",
          "height": 34
        },
        "outputId": "9232554a-d9d0-48bd-b735-0af1ddd61533"
      },
      "source": [
        "import torch\n",
        "(int(len(unique_numbers)*(len(unique_numbers)-1)/2),2*2*quantity_time_intervals)"
      ],
      "execution_count": 62,
      "outputs": [
        {
          "output_type": "execute_result",
          "data": {
            "text/plain": [
              "(2785980, 120)"
            ]
          },
          "metadata": {
            "tags": []
          },
          "execution_count": 62
        }
      ]
    },
    {
      "cell_type": "code",
      "metadata": {
        "id": "kg1i4rUfkO2Q",
        "colab_type": "code",
        "colab": {}
      },
      "source": [
        "x=torch.zeros((int(len(unique_numbers)*(len(unique_numbers)-1)/2),2*2*quantity_time_intervals))"
      ],
      "execution_count": 0,
      "outputs": []
    },
    {
      "cell_type": "code",
      "metadata": {
        "id": "voV-6Ly_kY3N",
        "colab_type": "code",
        "colab": {
          "base_uri": "https://localhost:8080/",
          "height": 34
        },
        "outputId": "11ba395e-c5d7-4cc3-bb5d-d3881ebe1714"
      },
      "source": [
        "x.shape"
      ],
      "execution_count": 64,
      "outputs": [
        {
          "output_type": "execute_result",
          "data": {
            "text/plain": [
              "torch.Size([2785980, 120])"
            ]
          },
          "metadata": {
            "tags": []
          },
          "execution_count": 64
        }
      ]
    },
    {
      "cell_type": "code",
      "metadata": {
        "id": "j5aTQFKcwskS",
        "colab_type": "code",
        "colab": {
          "base_uri": "https://localhost:8080/",
          "height": 935
        },
        "outputId": "155b55ff-d0ca-49b5-91a1-88fa9850e893"
      },
      "source": [
        "# x[0]=torch.tensor([el for el in range(120)])\n",
        "idx=0\n",
        "row=[el for el in range(120)]\n",
        "x[idx]=torch.tensor(row)\n",
        "i=unique_numbers[0]\n",
        "k=7\n",
        "df_norm.loc[df_norm['msisdn']==i]\n",
        "# a=df_norm.loc[(df_norm['msisdn']==i)&(df_norm['tstamp']==k)]['lat'].values[0]\n",
        "# row=[]\n",
        "# row.append(df_norm.loc[(df_norm['msisdn']==i)&(df_norm['tstamp']==k)]['lat'].values[0])\n",
        "# row"
      ],
      "execution_count": 98,
      "outputs": [
        {
          "output_type": "execute_result",
          "data": {
            "text/html": [
              "<div>\n",
              "<style scoped>\n",
              "    .dataframe tbody tr th:only-of-type {\n",
              "        vertical-align: middle;\n",
              "    }\n",
              "\n",
              "    .dataframe tbody tr th {\n",
              "        vertical-align: top;\n",
              "    }\n",
              "\n",
              "    .dataframe thead th {\n",
              "        text-align: right;\n",
              "    }\n",
              "</style>\n",
              "<table border=\"1\" class=\"dataframe\">\n",
              "  <thead>\n",
              "    <tr style=\"text-align: right;\">\n",
              "      <th></th>\n",
              "      <th>msisdn</th>\n",
              "      <th>tstamp</th>\n",
              "      <th>long</th>\n",
              "      <th>lat</th>\n",
              "    </tr>\n",
              "  </thead>\n",
              "  <tbody>\n",
              "    <tr>\n",
              "      <th>0</th>\n",
              "      <td>158529599791</td>\n",
              "      <td>0</td>\n",
              "      <td>37.9189</td>\n",
              "      <td>55.7804</td>\n",
              "    </tr>\n",
              "    <tr>\n",
              "      <th>2361</th>\n",
              "      <td>158529599791</td>\n",
              "      <td>1</td>\n",
              "      <td>37.9189</td>\n",
              "      <td>55.7804</td>\n",
              "    </tr>\n",
              "    <tr>\n",
              "      <th>4722</th>\n",
              "      <td>158529599791</td>\n",
              "      <td>2</td>\n",
              "      <td>37.9189</td>\n",
              "      <td>55.7804</td>\n",
              "    </tr>\n",
              "    <tr>\n",
              "      <th>7083</th>\n",
              "      <td>158529599791</td>\n",
              "      <td>3</td>\n",
              "      <td>37.9189</td>\n",
              "      <td>55.7804</td>\n",
              "    </tr>\n",
              "    <tr>\n",
              "      <th>9444</th>\n",
              "      <td>158529599791</td>\n",
              "      <td>4</td>\n",
              "      <td>37.9189</td>\n",
              "      <td>55.7804</td>\n",
              "    </tr>\n",
              "    <tr>\n",
              "      <th>11805</th>\n",
              "      <td>158529599791</td>\n",
              "      <td>5</td>\n",
              "      <td>37.9189</td>\n",
              "      <td>55.7804</td>\n",
              "    </tr>\n",
              "    <tr>\n",
              "      <th>14166</th>\n",
              "      <td>158529599791</td>\n",
              "      <td>6</td>\n",
              "      <td>37.9189</td>\n",
              "      <td>55.7804</td>\n",
              "    </tr>\n",
              "    <tr>\n",
              "      <th>16527</th>\n",
              "      <td>158529599791</td>\n",
              "      <td>28</td>\n",
              "      <td>37.9189</td>\n",
              "      <td>55.7804</td>\n",
              "    </tr>\n",
              "    <tr>\n",
              "      <th>18888</th>\n",
              "      <td>158529599791</td>\n",
              "      <td>8</td>\n",
              "      <td>37.9189</td>\n",
              "      <td>55.7804</td>\n",
              "    </tr>\n",
              "    <tr>\n",
              "      <th>21249</th>\n",
              "      <td>158529599791</td>\n",
              "      <td>9</td>\n",
              "      <td>37.9189</td>\n",
              "      <td>55.7804</td>\n",
              "    </tr>\n",
              "    <tr>\n",
              "      <th>23610</th>\n",
              "      <td>158529599791</td>\n",
              "      <td>10</td>\n",
              "      <td>37.9189</td>\n",
              "      <td>55.7804</td>\n",
              "    </tr>\n",
              "    <tr>\n",
              "      <th>25971</th>\n",
              "      <td>158529599791</td>\n",
              "      <td>11</td>\n",
              "      <td>37.9189</td>\n",
              "      <td>55.7804</td>\n",
              "    </tr>\n",
              "    <tr>\n",
              "      <th>28332</th>\n",
              "      <td>158529599791</td>\n",
              "      <td>12</td>\n",
              "      <td>37.9189</td>\n",
              "      <td>55.7804</td>\n",
              "    </tr>\n",
              "    <tr>\n",
              "      <th>30693</th>\n",
              "      <td>158529599791</td>\n",
              "      <td>27</td>\n",
              "      <td>37.9189</td>\n",
              "      <td>55.7804</td>\n",
              "    </tr>\n",
              "    <tr>\n",
              "      <th>33054</th>\n",
              "      <td>158529599791</td>\n",
              "      <td>14</td>\n",
              "      <td>37.9189</td>\n",
              "      <td>55.7804</td>\n",
              "    </tr>\n",
              "    <tr>\n",
              "      <th>35415</th>\n",
              "      <td>158529599791</td>\n",
              "      <td>15</td>\n",
              "      <td>37.9189</td>\n",
              "      <td>55.7804</td>\n",
              "    </tr>\n",
              "    <tr>\n",
              "      <th>37776</th>\n",
              "      <td>158529599791</td>\n",
              "      <td>16</td>\n",
              "      <td>37.9189</td>\n",
              "      <td>55.7804</td>\n",
              "    </tr>\n",
              "    <tr>\n",
              "      <th>40137</th>\n",
              "      <td>158529599791</td>\n",
              "      <td>27</td>\n",
              "      <td>37.9189</td>\n",
              "      <td>55.7804</td>\n",
              "    </tr>\n",
              "    <tr>\n",
              "      <th>42498</th>\n",
              "      <td>158529599791</td>\n",
              "      <td>26</td>\n",
              "      <td>37.9270</td>\n",
              "      <td>55.7736</td>\n",
              "    </tr>\n",
              "    <tr>\n",
              "      <th>44859</th>\n",
              "      <td>158529599791</td>\n",
              "      <td>19</td>\n",
              "      <td>37.7520</td>\n",
              "      <td>55.7587</td>\n",
              "    </tr>\n",
              "    <tr>\n",
              "      <th>47220</th>\n",
              "      <td>158529599791</td>\n",
              "      <td>20</td>\n",
              "      <td>37.9270</td>\n",
              "      <td>55.7736</td>\n",
              "    </tr>\n",
              "    <tr>\n",
              "      <th>49581</th>\n",
              "      <td>158529599791</td>\n",
              "      <td>21</td>\n",
              "      <td>37.9052</td>\n",
              "      <td>55.7793</td>\n",
              "    </tr>\n",
              "    <tr>\n",
              "      <th>51942</th>\n",
              "      <td>158529599791</td>\n",
              "      <td>22</td>\n",
              "      <td>37.8930</td>\n",
              "      <td>55.7920</td>\n",
              "    </tr>\n",
              "    <tr>\n",
              "      <th>54303</th>\n",
              "      <td>158529599791</td>\n",
              "      <td>23</td>\n",
              "      <td>37.8930</td>\n",
              "      <td>55.7920</td>\n",
              "    </tr>\n",
              "    <tr>\n",
              "      <th>56664</th>\n",
              "      <td>158529599791</td>\n",
              "      <td>24</td>\n",
              "      <td>37.8778</td>\n",
              "      <td>55.7647</td>\n",
              "    </tr>\n",
              "    <tr>\n",
              "      <th>59025</th>\n",
              "      <td>158529599791</td>\n",
              "      <td>25</td>\n",
              "      <td>37.8778</td>\n",
              "      <td>55.7647</td>\n",
              "    </tr>\n",
              "    <tr>\n",
              "      <th>61386</th>\n",
              "      <td>158529599791</td>\n",
              "      <td>26</td>\n",
              "      <td>37.9305</td>\n",
              "      <td>55.7815</td>\n",
              "    </tr>\n",
              "    <tr>\n",
              "      <th>63747</th>\n",
              "      <td>158529599791</td>\n",
              "      <td>27</td>\n",
              "      <td>37.8930</td>\n",
              "      <td>55.7920</td>\n",
              "    </tr>\n",
              "    <tr>\n",
              "      <th>66108</th>\n",
              "      <td>158529599791</td>\n",
              "      <td>28</td>\n",
              "      <td>37.8778</td>\n",
              "      <td>55.7647</td>\n",
              "    </tr>\n",
              "    <tr>\n",
              "      <th>68469</th>\n",
              "      <td>158529599791</td>\n",
              "      <td>29</td>\n",
              "      <td>37.9189</td>\n",
              "      <td>55.7804</td>\n",
              "    </tr>\n",
              "  </tbody>\n",
              "</table>\n",
              "</div>"
            ],
            "text/plain": [
              "             msisdn  tstamp     long      lat\n",
              "0      158529599791       0  37.9189  55.7804\n",
              "2361   158529599791       1  37.9189  55.7804\n",
              "4722   158529599791       2  37.9189  55.7804\n",
              "7083   158529599791       3  37.9189  55.7804\n",
              "9444   158529599791       4  37.9189  55.7804\n",
              "11805  158529599791       5  37.9189  55.7804\n",
              "14166  158529599791       6  37.9189  55.7804\n",
              "16527  158529599791      28  37.9189  55.7804\n",
              "18888  158529599791       8  37.9189  55.7804\n",
              "21249  158529599791       9  37.9189  55.7804\n",
              "23610  158529599791      10  37.9189  55.7804\n",
              "25971  158529599791      11  37.9189  55.7804\n",
              "28332  158529599791      12  37.9189  55.7804\n",
              "30693  158529599791      27  37.9189  55.7804\n",
              "33054  158529599791      14  37.9189  55.7804\n",
              "35415  158529599791      15  37.9189  55.7804\n",
              "37776  158529599791      16  37.9189  55.7804\n",
              "40137  158529599791      27  37.9189  55.7804\n",
              "42498  158529599791      26  37.9270  55.7736\n",
              "44859  158529599791      19  37.7520  55.7587\n",
              "47220  158529599791      20  37.9270  55.7736\n",
              "49581  158529599791      21  37.9052  55.7793\n",
              "51942  158529599791      22  37.8930  55.7920\n",
              "54303  158529599791      23  37.8930  55.7920\n",
              "56664  158529599791      24  37.8778  55.7647\n",
              "59025  158529599791      25  37.8778  55.7647\n",
              "61386  158529599791      26  37.9305  55.7815\n",
              "63747  158529599791      27  37.8930  55.7920\n",
              "66108  158529599791      28  37.8778  55.7647\n",
              "68469  158529599791      29  37.9189  55.7804"
            ]
          },
          "metadata": {
            "tags": []
          },
          "execution_count": 98
        }
      ]
    },
    {
      "cell_type": "code",
      "metadata": {
        "id": "bxg3EfxRka_M",
        "colab_type": "code",
        "colab": {
          "base_uri": "https://localhost:8080/",
          "height": 246
        },
        "outputId": "6f8c637b-3658-4097-cdbb-bdc7e10232d4"
      },
      "source": [
        "idx=0\n",
        "for i in unique_numbers:\n",
        "  for j in unique_numbers:\n",
        "    if i<=j:\n",
        "      continue\n",
        "    row=[]\n",
        "    for k in range(quantity_time_intervals):\n",
        "      print(k,end=' ')\n",
        "      row.append(df_norm.loc[(df_norm['msisdn']==i)&(df_norm['tstamp']==k)]['lat'].values[0])\n",
        "      row.append(df_norm.loc[(df_norm['msisdn']==i)&(df_norm['tstamp']==k)]['long'].values[0])\n",
        "    for k in range(quantity_time_intervals):\n",
        "      row.append(df_norm.loc[(df_norm['msisdn']==j)&(df_norm['tstamp']==k)]['lat'].values[0])\n",
        "      row.append(df_norm.loc[(df_norm['msisdn']==j)&(df_norm['tstamp']==k)]['long'].values[0])\n",
        "    x[idx]=torch.tensor(row)\n",
        "    idx+=1\n",
        "    print(idx,end=' ')\n",
        "    \n",
        "    "
      ],
      "execution_count": 95,
      "outputs": [
        {
          "output_type": "stream",
          "text": [
            "0 1 2 3 4 5 6 7 "
          ],
          "name": "stdout"
        },
        {
          "output_type": "error",
          "ename": "IndexError",
          "evalue": "ignored",
          "traceback": [
            "\u001b[0;31m---------------------------------------------------------------------------\u001b[0m",
            "\u001b[0;31mIndexError\u001b[0m                                Traceback (most recent call last)",
            "\u001b[0;32m<ipython-input-95-5bb6a7a955b0>\u001b[0m in \u001b[0;36m<module>\u001b[0;34m()\u001b[0m\n\u001b[1;32m      7\u001b[0m     \u001b[0;32mfor\u001b[0m \u001b[0mk\u001b[0m \u001b[0;32min\u001b[0m \u001b[0mrange\u001b[0m\u001b[0;34m(\u001b[0m\u001b[0mquantity_time_intervals\u001b[0m\u001b[0;34m)\u001b[0m\u001b[0;34m:\u001b[0m\u001b[0;34m\u001b[0m\u001b[0;34m\u001b[0m\u001b[0m\n\u001b[1;32m      8\u001b[0m       \u001b[0mprint\u001b[0m\u001b[0;34m(\u001b[0m\u001b[0mk\u001b[0m\u001b[0;34m,\u001b[0m\u001b[0mend\u001b[0m\u001b[0;34m=\u001b[0m\u001b[0;34m' '\u001b[0m\u001b[0;34m)\u001b[0m\u001b[0;34m\u001b[0m\u001b[0;34m\u001b[0m\u001b[0m\n\u001b[0;32m----> 9\u001b[0;31m       \u001b[0mrow\u001b[0m\u001b[0;34m.\u001b[0m\u001b[0mappend\u001b[0m\u001b[0;34m(\u001b[0m\u001b[0mdf_norm\u001b[0m\u001b[0;34m.\u001b[0m\u001b[0mloc\u001b[0m\u001b[0;34m[\u001b[0m\u001b[0;34m(\u001b[0m\u001b[0mdf_norm\u001b[0m\u001b[0;34m[\u001b[0m\u001b[0;34m'msisdn'\u001b[0m\u001b[0;34m]\u001b[0m\u001b[0;34m==\u001b[0m\u001b[0mi\u001b[0m\u001b[0;34m)\u001b[0m\u001b[0;34m&\u001b[0m\u001b[0;34m(\u001b[0m\u001b[0mdf_norm\u001b[0m\u001b[0;34m[\u001b[0m\u001b[0;34m'tstamp'\u001b[0m\u001b[0;34m]\u001b[0m\u001b[0;34m==\u001b[0m\u001b[0mk\u001b[0m\u001b[0;34m)\u001b[0m\u001b[0;34m]\u001b[0m\u001b[0;34m[\u001b[0m\u001b[0;34m'lat'\u001b[0m\u001b[0;34m]\u001b[0m\u001b[0;34m.\u001b[0m\u001b[0mvalues\u001b[0m\u001b[0;34m[\u001b[0m\u001b[0;36m0\u001b[0m\u001b[0;34m]\u001b[0m\u001b[0;34m)\u001b[0m\u001b[0;34m\u001b[0m\u001b[0;34m\u001b[0m\u001b[0m\n\u001b[0m\u001b[1;32m     10\u001b[0m       \u001b[0mrow\u001b[0m\u001b[0;34m.\u001b[0m\u001b[0mappend\u001b[0m\u001b[0;34m(\u001b[0m\u001b[0mdf_norm\u001b[0m\u001b[0;34m.\u001b[0m\u001b[0mloc\u001b[0m\u001b[0;34m[\u001b[0m\u001b[0;34m(\u001b[0m\u001b[0mdf_norm\u001b[0m\u001b[0;34m[\u001b[0m\u001b[0;34m'msisdn'\u001b[0m\u001b[0;34m]\u001b[0m\u001b[0;34m==\u001b[0m\u001b[0mi\u001b[0m\u001b[0;34m)\u001b[0m\u001b[0;34m&\u001b[0m\u001b[0;34m(\u001b[0m\u001b[0mdf_norm\u001b[0m\u001b[0;34m[\u001b[0m\u001b[0;34m'tstamp'\u001b[0m\u001b[0;34m]\u001b[0m\u001b[0;34m==\u001b[0m\u001b[0mk\u001b[0m\u001b[0;34m)\u001b[0m\u001b[0;34m]\u001b[0m\u001b[0;34m[\u001b[0m\u001b[0;34m'long'\u001b[0m\u001b[0;34m]\u001b[0m\u001b[0;34m.\u001b[0m\u001b[0mvalues\u001b[0m\u001b[0;34m[\u001b[0m\u001b[0;36m0\u001b[0m\u001b[0;34m]\u001b[0m\u001b[0;34m)\u001b[0m\u001b[0;34m\u001b[0m\u001b[0;34m\u001b[0m\u001b[0m\n\u001b[1;32m     11\u001b[0m     \u001b[0;32mfor\u001b[0m \u001b[0mk\u001b[0m \u001b[0;32min\u001b[0m \u001b[0mrange\u001b[0m\u001b[0;34m(\u001b[0m\u001b[0mquantity_time_intervals\u001b[0m\u001b[0;34m)\u001b[0m\u001b[0;34m:\u001b[0m\u001b[0;34m\u001b[0m\u001b[0;34m\u001b[0m\u001b[0m\n",
            "\u001b[0;31mIndexError\u001b[0m: index 0 is out of bounds for axis 0 with size 0"
          ]
        }
      ]
    },
    {
      "cell_type": "code",
      "metadata": {
        "id": "Rekvfmo-wmct",
        "colab_type": "code",
        "colab": {
          "base_uri": "https://localhost:8080/",
          "height": 34
        },
        "outputId": "248150fd-6d4e-4e08-ca72-a0267ef8091e"
      },
      "source": [
        "len(row)"
      ],
      "execution_count": 94,
      "outputs": [
        {
          "output_type": "execute_result",
          "data": {
            "text/plain": [
              "14"
            ]
          },
          "metadata": {
            "tags": []
          },
          "execution_count": 94
        }
      ]
    },
    {
      "cell_type": "code",
      "metadata": {
        "id": "xzjjemFo0SqG",
        "colab_type": "code",
        "colab": {}
      },
      "source": [
        ""
      ],
      "execution_count": 0,
      "outputs": []
    }
  ]
}