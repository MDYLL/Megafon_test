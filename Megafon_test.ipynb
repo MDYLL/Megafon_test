{
  "nbformat": 4,
  "nbformat_minor": 0,
  "metadata": {
    "colab": {
      "name": "Megafon_test.ipynb",
      "provenance": [],
      "authorship_tag": "ABX9TyOtsZ5IdCb9a4W69SdLix+U",
      "include_colab_link": true
    },
    "kernelspec": {
      "name": "python3",
      "display_name": "Python 3"
    }
  },
  "cells": [
    {
      "cell_type": "markdown",
      "metadata": {
        "id": "view-in-github",
        "colab_type": "text"
      },
      "source": [
        "<a href=\"https://colab.research.google.com/github/MDYLL/Megafon_test/blob/master/Megafon_test.ipynb\" target=\"_parent\"><img src=\"https://colab.research.google.com/assets/colab-badge.svg\" alt=\"Open In Colab\"/></a>"
      ]
    },
    {
      "cell_type": "code",
      "metadata": {
        "id": "QAH_T0bO_6ql",
        "colab_type": "code",
        "colab": {}
      },
      "source": [
        "import pandas as pd"
      ],
      "execution_count": 0,
      "outputs": []
    },
    {
      "cell_type": "code",
      "metadata": {
        "id": "3VTdfFWlBtqW",
        "colab_type": "code",
        "outputId": "cf394275-fccc-4ddc-818b-7a784b8e6b49",
        "colab": {
          "resources": {
            "http://localhost:8080/nbextensions/google.colab/files.js": {
              "data": "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",
              "ok": true,
              "headers": [
                [
                  "content-type",
                  "application/javascript"
                ]
              ],
              "status": 200,
              "status_text": ""
            }
          },
          "base_uri": "https://localhost:8080/",
          "height": 74
        }
      },
      "source": [
        "from google.colab import files\n",
        "uploaded = files.upload()"
      ],
      "execution_count": 0,
      "outputs": [
        {
          "output_type": "display_data",
          "data": {
            "text/html": [
              "\n",
              "     <input type=\"file\" id=\"files-b4b2688c-cdf0-4380-91c4-c786f4b22fc3\" name=\"files[]\" multiple disabled />\n",
              "     <output id=\"result-b4b2688c-cdf0-4380-91c4-c786f4b22fc3\">\n",
              "      Upload widget is only available when the cell has been executed in the\n",
              "      current browser session. Please rerun this cell to enable.\n",
              "      </output>\n",
              "      <script src=\"/nbextensions/google.colab/files.js\"></script> "
            ],
            "text/plain": [
              "<IPython.core.display.HTML object>"
            ]
          },
          "metadata": {
            "tags": []
          }
        },
        {
          "output_type": "stream",
          "text": [
            "Saving 02_Data.csv to 02_Data.csv\n"
          ],
          "name": "stdout"
        }
      ]
    },
    {
      "cell_type": "code",
      "metadata": {
        "id": "gwJxvMV5Cgg9",
        "colab_type": "code",
        "outputId": "bf255772-0269-47ec-c8e2-de5534a51154",
        "colab": {
          "base_uri": "https://localhost:8080/",
          "height": 34
        }
      },
      "source": [
        "ls"
      ],
      "execution_count": 0,
      "outputs": [
        {
          "output_type": "stream",
          "text": [
            "02_Data.csv  \u001b[0m\u001b[01;34msample_data\u001b[0m/\n"
          ],
          "name": "stdout"
        }
      ]
    },
    {
      "cell_type": "code",
      "metadata": {
        "id": "nI5O10DHAEH4",
        "colab_type": "code",
        "colab": {}
      },
      "source": [
        "df=pd.read_csv('02_Data.csv',sep=';')"
      ],
      "execution_count": 0,
      "outputs": []
    },
    {
      "cell_type": "code",
      "metadata": {
        "id": "lRhyMxNqAhST",
        "colab_type": "code",
        "outputId": "8933bc3f-0a49-482e-db9b-9f3f91355c8e",
        "colab": {
          "base_uri": "https://localhost:8080/",
          "height": 195
        }
      },
      "source": [
        "df.head()"
      ],
      "execution_count": 0,
      "outputs": [
        {
          "output_type": "execute_result",
          "data": {
            "text/html": [
              "<div>\n",
              "<style scoped>\n",
              "    .dataframe tbody tr th:only-of-type {\n",
              "        vertical-align: middle;\n",
              "    }\n",
              "\n",
              "    .dataframe tbody tr th {\n",
              "        vertical-align: top;\n",
              "    }\n",
              "\n",
              "    .dataframe thead th {\n",
              "        text-align: right;\n",
              "    }\n",
              "</style>\n",
              "<table border=\"1\" class=\"dataframe\">\n",
              "  <thead>\n",
              "    <tr style=\"text-align: right;\">\n",
              "      <th></th>\n",
              "      <th>lac</th>\n",
              "      <th>cid</th>\n",
              "      <th>msisdn</th>\n",
              "      <th>imei</th>\n",
              "      <th>event_type</th>\n",
              "      <th>tstamp</th>\n",
              "      <th>long</th>\n",
              "      <th>lat</th>\n",
              "      <th>max_dist</th>\n",
              "      <th>cell_type</th>\n",
              "      <th>start_angle</th>\n",
              "      <th>end_angle</th>\n",
              "    </tr>\n",
              "  </thead>\n",
              "  <tbody>\n",
              "    <tr>\n",
              "      <th>0</th>\n",
              "      <td>5029</td>\n",
              "      <td>40798</td>\n",
              "      <td>158529599791</td>\n",
              "      <td>3.531111e+14</td>\n",
              "      <td>0</td>\n",
              "      <td>1369252800974</td>\n",
              "      <td>37.9305</td>\n",
              "      <td>55.7815</td>\n",
              "      <td>2101</td>\n",
              "      <td>OUTDOOR</td>\n",
              "      <td>220.0</td>\n",
              "      <td>280.0</td>\n",
              "    </tr>\n",
              "    <tr>\n",
              "      <th>1</th>\n",
              "      <td>7782</td>\n",
              "      <td>56870</td>\n",
              "      <td>158520145943</td>\n",
              "      <td>1.292900e+13</td>\n",
              "      <td>5</td>\n",
              "      <td>1369252801396</td>\n",
              "      <td>37.4239</td>\n",
              "      <td>55.7426</td>\n",
              "      <td>2</td>\n",
              "      <td>OUTDOOR</td>\n",
              "      <td>45.0</td>\n",
              "      <td>105.0</td>\n",
              "    </tr>\n",
              "    <tr>\n",
              "      <th>2</th>\n",
              "      <td>7794</td>\n",
              "      <td>32226</td>\n",
              "      <td>158521798391</td>\n",
              "      <td>3.519940e+14</td>\n",
              "      <td>5</td>\n",
              "      <td>1369252802013</td>\n",
              "      <td>37.7034</td>\n",
              "      <td>55.5803</td>\n",
              "      <td>1125</td>\n",
              "      <td>OUTDOOR</td>\n",
              "      <td>0.0</td>\n",
              "      <td>60.0</td>\n",
              "    </tr>\n",
              "    <tr>\n",
              "      <th>3</th>\n",
              "      <td>7758</td>\n",
              "      <td>33528</td>\n",
              "      <td>158537830573</td>\n",
              "      <td>3.586270e+14</td>\n",
              "      <td>0</td>\n",
              "      <td>1369252802331</td>\n",
              "      <td>37.7895</td>\n",
              "      <td>55.7042</td>\n",
              "      <td>1158</td>\n",
              "      <td>OUTDOOR</td>\n",
              "      <td>210.0</td>\n",
              "      <td>270.0</td>\n",
              "    </tr>\n",
              "    <tr>\n",
              "      <th>4</th>\n",
              "      <td>5060</td>\n",
              "      <td>17568</td>\n",
              "      <td>158510204039</td>\n",
              "      <td>3.524581e+14</td>\n",
              "      <td>8</td>\n",
              "      <td>1369252803586</td>\n",
              "      <td>37.1900</td>\n",
              "      <td>55.8308</td>\n",
              "      <td>500</td>\n",
              "      <td>OUTDOOR</td>\n",
              "      <td>180.0</td>\n",
              "      <td>240.0</td>\n",
              "    </tr>\n",
              "  </tbody>\n",
              "</table>\n",
              "</div>"
            ],
            "text/plain": [
              "    lac    cid        msisdn  ...  cell_type  start_angle  end_angle\n",
              "0  5029  40798  158529599791  ...    OUTDOOR        220.0      280.0\n",
              "1  7782  56870  158520145943  ...    OUTDOOR         45.0      105.0\n",
              "2  7794  32226  158521798391  ...    OUTDOOR          0.0       60.0\n",
              "3  7758  33528  158537830573  ...    OUTDOOR        210.0      270.0\n",
              "4  5060  17568  158510204039  ...    OUTDOOR        180.0      240.0\n",
              "\n",
              "[5 rows x 12 columns]"
            ]
          },
          "metadata": {
            "tags": []
          },
          "execution_count": 11
        }
      ]
    },
    {
      "cell_type": "code",
      "metadata": {
        "id": "MGKbTFxuCnrC",
        "colab_type": "code",
        "colab": {}
      },
      "source": [
        "unique_numbers=df['msisdn'].unique()"
      ],
      "execution_count": 0,
      "outputs": []
    },
    {
      "cell_type": "code",
      "metadata": {
        "id": "XrARvwJQDFS9",
        "colab_type": "code",
        "outputId": "951ff302-5298-4113-f4ab-cb862cec677c",
        "colab": {
          "base_uri": "https://localhost:8080/",
          "height": 34
        }
      },
      "source": [
        "quantity_numbers=len(unique_numbers)\n",
        "quantity_numbers"
      ],
      "execution_count": 0,
      "outputs": [
        {
          "output_type": "execute_result",
          "data": {
            "text/plain": [
              "2361"
            ]
          },
          "metadata": {
            "tags": []
          },
          "execution_count": 34
        }
      ]
    },
    {
      "cell_type": "code",
      "metadata": {
        "id": "XdRwUhOcCmhK",
        "colab_type": "code",
        "outputId": "674f4189-ac14-40bc-bc2f-a565b610a0d9",
        "colab": {
          "base_uri": "https://localhost:8080/",
          "height": 195
        }
      },
      "source": [
        "df2=df.loc[df.msisdn.isin([unique_numbers[0],unique_numbers[1]])]\n",
        "df2.head()"
      ],
      "execution_count": 0,
      "outputs": [
        {
          "output_type": "execute_result",
          "data": {
            "text/html": [
              "<div>\n",
              "<style scoped>\n",
              "    .dataframe tbody tr th:only-of-type {\n",
              "        vertical-align: middle;\n",
              "    }\n",
              "\n",
              "    .dataframe tbody tr th {\n",
              "        vertical-align: top;\n",
              "    }\n",
              "\n",
              "    .dataframe thead th {\n",
              "        text-align: right;\n",
              "    }\n",
              "</style>\n",
              "<table border=\"1\" class=\"dataframe\">\n",
              "  <thead>\n",
              "    <tr style=\"text-align: right;\">\n",
              "      <th></th>\n",
              "      <th>lac</th>\n",
              "      <th>cid</th>\n",
              "      <th>msisdn</th>\n",
              "      <th>imei</th>\n",
              "      <th>event_type</th>\n",
              "      <th>tstamp</th>\n",
              "      <th>long</th>\n",
              "      <th>lat</th>\n",
              "      <th>max_dist</th>\n",
              "      <th>cell_type</th>\n",
              "      <th>start_angle</th>\n",
              "      <th>end_angle</th>\n",
              "    </tr>\n",
              "  </thead>\n",
              "  <tbody>\n",
              "    <tr>\n",
              "      <th>0</th>\n",
              "      <td>5029</td>\n",
              "      <td>40798</td>\n",
              "      <td>158529599791</td>\n",
              "      <td>3.531111e+14</td>\n",
              "      <td>0</td>\n",
              "      <td>1369252800974</td>\n",
              "      <td>37.9305</td>\n",
              "      <td>55.7815</td>\n",
              "      <td>2101</td>\n",
              "      <td>OUTDOOR</td>\n",
              "      <td>220.0</td>\n",
              "      <td>280.0</td>\n",
              "    </tr>\n",
              "    <tr>\n",
              "      <th>1</th>\n",
              "      <td>7782</td>\n",
              "      <td>56870</td>\n",
              "      <td>158520145943</td>\n",
              "      <td>1.292900e+13</td>\n",
              "      <td>5</td>\n",
              "      <td>1369252801396</td>\n",
              "      <td>37.4239</td>\n",
              "      <td>55.7426</td>\n",
              "      <td>2</td>\n",
              "      <td>OUTDOOR</td>\n",
              "      <td>45.0</td>\n",
              "      <td>105.0</td>\n",
              "    </tr>\n",
              "    <tr>\n",
              "      <th>175</th>\n",
              "      <td>5038</td>\n",
              "      <td>40708</td>\n",
              "      <td>158529599791</td>\n",
              "      <td>3.531111e+14</td>\n",
              "      <td>0</td>\n",
              "      <td>1369253069152</td>\n",
              "      <td>37.8930</td>\n",
              "      <td>55.7920</td>\n",
              "      <td>1299</td>\n",
              "      <td>OUTDOOR</td>\n",
              "      <td>200.0</td>\n",
              "      <td>260.0</td>\n",
              "    </tr>\n",
              "    <tr>\n",
              "      <th>1157</th>\n",
              "      <td>5038</td>\n",
              "      <td>40707</td>\n",
              "      <td>158529599791</td>\n",
              "      <td>3.531111e+14</td>\n",
              "      <td>0</td>\n",
              "      <td>1369254894340</td>\n",
              "      <td>37.8930</td>\n",
              "      <td>55.7920</td>\n",
              "      <td>1547</td>\n",
              "      <td>OUTDOOR</td>\n",
              "      <td>90.0</td>\n",
              "      <td>150.0</td>\n",
              "    </tr>\n",
              "    <tr>\n",
              "      <th>1300</th>\n",
              "      <td>5029</td>\n",
              "      <td>48789</td>\n",
              "      <td>158529599791</td>\n",
              "      <td>3.531111e+14</td>\n",
              "      <td>0</td>\n",
              "      <td>1369255194841</td>\n",
              "      <td>37.9270</td>\n",
              "      <td>55.7736</td>\n",
              "      <td>2298</td>\n",
              "      <td>OUTDOOR</td>\n",
              "      <td>270.0</td>\n",
              "      <td>330.0</td>\n",
              "    </tr>\n",
              "  </tbody>\n",
              "</table>\n",
              "</div>"
            ],
            "text/plain": [
              "       lac    cid        msisdn  ...  cell_type  start_angle  end_angle\n",
              "0     5029  40798  158529599791  ...    OUTDOOR        220.0      280.0\n",
              "1     7782  56870  158520145943  ...    OUTDOOR         45.0      105.0\n",
              "175   5038  40708  158529599791  ...    OUTDOOR        200.0      260.0\n",
              "1157  5038  40707  158529599791  ...    OUTDOOR         90.0      150.0\n",
              "1300  5029  48789  158529599791  ...    OUTDOOR        270.0      330.0\n",
              "\n",
              "[5 rows x 12 columns]"
            ]
          },
          "metadata": {
            "tags": []
          },
          "execution_count": 40
        }
      ]
    },
    {
      "cell_type": "code",
      "metadata": {
        "id": "c_RDbkrZDlpG",
        "colab_type": "code",
        "colab": {}
      },
      "source": [
        "numbers2id=dict()\n",
        "idx=0\n",
        "for i in range(quantity_numbers-1):\n",
        "  for j in range(i+1,quantity_numbers):\n",
        "    numbers2id[idx]=(unique_numbers[i],unique_numbers[j])\n",
        "    idx+=1"
      ],
      "execution_count": 0,
      "outputs": []
    },
    {
      "cell_type": "code",
      "metadata": {
        "id": "_mbN8zy1E23X",
        "colab_type": "code",
        "outputId": "5044cccb-f933-4b30-b7f2-2c0a914146ca",
        "colab": {
          "base_uri": "https://localhost:8080/",
          "height": 34
        }
      },
      "source": [
        "numbers2id[0], len(numbers2id)"
      ],
      "execution_count": 0,
      "outputs": [
        {
          "output_type": "execute_result",
          "data": {
            "text/plain": [
              "((158529599791, 158520145943), 2785980)"
            ]
          },
          "metadata": {
            "tags": []
          },
          "execution_count": 48
        }
      ]
    },
    {
      "cell_type": "code",
      "metadata": {
        "id": "BWWnTXerJV5I",
        "colab_type": "code",
        "colab": {}
      },
      "source": [
        "df3=pd.DataFrame(columns=['numbers_id','mean_time','mean_distance'])"
      ],
      "execution_count": 0,
      "outputs": []
    },
    {
      "cell_type": "code",
      "metadata": {
        "id": "pBq84xZuNBL6",
        "colab_type": "code",
        "outputId": "1484df28-2e47-42f8-80ea-98f3e91e636e",
        "colab": {
          "base_uri": "https://localhost:8080/",
          "height": 402
        }
      },
      "source": [
        "a=df.loc[df.msisdn.isin([numbers2id[3000][0],numbers2id[3000][1]])]\n",
        "# numbers2id[3000]\n",
        "a.head(700)"
      ],
      "execution_count": 0,
      "outputs": [
        {
          "output_type": "execute_result",
          "data": {
            "text/html": [
              "<div>\n",
              "<style scoped>\n",
              "    .dataframe tbody tr th:only-of-type {\n",
              "        vertical-align: middle;\n",
              "    }\n",
              "\n",
              "    .dataframe tbody tr th {\n",
              "        vertical-align: top;\n",
              "    }\n",
              "\n",
              "    .dataframe thead th {\n",
              "        text-align: right;\n",
              "    }\n",
              "</style>\n",
              "<table border=\"1\" class=\"dataframe\">\n",
              "  <thead>\n",
              "    <tr style=\"text-align: right;\">\n",
              "      <th></th>\n",
              "      <th>lac</th>\n",
              "      <th>cid</th>\n",
              "      <th>msisdn</th>\n",
              "      <th>imei</th>\n",
              "      <th>event_type</th>\n",
              "      <th>tstamp</th>\n",
              "      <th>long</th>\n",
              "      <th>lat</th>\n",
              "      <th>max_dist</th>\n",
              "      <th>cell_type</th>\n",
              "      <th>start_angle</th>\n",
              "      <th>end_angle</th>\n",
              "    </tr>\n",
              "  </thead>\n",
              "  <tbody>\n",
              "    <tr>\n",
              "      <th>1</th>\n",
              "      <td>7782</td>\n",
              "      <td>56870</td>\n",
              "      <td>158520145943</td>\n",
              "      <td>1.292900e+13</td>\n",
              "      <td>5</td>\n",
              "      <td>1369252801396</td>\n",
              "      <td>37.4239</td>\n",
              "      <td>55.7426</td>\n",
              "      <td>2</td>\n",
              "      <td>OUTDOOR</td>\n",
              "      <td>45.0</td>\n",
              "      <td>105.0</td>\n",
              "    </tr>\n",
              "    <tr>\n",
              "      <th>2182</th>\n",
              "      <td>7719</td>\n",
              "      <td>22729</td>\n",
              "      <td>158516882001</td>\n",
              "      <td>3.552310e+14</td>\n",
              "      <td>5</td>\n",
              "      <td>1369257418416</td>\n",
              "      <td>37.7065</td>\n",
              "      <td>55.8746</td>\n",
              "      <td>1136</td>\n",
              "      <td>OUTDOOR</td>\n",
              "      <td>240.0</td>\n",
              "      <td>300.0</td>\n",
              "    </tr>\n",
              "    <tr>\n",
              "      <th>2364</th>\n",
              "      <td>7719</td>\n",
              "      <td>22729</td>\n",
              "      <td>158516882001</td>\n",
              "      <td>3.552310e+14</td>\n",
              "      <td>1</td>\n",
              "      <td>1369257939755</td>\n",
              "      <td>37.7065</td>\n",
              "      <td>55.8746</td>\n",
              "      <td>1136</td>\n",
              "      <td>OUTDOOR</td>\n",
              "      <td>240.0</td>\n",
              "      <td>300.0</td>\n",
              "    </tr>\n",
              "    <tr>\n",
              "      <th>2381</th>\n",
              "      <td>7719</td>\n",
              "      <td>22728</td>\n",
              "      <td>158516882001</td>\n",
              "      <td>3.552310e+14</td>\n",
              "      <td>5</td>\n",
              "      <td>1369257995110</td>\n",
              "      <td>37.7065</td>\n",
              "      <td>55.8746</td>\n",
              "      <td>1126</td>\n",
              "      <td>OUTDOOR</td>\n",
              "      <td>150.0</td>\n",
              "      <td>210.0</td>\n",
              "    </tr>\n",
              "    <tr>\n",
              "      <th>2465</th>\n",
              "      <td>7719</td>\n",
              "      <td>22729</td>\n",
              "      <td>158516882001</td>\n",
              "      <td>3.552310e+14</td>\n",
              "      <td>0</td>\n",
              "      <td>1369258228383</td>\n",
              "      <td>37.7065</td>\n",
              "      <td>55.8746</td>\n",
              "      <td>1136</td>\n",
              "      <td>OUTDOOR</td>\n",
              "      <td>240.0</td>\n",
              "      <td>300.0</td>\n",
              "    </tr>\n",
              "    <tr>\n",
              "      <th>...</th>\n",
              "      <td>...</td>\n",
              "      <td>...</td>\n",
              "      <td>...</td>\n",
              "      <td>...</td>\n",
              "      <td>...</td>\n",
              "      <td>...</td>\n",
              "      <td>...</td>\n",
              "      <td>...</td>\n",
              "      <td>...</td>\n",
              "      <td>...</td>\n",
              "      <td>...</td>\n",
              "      <td>...</td>\n",
              "    </tr>\n",
              "    <tr>\n",
              "      <th>107174</th>\n",
              "      <td>7719</td>\n",
              "      <td>20934</td>\n",
              "      <td>158516882001</td>\n",
              "      <td>3.552310e+14</td>\n",
              "      <td>10</td>\n",
              "      <td>1369413860580</td>\n",
              "      <td>37.6997</td>\n",
              "      <td>55.8809</td>\n",
              "      <td>1177</td>\n",
              "      <td>OUTDOOR</td>\n",
              "      <td>300.0</td>\n",
              "      <td>0.0</td>\n",
              "    </tr>\n",
              "    <tr>\n",
              "      <th>108631</th>\n",
              "      <td>7719</td>\n",
              "      <td>23176</td>\n",
              "      <td>158516882001</td>\n",
              "      <td>3.552310e+14</td>\n",
              "      <td>2</td>\n",
              "      <td>1369415451339</td>\n",
              "      <td>37.6886</td>\n",
              "      <td>55.8711</td>\n",
              "      <td>1159</td>\n",
              "      <td>OUTDOOR</td>\n",
              "      <td>50.0</td>\n",
              "      <td>110.0</td>\n",
              "    </tr>\n",
              "    <tr>\n",
              "      <th>115805</th>\n",
              "      <td>7782</td>\n",
              "      <td>38990</td>\n",
              "      <td>158520145943</td>\n",
              "      <td>1.292900e+13</td>\n",
              "      <td>5</td>\n",
              "      <td>1369423094050</td>\n",
              "      <td>37.4239</td>\n",
              "      <td>55.7426</td>\n",
              "      <td>708</td>\n",
              "      <td>OUTDOOR</td>\n",
              "      <td>45.0</td>\n",
              "      <td>105.0</td>\n",
              "    </tr>\n",
              "    <tr>\n",
              "      <th>161714</th>\n",
              "      <td>7719</td>\n",
              "      <td>22728</td>\n",
              "      <td>158516882001</td>\n",
              "      <td>3.585030e+14</td>\n",
              "      <td>10</td>\n",
              "      <td>1369496841625</td>\n",
              "      <td>37.7065</td>\n",
              "      <td>55.8746</td>\n",
              "      <td>1126</td>\n",
              "      <td>OUTDOOR</td>\n",
              "      <td>150.0</td>\n",
              "      <td>210.0</td>\n",
              "    </tr>\n",
              "    <tr>\n",
              "      <th>161815</th>\n",
              "      <td>7719</td>\n",
              "      <td>22729</td>\n",
              "      <td>158516882001</td>\n",
              "      <td>3.585030e+14</td>\n",
              "      <td>10</td>\n",
              "      <td>1369496951330</td>\n",
              "      <td>37.7065</td>\n",
              "      <td>55.8746</td>\n",
              "      <td>1136</td>\n",
              "      <td>OUTDOOR</td>\n",
              "      <td>240.0</td>\n",
              "      <td>300.0</td>\n",
              "    </tr>\n",
              "  </tbody>\n",
              "</table>\n",
              "<p>110 rows × 12 columns</p>\n",
              "</div>"
            ],
            "text/plain": [
              "         lac    cid        msisdn  ...  cell_type  start_angle  end_angle\n",
              "1       7782  56870  158520145943  ...    OUTDOOR         45.0      105.0\n",
              "2182    7719  22729  158516882001  ...    OUTDOOR        240.0      300.0\n",
              "2364    7719  22729  158516882001  ...    OUTDOOR        240.0      300.0\n",
              "2381    7719  22728  158516882001  ...    OUTDOOR        150.0      210.0\n",
              "2465    7719  22729  158516882001  ...    OUTDOOR        240.0      300.0\n",
              "...      ...    ...           ...  ...        ...          ...        ...\n",
              "107174  7719  20934  158516882001  ...    OUTDOOR        300.0        0.0\n",
              "108631  7719  23176  158516882001  ...    OUTDOOR         50.0      110.0\n",
              "115805  7782  38990  158520145943  ...    OUTDOOR         45.0      105.0\n",
              "161714  7719  22728  158516882001  ...    OUTDOOR        150.0      210.0\n",
              "161815  7719  22729  158516882001  ...    OUTDOOR        240.0      300.0\n",
              "\n",
              "[110 rows x 12 columns]"
            ]
          },
          "metadata": {
            "tags": []
          },
          "execution_count": 72
        }
      ]
    },
    {
      "cell_type": "code",
      "metadata": {
        "id": "79J2wNHWBCYz",
        "colab_type": "code",
        "outputId": "0f89a329-4187-4ef3-a787-2ac92dd5cefd",
        "colab": {
          "base_uri": "https://localhost:8080/",
          "height": 252
        }
      },
      "source": [
        "# for i in range(len(numbers2id)):\n",
        "for i in range(3000,3001):\n",
        "  current_msisdn=0\n",
        "  quantity_neib=0\n",
        "  sum_tstamp=0\n",
        "  sum_distance=0\n",
        "  df2=df.loc[df.msisdn.isin([numbers2id[i][0],numbers2id[i][1]])]\n",
        "  for index,row in df2.iterrows():\n",
        "    if current_msisdn==0 or row['msisdn']==current_msisdn:\n",
        "      current_msisdn=row['msisdn']\n",
        "      current_tstamp=row['tstamp']\n",
        "      current_long=row['long']\n",
        "      current_lat=row['lat']\n",
        "      continue\n",
        "    quantity_neib+=1\n",
        "    sum_tstamp+=row['tstamp']-current_tstamp\n",
        "    q=row['tstamp']-current_tstamp\n",
        "    sum_distance+=((row['long']-current_long)**2+(row['lat']-current_lat)**2)**0.5\n",
        "    current_msisdn=row['msisdn']\n",
        "    current_tstamp=row['tstamp']\n",
        "    current_long=row['long']\n",
        "    current_lat=row['lat']\n",
        "    print(row['tstamp'],q)\n",
        "  print(quantity_neib,sum_tstamp,sum_distance)\n",
        "    \n",
        "\n"
      ],
      "execution_count": 0,
      "outputs": [
        {
          "output_type": "stream",
          "text": [
            "1369257418416 4617020\n",
            "1369283311240 4153801\n",
            "1369285687073 1884505\n",
            "1369319545315 1064110\n",
            "1369321409804 1357590\n",
            "1369343802793 15776171\n",
            "1369366049306 22246513\n",
            "1369368373257 2323951\n",
            "1369370636376 793076\n",
            "1369407864157 5574175\n",
            "1369412355032 199403\n",
            "1369423094050 7642711\n",
            "1369496841625 73747575\n",
            "13 141380601 3.291083322594969\n"
          ],
          "name": "stdout"
        }
      ]
    },
    {
      "cell_type": "code",
      "metadata": {
        "id": "5170TtR1PMRy",
        "colab_type": "code",
        "colab": {}
      },
      "source": [
        ""
      ],
      "execution_count": 0,
      "outputs": []
    }
  ]
}