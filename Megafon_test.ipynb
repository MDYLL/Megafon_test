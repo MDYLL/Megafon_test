{
 "cells": [
  {
   "cell_type": "markdown",
   "metadata": {
    "colab_type": "text",
    "id": "view-in-github"
   },
   "source": [
    "<a href=\"https://colab.research.google.com/github/MDYLL/Megafon_test/blob/master/Megafon_test.ipynb\" target=\"_parent\"><img src=\"https://colab.research.google.com/assets/colab-badge.svg\" alt=\"Open In Colab\"/></a>"
   ]
  },
  {
   "cell_type": "code",
   "execution_count": 1,
   "metadata": {
    "colab": {},
    "colab_type": "code",
    "id": "QAH_T0bO_6ql"
   },
   "outputs": [],
   "source": [
    "import pandas as pd\n",
    "import torch\n",
    "import random\n",
    "import numpy as np\n",
    "\n",
    "random.seed(0)\n",
    "np.random.seed(0)\n",
    "torch.manual_seed(0)\n",
    "torch.cuda.manual_seed(0)\n",
    "torch.backends.cudnn.deterministic = True"
   ]
  },
  {
   "cell_type": "code",
   "execution_count": 106,
   "metadata": {
    "colab": {},
    "colab_type": "code",
    "id": "nI5O10DHAEH4"
   },
   "outputs": [],
   "source": [
    "df=pd.read_csv('C:/Users/User/Megafon/02_Data.csv',sep=';')"
   ]
  },
  {
   "cell_type": "code",
   "execution_count": 107,
   "metadata": {
    "colab": {
     "base_uri": "https://localhost:8080/",
     "height": 195
    },
    "colab_type": "code",
    "id": "lRhyMxNqAhST",
    "outputId": "2ff01eb7-4bc7-43d5-aee0-7de421121da3"
   },
   "outputs": [
    {
     "data": {
      "text/html": [
       "<div>\n",
       "<style scoped>\n",
       "    .dataframe tbody tr th:only-of-type {\n",
       "        vertical-align: middle;\n",
       "    }\n",
       "\n",
       "    .dataframe tbody tr th {\n",
       "        vertical-align: top;\n",
       "    }\n",
       "\n",
       "    .dataframe thead th {\n",
       "        text-align: right;\n",
       "    }\n",
       "</style>\n",
       "<table border=\"1\" class=\"dataframe\">\n",
       "  <thead>\n",
       "    <tr style=\"text-align: right;\">\n",
       "      <th></th>\n",
       "      <th>lac</th>\n",
       "      <th>cid</th>\n",
       "      <th>msisdn</th>\n",
       "      <th>imei</th>\n",
       "      <th>event_type</th>\n",
       "      <th>tstamp</th>\n",
       "      <th>long</th>\n",
       "      <th>lat</th>\n",
       "      <th>max_dist</th>\n",
       "      <th>cell_type</th>\n",
       "      <th>start_angle</th>\n",
       "      <th>end_angle</th>\n",
       "    </tr>\n",
       "  </thead>\n",
       "  <tbody>\n",
       "    <tr>\n",
       "      <th>0</th>\n",
       "      <td>5029</td>\n",
       "      <td>40798</td>\n",
       "      <td>158529599791</td>\n",
       "      <td>3.531111e+14</td>\n",
       "      <td>0</td>\n",
       "      <td>1369252800974</td>\n",
       "      <td>37.9305</td>\n",
       "      <td>55.7815</td>\n",
       "      <td>2101</td>\n",
       "      <td>OUTDOOR</td>\n",
       "      <td>220.0</td>\n",
       "      <td>280.0</td>\n",
       "    </tr>\n",
       "    <tr>\n",
       "      <th>1</th>\n",
       "      <td>7782</td>\n",
       "      <td>56870</td>\n",
       "      <td>158520145943</td>\n",
       "      <td>1.292900e+13</td>\n",
       "      <td>5</td>\n",
       "      <td>1369252801396</td>\n",
       "      <td>37.4239</td>\n",
       "      <td>55.7426</td>\n",
       "      <td>2</td>\n",
       "      <td>OUTDOOR</td>\n",
       "      <td>45.0</td>\n",
       "      <td>105.0</td>\n",
       "    </tr>\n",
       "    <tr>\n",
       "      <th>2</th>\n",
       "      <td>7794</td>\n",
       "      <td>32226</td>\n",
       "      <td>158521798391</td>\n",
       "      <td>3.519940e+14</td>\n",
       "      <td>5</td>\n",
       "      <td>1369252802013</td>\n",
       "      <td>37.7034</td>\n",
       "      <td>55.5803</td>\n",
       "      <td>1125</td>\n",
       "      <td>OUTDOOR</td>\n",
       "      <td>0.0</td>\n",
       "      <td>60.0</td>\n",
       "    </tr>\n",
       "    <tr>\n",
       "      <th>3</th>\n",
       "      <td>7758</td>\n",
       "      <td>33528</td>\n",
       "      <td>158537830573</td>\n",
       "      <td>3.586270e+14</td>\n",
       "      <td>0</td>\n",
       "      <td>1369252802331</td>\n",
       "      <td>37.7895</td>\n",
       "      <td>55.7042</td>\n",
       "      <td>1158</td>\n",
       "      <td>OUTDOOR</td>\n",
       "      <td>210.0</td>\n",
       "      <td>270.0</td>\n",
       "    </tr>\n",
       "    <tr>\n",
       "      <th>4</th>\n",
       "      <td>5060</td>\n",
       "      <td>17568</td>\n",
       "      <td>158510204039</td>\n",
       "      <td>3.524581e+14</td>\n",
       "      <td>8</td>\n",
       "      <td>1369252803586</td>\n",
       "      <td>37.1900</td>\n",
       "      <td>55.8308</td>\n",
       "      <td>500</td>\n",
       "      <td>OUTDOOR</td>\n",
       "      <td>180.0</td>\n",
       "      <td>240.0</td>\n",
       "    </tr>\n",
       "  </tbody>\n",
       "</table>\n",
       "</div>"
      ],
      "text/plain": [
       "    lac    cid        msisdn          imei  event_type         tstamp  \\\n",
       "0  5029  40798  158529599791  3.531111e+14           0  1369252800974   \n",
       "1  7782  56870  158520145943  1.292900e+13           5  1369252801396   \n",
       "2  7794  32226  158521798391  3.519940e+14           5  1369252802013   \n",
       "3  7758  33528  158537830573  3.586270e+14           0  1369252802331   \n",
       "4  5060  17568  158510204039  3.524581e+14           8  1369252803586   \n",
       "\n",
       "      long      lat  max_dist cell_type  start_angle  end_angle  \n",
       "0  37.9305  55.7815      2101   OUTDOOR        220.0      280.0  \n",
       "1  37.4239  55.7426         2   OUTDOOR         45.0      105.0  \n",
       "2  37.7034  55.5803      1125   OUTDOOR          0.0       60.0  \n",
       "3  37.7895  55.7042      1158   OUTDOOR        210.0      270.0  \n",
       "4  37.1900  55.8308       500   OUTDOOR        180.0      240.0  "
      ]
     },
     "execution_count": 107,
     "metadata": {},
     "output_type": "execute_result"
    }
   ],
   "source": [
    "df.head()"
   ]
  },
  {
   "cell_type": "code",
   "execution_count": 108,
   "metadata": {
    "colab": {
     "base_uri": "https://localhost:8080/",
     "height": 34
    },
    "colab_type": "code",
    "id": "jJBBcsxBXbMA",
    "outputId": "e978ae67-9db9-4a3c-ddea-b65d1ec90251"
   },
   "outputs": [
    {
     "data": {
      "text/plain": [
       "174123"
      ]
     },
     "execution_count": 108,
     "metadata": {},
     "output_type": "execute_result"
    }
   ],
   "source": [
    "df.shape[0]"
   ]
  },
  {
   "cell_type": "markdown",
   "metadata": {},
   "source": [
    "## посмотрим период, за который получены данные"
   ]
  },
  {
   "cell_type": "code",
   "execution_count": 109,
   "metadata": {
    "colab": {
     "base_uri": "https://localhost:8080/",
     "height": 50
    },
    "colab_type": "code",
    "id": "Z6sjy3jQ53J5",
    "outputId": "6a9c510e-cd1a-412d-873f-913657261f42"
   },
   "outputs": [
    {
     "data": {
      "text/plain": [
       "(Timestamp('2013-05-22 20:00:00.974000'),\n",
       " Timestamp('2013-05-30 16:29:37.643000'))"
      ]
     },
     "execution_count": 109,
     "metadata": {},
     "output_type": "execute_result"
    }
   ],
   "source": [
    "pd.to_datetime(df.tstamp.min(), unit='ms'),pd.to_datetime(df.tstamp.max(), unit='ms')"
   ]
  },
  {
   "cell_type": "markdown",
   "metadata": {},
   "source": [
    "## рассмотрим гипотезу - Персона с двумя симками должен регистрироваться в близкие временные интервалы в находящихся рядом вышках. для определения вышек достаточно их географических координат. все остальное выкидываем\n"
   ]
  },
  {
   "cell_type": "code",
   "execution_count": 110,
   "metadata": {
    "colab": {},
    "colab_type": "code",
    "id": "A9RIuQAQQsMF"
   },
   "outputs": [],
   "source": [
    "df=df.drop(['lac','cid','imei','event_type','max_dist','cell_type','start_angle','end_angle'],axis=1)"
   ]
  },
  {
   "cell_type": "markdown",
   "metadata": {},
   "source": [
    "## слегка отнормируем время"
   ]
  },
  {
   "cell_type": "code",
   "execution_count": 111,
   "metadata": {
    "colab": {},
    "colab_type": "code",
    "id": "TJW4RJxkRPqX"
   },
   "outputs": [],
   "source": [
    "df.tstamp//=1000\n",
    "df.tstamp-=df.tstamp.min(axis=0)"
   ]
  },
  {
   "cell_type": "markdown",
   "metadata": {},
   "source": [
    "## посмотрим распределение регистраций по всему периоду данных"
   ]
  },
  {
   "cell_type": "code",
   "execution_count": 125,
   "metadata": {
    "colab": {},
    "colab_type": "code",
    "id": "ZZrA5PiKW4Tp"
   },
   "outputs": [],
   "source": [
    "period=df.tstamp.max(axis=0)//1000\n",
    "y=[]\n",
    "for i in range(1000):\n",
    "  y.append(df.loc[(df.tstamp>i*period)&(df.tstamp<=(i+1)*period)].shape[0])"
   ]
  },
  {
   "cell_type": "code",
   "execution_count": 126,
   "metadata": {
    "colab": {
     "base_uri": "https://localhost:8080/",
     "height": 266
    },
    "colab_type": "code",
    "id": "vqddnxjMXGKU",
    "outputId": "4336bd08-6a3e-41c7-ccd5-5a443527a184"
   },
   "outputs": [
    {
     "data": {
      "image/png": "[encoded data removed]",
      "text/plain": [
       "<Figure size 432x288 with 1 Axes>"
      ]
     },
     "metadata": {
      "needs_background": "light"
     },
     "output_type": "display_data"
    }
   ],
   "source": [
    "from matplotlib import pyplot as plt\n",
    "plt.plot(y)\n",
    "plt.show()"
   ]
  },
  {
   "cell_type": "markdown",
   "metadata": {},
   "source": [
    "## судя по графику, достаточно будет рассмотреть данные только за первые 40% времени."
   ]
  },
  {
   "cell_type": "code",
   "execution_count": 132,
   "metadata": {},
   "outputs": [],
   "source": [
    "df=df.loc[df.tstamp<df.tstamp.max()*0.40]"
   ]
  },
  {
   "cell_type": "code",
   "execution_count": 133,
   "metadata": {},
   "outputs": [],
   "source": [
    "period=df.tstamp.max(axis=0)//1000\n",
    "y=[]\n",
    "for i in range(1000):\n",
    "  y.append(df.loc[(df.tstamp>i*period)&(df.tstamp<=(i+1)*period)].shape[0])"
   ]
  },
  {
   "cell_type": "code",
   "execution_count": 134,
   "metadata": {},
   "outputs": [
    {
     "data": {
      "image/png": "[encoded data removed]",
      "text/plain": [
       "<Figure size 432x288 with 1 Axes>"
      ]
     },
     "metadata": {
      "needs_background": "light"
     },
     "output_type": "display_data"
    }
   ],
   "source": [
    "from matplotlib import pyplot as plt\n",
    "plt.plot(y)\n",
    "plt.show()"
   ]
  },
  {
   "cell_type": "markdown",
   "metadata": {},
   "source": [
    "## посчитаем уникальные номера"
   ]
  },
  {
   "cell_type": "code",
   "execution_count": 135,
   "metadata": {
    "colab": {
     "base_uri": "https://localhost:8080/",
     "height": 34
    },
    "colab_type": "code",
    "id": "MGKbTFxuCnrC",
    "outputId": "f7eddd3c-a941-42bc-937d-f18bcb2161cb"
   },
   "outputs": [
    {
     "data": {
      "text/plain": [
       "2359"
      ]
     },
     "execution_count": 135,
     "metadata": {},
     "output_type": "execute_result"
    }
   ],
   "source": [
    "unique_numbers=df['msisdn'].unique()\n",
    "len(unique_numbers)"
   ]
  },
  {
   "cell_type": "markdown",
   "metadata": {},
   "source": [
    "## разобьем весь период времени на интервалы. для каждой границы интервала найдем ближайший сверху момент времени, когда номер регистрировался на вышке. запишем результат в новый датафрейм"
   ]
  },
  {
   "cell_type": "code",
   "execution_count": 136,
   "metadata": {
    "colab": {},
    "colab_type": "code",
    "id": "fa6Irs5vRyBe"
   },
   "outputs": [],
   "source": [
    "quantity_time_intervals=100\n",
    "min_tstamp=df.tstamp.min(axis=0)\n",
    "max_tstamp=df.tstamp.max(axis=0)\n",
    "time_period=(max_tstamp-min_tstamp)//quantity_time_intervals\n",
    "df_norm=pd.DataFrame(columns=df.columns)"
   ]
  },
  {
   "cell_type": "code",
   "execution_count": 137,
   "metadata": {
    "colab": {
     "base_uri": "https://localhost:8080/",
     "height": 34
    },
    "colab_type": "code",
    "id": "7g79XACheP0N",
    "outputId": "298dfbbe-9b77-4547-e69e-ad3b9b3d6a55"
   },
   "outputs": [
    {
     "data": {
      "text/plain": [
       "(0, 259198, 2591)"
      ]
     },
     "execution_count": 137,
     "metadata": {},
     "output_type": "execute_result"
    }
   ],
   "source": [
    "min_tstamp,max_tstamp,time_period"
   ]
  },
  {
   "cell_type": "markdown",
   "metadata": {},
   "source": [
    "### сначала найдем самый большой tstamp и запишем в словарь координаты этого tstamp"
   ]
  },
  {
   "cell_type": "code",
   "execution_count": 15,
   "metadata": {
    "colab": {},
    "colab_type": "code",
    "id": "n_FF7PwjIaqd"
   },
   "outputs": [],
   "source": [
    "import collections\n",
    "current_tstamp=collections.defaultdict(tuple)\n",
    "for number in unique_numbers:\n",
    "  df1=df.loc[df.msisdn==number]\n",
    "  idx=df1.tstamp.idxmax()\n",
    "  current_tstamp[number]=(df.at[idx,'long'],df.at[idx,'lat'])\n"
   ]
  },
  {
   "cell_type": "markdown",
   "metadata": {},
   "source": [
    "### теперь пройдем по всем номерам по всем реперным точкам периода и определим наиболее вероятные координаты в этот момент времени. (на моем ноуте примерно 30 минут)"
   ]
  },
  {
   "cell_type": "code",
   "execution_count": 138,
   "metadata": {
    "colab": {},
    "colab_type": "code",
    "id": "cfOUqHbaY0YO"
   },
   "outputs": [],
   "source": [
    "df_norm=pd.DataFrame(columns=df.columns)\n",
    "for number in unique_numbers:\n",
    "  for i in range(0,quantity_time_intervals):\n",
    "    df1=df.loc[(df.msisdn==number)&(df.tstamp<=max_tstamp-i*time_period)&(df.tstamp>max_tstamp-(i+1)*time_period)]\n",
    "    if df1.size>0:\n",
    "      idx=df1.tstamp.idxmax()\n",
    "      df_norm=df_norm.append({'msisdn':int(number),'tstamp':i,'long':df1.at[idx,'long'],'lat':df1.at[idx,'lat']},ignore_index=True)\n",
    "      current_tstamp[number]=(df1.at[idx,'long'],df1.at[idx,'lat'])\n",
    "    else:\n",
    "      df_norm=df_norm.append({'msisdn':int(number),'tstamp':i,'long':current_tstamp[number][0],'lat':current_tstamp[number][1]},ignore_index=True)"
   ]
  },
  {
   "cell_type": "markdown",
   "metadata": {},
   "source": [
    "### приведем к читаемому виду и проверим, что получилось на примере одного из номеров"
   ]
  },
  {
   "cell_type": "code",
   "execution_count": 140,
   "metadata": {
    "colab": {},
    "colab_type": "code",
    "id": "ZDcAdtHjQyPr"
   },
   "outputs": [
    {
     "data": {
      "text/html": [
       "<div>\n",
       "<style scoped>\n",
       "    .dataframe tbody tr th:only-of-type {\n",
       "        vertical-align: middle;\n",
       "    }\n",
       "\n",
       "    .dataframe tbody tr th {\n",
       "        vertical-align: top;\n",
       "    }\n",
       "\n",
       "    .dataframe thead th {\n",
       "        text-align: right;\n",
       "    }\n",
       "</style>\n",
       "<table border=\"1\" class=\"dataframe\">\n",
       "  <thead>\n",
       "    <tr style=\"text-align: right;\">\n",
       "      <th></th>\n",
       "      <th>msisdn</th>\n",
       "      <th>tstamp</th>\n",
       "      <th>long</th>\n",
       "      <th>lat</th>\n",
       "    </tr>\n",
       "  </thead>\n",
       "  <tbody>\n",
       "    <tr>\n",
       "      <th>0</th>\n",
       "      <td>158529599791</td>\n",
       "      <td>0</td>\n",
       "      <td>37.9270</td>\n",
       "      <td>55.7736</td>\n",
       "    </tr>\n",
       "    <tr>\n",
       "      <th>1</th>\n",
       "      <td>158529599791</td>\n",
       "      <td>1</td>\n",
       "      <td>37.9189</td>\n",
       "      <td>55.7804</td>\n",
       "    </tr>\n",
       "    <tr>\n",
       "      <th>2</th>\n",
       "      <td>158529599791</td>\n",
       "      <td>2</td>\n",
       "      <td>37.8618</td>\n",
       "      <td>55.7476</td>\n",
       "    </tr>\n",
       "    <tr>\n",
       "      <th>3</th>\n",
       "      <td>158529599791</td>\n",
       "      <td>3</td>\n",
       "      <td>37.8600</td>\n",
       "      <td>55.7518</td>\n",
       "    </tr>\n",
       "    <tr>\n",
       "      <th>4</th>\n",
       "      <td>158529599791</td>\n",
       "      <td>4</td>\n",
       "      <td>37.7520</td>\n",
       "      <td>55.7587</td>\n",
       "    </tr>\n",
       "    <tr>\n",
       "      <th>...</th>\n",
       "      <td>...</td>\n",
       "      <td>...</td>\n",
       "      <td>...</td>\n",
       "      <td>...</td>\n",
       "    </tr>\n",
       "    <tr>\n",
       "      <th>95</th>\n",
       "      <td>158529599791</td>\n",
       "      <td>95</td>\n",
       "      <td>37.8930</td>\n",
       "      <td>55.7920</td>\n",
       "    </tr>\n",
       "    <tr>\n",
       "      <th>96</th>\n",
       "      <td>158529599791</td>\n",
       "      <td>96</td>\n",
       "      <td>37.8930</td>\n",
       "      <td>55.7920</td>\n",
       "    </tr>\n",
       "    <tr>\n",
       "      <th>97</th>\n",
       "      <td>158529599791</td>\n",
       "      <td>97</td>\n",
       "      <td>37.9270</td>\n",
       "      <td>55.7736</td>\n",
       "    </tr>\n",
       "    <tr>\n",
       "      <th>98</th>\n",
       "      <td>158529599791</td>\n",
       "      <td>98</td>\n",
       "      <td>37.9270</td>\n",
       "      <td>55.7736</td>\n",
       "    </tr>\n",
       "    <tr>\n",
       "      <th>99</th>\n",
       "      <td>158529599791</td>\n",
       "      <td>99</td>\n",
       "      <td>37.9270</td>\n",
       "      <td>55.7736</td>\n",
       "    </tr>\n",
       "  </tbody>\n",
       "</table>\n",
       "<p>100 rows × 4 columns</p>\n",
       "</div>"
      ],
      "text/plain": [
       "          msisdn  tstamp     long      lat\n",
       "0   158529599791       0  37.9270  55.7736\n",
       "1   158529599791       1  37.9189  55.7804\n",
       "2   158529599791       2  37.8618  55.7476\n",
       "3   158529599791       3  37.8600  55.7518\n",
       "4   158529599791       4  37.7520  55.7587\n",
       "..           ...     ...      ...      ...\n",
       "95  158529599791      95  37.8930  55.7920\n",
       "96  158529599791      96  37.8930  55.7920\n",
       "97  158529599791      97  37.9270  55.7736\n",
       "98  158529599791      98  37.9270  55.7736\n",
       "99  158529599791      99  37.9270  55.7736\n",
       "\n",
       "[100 rows x 4 columns]"
      ]
     },
     "execution_count": 140,
     "metadata": {},
     "output_type": "execute_result"
    }
   ],
   "source": [
    "df_norm=df_norm.astype({'msisdn':'int64','tstamp':'int64'})\n",
    "df_norm.loc[df_norm.msisdn==158529599791]\n"
   ]
  },
  {
   "cell_type": "markdown",
   "metadata": {},
   "source": [
    "### создадим тензор всевозможных пар номеров. кол-во строк будет равно len(unique_numbers)*(len(unique_numbers)-1)/2, так как сам с собой номер нам не надо сравнивать. а кол-во столбцов - 2*2*quantity_time_intervals, - 2 долготы и 2 ширины"
   ]
  },
  {
   "cell_type": "code",
   "execution_count": 141,
   "metadata": {
    "colab": {},
    "colab_type": "code",
    "id": "fi6WnSIrgN_u"
   },
   "outputs": [],
   "source": [
    "import torch"
   ]
  },
  {
   "cell_type": "code",
   "execution_count": 142,
   "metadata": {
    "colab": {},
    "colab_type": "code",
    "id": "kg1i4rUfkO2Q"
   },
   "outputs": [],
   "source": [
    "x=torch.zeros((int(len(unique_numbers)*(len(unique_numbers)-1)/2),2*2*quantity_time_intervals))"
   ]
  },
  {
   "cell_type": "code",
   "execution_count": 143,
   "metadata": {
    "colab": {},
    "colab_type": "code",
    "id": "voV-6Ly_kY3N"
   },
   "outputs": [
    {
     "data": {
      "text/plain": [
       "torch.Size([2781261, 400])"
      ]
     },
     "execution_count": 143,
     "metadata": {},
     "output_type": "execute_result"
    }
   ],
   "source": [
    "x.shape"
   ]
  },
  {
   "cell_type": "markdown",
   "metadata": {},
   "source": [
    "### на моем ноуте примерно 2-3 часа"
   ]
  },
  {
   "cell_type": "code",
   "execution_count": 146,
   "metadata": {
    "colab": {},
    "colab_type": "code",
    "id": "bxg3EfxRka_M"
   },
   "outputs": [
    {
     "name": "stdout",
     "output_type": "stream",
     "text": [
      "0.0 0.000423908435777872 0.000847816871555744 0.001271725307333616 0.001695633743111488 0.00211954217888936 0.002543450614667232 0.002967359050445104 0.003391267486222976 0.0038151759220008477 0.00423908435777872 0.0046629927935565915 0.005086901229334464 0.005510809665112336 0.005934718100890208 0.00635862653666808 0.006782534972445952 0.0072064434082238235 0.007630351844001695 0.008054260279779568 0.00847816871555744 0.008902077151335312 0.009325985587113183 0.009749894022891056 0.010173802458668928 0.0105977108944468 0.011021619330224672 0.011445527766002543 0.011869436201780416 0.012293344637558287 0.01271725307333616 0.01314116150911403 0.013565069944891903 0.013988978380669776 0.014412886816447647 0.01483679525222552 0.01526070368800339 0.015684612123781264 0.016108520559559136 0.016532428995337006 0.01695633743111488 0.01738024586689275 0.017804154302670624 0.018228062738448497 0.018651971174226366 0.01907587961000424 0.01949978804578211 0.019923696481559984 0.020347604917337857 0.020771513353115726 0.0211954217888936 0.02161933022467147 0.022043238660449344 0.022467147096227214 0.022891055532005086 0.02331496396778296 0.02373887240356083 0.024162780839338704 0.024586689275116574 0.025010597710894446 0.02543450614667232 0.025858414582450192 0.02628232301822806 0.026706231454005934 0.027130139889783807 0.02755404832556168 0.027977956761339552 0.02840186519711742 0.028825773632895294 0.029249682068673167 0.02967359050445104 0.03009749894022891 0.03052140737600678 0.030945315811784654 0.03136922424756253 0.0317931326833404 0.03221704111911827 0.032640949554896145 0.03306485799067401 0.033488766426451884 0.03391267486222976 0.03433658329800763 0.0347604917337855 0.035184400169563375 0.03560830860534125 0.03603221704111912 0.03645612547689699 0.03688003391267486 0.03730394234845273 0.037727850784230604 0.03815175922000848 0.03857566765578635 0.03899957609156422 0.039423484527342095 0.03984739296311997 0.04027130139889784 0.040695209834675714 0.04111911827045358 0.04154302670623145 0.041966935142009325 0.0423908435777872 0.04281475201356507 0.04323866044934294 0.043662568885120816 0.04408647732089869 0.04451038575667656 0.04493429419245443 0.0453582026282323 0.04578211106401017 0.046206019499788045 0.04662992793556592 0.04705383637134379 0.04747774480712166 0.047901653242899536 0.04832556167867741 0.048749470114455275 0.04917337855023315 0.04959728698601102 0.05002119542178889 0.050445103857566766 0.05086901229334464 0.05129292072912251 0.051716829164900384 0.05214073760067826 0.05256464603645612 0.052988554472233995 0.05341246290801187 0.05383637134378974 0.05426027977956761 0.054684188215345486 0.05510809665112336 0.05553200508690123 0.055955913522679104 0.05637982195845697 0.05680373039423484 0.057227638830012716 0.05765154726579059 0.05807545570156846 0.058499364137346334 0.05892327257312421 0.05934718100890208 0.05977108944467995 0.06019499788045782 0.06061890631623569 0.06104281475201356 0.061466723187791436 0.06189063162356931 0.06231454005934718 0.06273844849512505 0.06316235693090293 0.0635862653666808 0.06401017380245867 0.06443408223823655 0.06485799067401442 0.06528189910979229 0.06570580754557016 0.06612971598134802 0.0665536244171259 0.06697753285290377 0.06740144128868164 0.06782534972445951 0.06824925816023739 0.06867316659601526 0.06909707503179313 0.069520983467571 0.06994489190334888 0.07036880033912675 0.07079270877490462 0.0712166172106825 0.07164052564646037 0.07206443408223824 0.07248834251801611 0.07291225095379399 0.07333615938957186 0.07376006782534972 0.07418397626112759 0.07460788469690546 0.07503179313268334 0.07545570156846121 0.07587961000423908 0.07630351844001695 0.07672742687579483 0.0771513353115727 0.07757524374735057 0.07799915218312845 0.07842306061890632 0.07884696905468419 0.07927087749046206 0.07969478592623994 0.08011869436201781 0.08054260279779568 0.08096651123357355 0.08139041966935143 0.08181432810512929 0.08223823654090716 0.08266214497668503 0.0830860534124629 0.08350996184824078 0.08393387028401865 0.08435777871979652 0.0847816871555744 0.08520559559135227 0.08562950402713014 0.08605341246290801 0.08647732089868589 0.08690122933446376 0.08732513777024163 0.0877490462060195 0.08817295464179738 0.08859686307757525 0.08902077151335312 0.08944467994913098 0.08986858838490885 0.09029249682068673 0.0907164052564646 0.09114031369224247 0.09156422212802034 0.09198813056379822 0.09241203899957609 0.09283594743535396 0.09325985587113184 0.09368376430690971 0.09410767274268758 0.09453158117846545 0.09495548961424333 0.0953793980500212 0.09580330648579907 0.09622721492157695 0.09665112335735482 0.09707503179313268 0.09749894022891055 0.09792284866468842 0.0983467571004663 0.09877066553624417 0.09919457397202204 0.09961848240779991 0.10004239084357779 0.10046629927935566 0.10089020771513353 0.1013141161509114 0.10173802458668928 0.10216193302246715 0.10258584145824502 0.1030097498940229 0.10343365832980077 0.10385756676557864 0.10428147520135651 0.10470538363713437 0.10512929207291224 0.10555320050869012 0.10597710894446799 0.10640101738024586 0.10682492581602374 0.10724883425180161 0.10767274268757948 0.10809665112335735 0.10852055955913523 0.1089444679949131 0.10936837643069097 0.10979228486646884 0.11021619330224672 0.11064010173802459 0.11106401017380246 0.11148791860958034 0.11191182704535821 0.11233573548113608 0.11275964391691394 0.11318355235269181 0.11360746078846969 0.11403136922424756 0.11445527766002543 0.1148791860958033 0.11530309453158118 0.11572700296735905 0.11615091140313692 0.1165748198389148 0.11699872827469267 0.11742263671047054 0.11784654514624841 0.11827045358202629 0.11869436201780416 0.11911827045358203 0.1195421788893599 0.11996608732513778 0.12038999576091564 0.12081390419669351 0.12123781263247138 0.12166172106824925 0.12208562950402713 0.122509537939805 0.12293344637558287 0.12335735481136074 0.12378126324713862 0.12420517168291649 0.12462908011869436 0.12505298855447222 0.1254768969902501 0.12590080542602797 0.12632471386180585 0.1267486222975837 0.1271725307333616 0.12759643916913946 0.12802034760491734 0.1284442560406952 0.1288681644764731 0.12929207291225095 0.12971598134802884 0.1301398897838067 0.13056379821958458 0.13098770665536244 0.13141161509114033 0.13183552352691819 0.13225943196269604 0.13268334039847393 0.1331072488342518 0.13353115727002968 0.13395506570580754 0.13437897414158542 0.13480288257736328 0.13522679101314117 0.13565069944891903 0.1360746078846969 0.13649851632047477 0.13692242475625266 0.13734633319203052 0.1377702416278084 0.13819415006358626 0.13861805849936415 0.139041966935142 0.1394658753709199 0.13988978380669775 0.1403136922424756 0.1407376006782535 0.14116150911403136 0.14158541754980924 0.1420093259855871 0.142433234421365 0.14285714285714285 0.14328105129292074 0.1437049597286986 0.14412886816447648 0.14455277660025434 0.14497668503603223 0.14540059347181009 0.14582450190758797 0.14624841034336583 0.14667231877914372 0.14709622721492158 0.14752013565069944 0.14794404408647732 0.14836795252225518 0.14879186095803307 0.14921576939381093 0.1496396778295888 0.15006358626536667 0.15048749470114456 0.15091140313692242 0.1513353115727003 0.15175922000847816 0.15218312844425605 0.1526070368800339 0.1530309453158118 0.15345485375158965 0.15387876218736754 0.1543026706231454 0.15472657905892329 0.15515048749470114 0.155574395930479 0.1559983043662569 0.15642221280203475 0.15684612123781264 0.1572700296735905 0.15769393810936838 0.15811784654514624 0.15854175498092413 0.15896566341670199 0.15938957185247987 0.15981348028825773 0.16023738872403562 0.16066129715981348 0.16108520559559136 0.16150911403136922 0.1619330224671471 0.16235693090292497 0.16278083933870285 0.1632047477744807 0.16362865621025857 0.16405256464603646 0.16447647308181432 0.1649003815175922 0.16532428995337006 0.16574819838914795 0.1661721068249258 0.1665960152607037 0.16701992369648155 0.16744383213225944 0.1678677405680373 0.16829164900381519 0.16871555743959304 0.16913946587537093 0.1695633743111488 0.16998728274692668 0.17041119118270454 0.1708350996184824 0.17125900805426028 0.17168291649003814 0.17210682492581603 0.17253073336159389 0.17295464179737177 0.17337855023314963 "
     ]
    },
    {
     "name": "stdout",
     "output_type": "stream",
     "text": [
      "0.17380245866892752 0.17422636710470538 0.17465027554048326 0.17507418397626112 0.175498092412039 0.17592200084781687 0.17634590928359475 0.1767698177193726 0.1771937261551505 0.17761763459092836 0.17804154302670624 0.1784654514624841 0.17888935989826196 0.17931326833403985 0.1797371767698177 0.1801610852055956 0.18058499364137345 0.18100890207715134 0.1814328105129292 0.18185671894870709 0.18228062738448494 0.18270453582026283 0.1831284442560407 0.18355235269181858 0.18397626112759644 0.18440016956337432 0.18482407799915218 0.18524798643493007 0.18567189487070793 0.18609580330648579 0.18651971174226367 0.18694362017804153 0.18736752861381942 0.18779143704959728 0.18821534548537516 0.18863925392115302 0.1890631623569309 0.18948707079270877 0.18991097922848665 0.1903348876642645 0.1907587961000424 0.19118270453582026 0.19160661297159814 0.192030521407376 0.1924544298431539 0.19287833827893175 0.19330224671470964 0.1937261551504875 0.19415006358626535 0.19457397202204324 0.1949978804578211 0.19542178889359899 0.19584569732937684 0.19626960576515473 0.1966935142009326 0.19711742263671048 0.19754133107248834 0.19796523950826622 0.19838914794404408 0.19881305637982197 0.19923696481559983 0.1996608732513777 0.20008478168715557 0.20050869012293346 0.20093259855871132 0.2013565069944892 0.20178041543026706 0.20220432386604492 0.2026282323018228 0.20305214073760067 0.20347604917337855 0.2038999576091564 0.2043238660449343 0.20474777448071216 0.20517168291649004 0.2055955913522679 0.2060194997880458 0.20644340822382365 0.20686731665960154 0.2072912250953794 0.20771513353115728 0.20813904196693514 0.20856295040271303 0.20898685883849089 0.20941076727426874 0.20983467571004663 0.2102585841458245 0.21068249258160238 0.21110640101738024 0.21153030945315812 0.21195421788893598 0.21237812632471387 0.21280203476049173 0.2132259431962696 0.21364985163204747 0.21407376006782536 0.21449766850360322 0.2149215769393811 0.21534548537515896 0.21576939381093685 0.2161933022467147 0.2166172106824926 0.21704111911827045 0.2174650275540483 0.2178889359898262 0.21831284442560406 0.21873675286138194 0.2191606612971598 0.2195845697329377 0.22000847816871555 0.22043238660449344 0.2208562950402713 0.22128020347604918 0.22170411191182704 0.22212802034760493 0.22255192878338279 0.22297583721916067 0.22339974565493853 0.22382365409071642 0.22424756252649428 0.22467147096227216 0.22509537939805002 0.22551928783382788 0.22594319626960577 0.22636710470538363 0.2267910131411615 0.22721492157693937 0.22763883001271726 0.22806273844849512 0.228486646884273 0.22891055532005086 0.22933446375582875 0.2297583721916066 0.2301822806273845 0.23060618906316235 0.23103009749894024 0.2314540059347181 0.23187791437049599 0.23230182280627384 0.2327257312420517 0.2331496396778296 0.23357354811360745 0.23399745654938534 0.2344213649851632 0.23484527342094108 0.23526918185671894 0.23569309029249683 0.23611699872827469 0.23654090716405257 0.23696481559983043 0.23738872403560832 0.23781263247138618 0.23823654090716406 0.23866044934294192 0.2390843577787198 0.23950826621449767 0.23993217465027555 0.2403560830860534 0.24077999152183127 0.24120389995760916 0.24162780839338702 0.2420517168291649 0.24247562526494276 0.24289953370072065 0.2433234421364985 0.2437473505722764 0.24417125900805425 0.24459516744383214 0.24501907587961 0.24544298431538789 0.24586689275116574 0.24629080118694363 0.2467147096227215 0.24713861805849938 0.24756252649427724 0.24798643493005512 0.24841034336583298 0.24883425180161084 0.24925816023738873 0.24968206867316659 0.25010597710894444 0.25052988554472233 0.2509537939805002 0.2513777024162781 0.25180161085205593 0.2522255192878338 0.2526494277236117 0.2530733361593896 0.2534972445951674 0.2539211530309453 0.2543450614667232 0.2547689699025011 0.2551928783382789 0.2556167867740568 0.2560406952098347 0.2564646036456125 0.2568885120813904 0.2573124205171683 0.2577363289529462 0.258160237388724 0.2585841458245019 0.2590080542602798 0.25943196269605767 0.2598558711318355 0.2602797795676134 0.2607036880033913 0.26112759643916916 0.261551504874947 0.2619754133107249 0.26239932174650277 0.26282323018228065 0.2632471386180585 0.26367104705383637 0.26409495548961426 0.2645188639253921 0.26494277236117 0.26536668079694786 0.26579058923272575 0.2662144976685036 0.26663840610428147 0.26706231454005935 0.26748622297583724 0.26791013141161507 0.26833403984739296 0.26875794828317084 0.26918185671894873 0.26960576515472656 0.27002967359050445 0.27045358202628234 0.2708774904620602 0.27130139889783805 0.27172530733361594 0.2721492157693938 0.27257312420517166 0.27299703264094954 0.27342094107672743 0.2738448495125053 0.27426875794828315 0.27469266638406103 0.2751165748198389 0.2755404832556168 0.27596439169139464 0.2763883001271725 0.2768122085629504 0.2772361169987283 0.27766002543450613 0.278083933870284 0.2785078423060619 0.2789317507418398 0.2793556591776176 0.2797795676133955 0.2802034760491734 0.2806273844849512 0.2810512929207291 0.281475201356507 0.2818991097922849 0.2823230182280627 0.2827469266638406 0.2831708350996185 0.2835947435353964 0.2840186519711742 0.2844425604069521 0.28486646884273 0.28529037727850787 0.2857142857142857 0.2861381941500636 0.28656210258584147 0.2869860110216193 0.2874099194573972 0.2878338278931751 0.28825773632895296 0.2886816447647308 0.2891055532005087 0.28952946163628657 0.28995337007206445 0.2903772785078423 0.29080118694362017 0.29122509537939806 0.29164900381517594 0.2920729122509538 0.29249682068673166 0.29292072912250955 0.29334463755828744 0.29376854599406527 0.29419245442984315 0.29461636286562104 0.29504027130139887 0.29546417973717676 0.29588808817295464 0.29631199660873253 0.29673590504451036 0.29715981348028825 0.29758372191606614 0.298007630351844 0.29843153878762185 0.29885544722339974 0.2992793556591776 0.2997032640949555 0.30012717253073334 0.30055108096651123 0.3009749894022891 0.301398897838067 0.30182280627384483 0.3022467147096227 0.3026706231454006 0.30309453158117844 0.3035184400169563 0.3039423484527342 0.3043662568885121 0.30479016532428993 0.3052140737600678 0.3056379821958457 0.3060618906316236 0.3064857990674014 0.3069097075031793 0.3073336159389572 0.3077575243747351 0.3081814328105129 0.3086053412462908 0.3090292496820687 0.30945315811784657 0.3098770665536244 0.3103009749894023 0.3107248834251802 0.311148791860958 0.3115727002967359 0.3119966087325138 0.31242051716829167 0.3128444256040695 0.3132683340398474 0.31369224247562527 0.31411615091140316 0.314540059347181 0.3149639677829589 0.31538787621873676 0.31581178465451465 0.3162356930902925 0.31665960152607037 0.31708350996184825 0.31750741839762614 0.31793132683340397 0.31835523526918186 0.31877914370495974 0.3192030521407376 0.31962696057651546 0.32005086901229335 0.32047477744807124 0.32089868588384907 0.32132259431962695 0.32174650275540484 0.3221704111911827 0.32259431962696056 0.32301822806273844 0.32344213649851633 0.3238660449342942 0.32428995337007205 0.32471386180584993 0.3251377702416278 0.3255616786774057 0.32598558711318354 0.3264094955489614 0.3268334039847393 0.32725731242051714 0.32768122085629503 0.3281051292920729 0.3285290377278508 0.32895294616362863 0.3293768545994065 0.3298007630351844 0.3302246714709623 0.3306485799067401 0.331072488342518 0.3314963967782959 0.3319203052140738 0.3323442136498516 0.3327681220856295 0.3331920305214074 0.3336159389571852 0.3340398473929631 0.334463755828741 0.3348876642645189 0.3353115727002967 0.3357354811360746 0.3361593895718525 0.33658329800763037 0.3370072064434082 0.3374311148791861 0.337855023314964 0.33827893175074186 0.3387028401865197 0.3391267486222976 0.33955065705807547 0.33997456549385335 0.3403984739296312 0.34082238236540907 0.34124629080118696 0.3416701992369648 0.3420941076727427 0.34251801610852056 0.34294192454429845 0.3433658329800763 0.34378974141585417 0.34421364985163205 0.34463755828740994 0.34506146672318777 0.34548537515896566 0.34590928359474354 0.34633319203052143 0.34675710046629926 0.34718100890207715 0.34760491733785503 0.3480288257736329 0.34845273420941075 0.34887664264518864 0.3493005510809665 0.34972445951674436 0.35014836795252224 0.35057227638830013 0.350996184824078 0.35142009325985585 "
     ]
    },
    {
     "name": "stdout",
     "output_type": "stream",
     "text": [
      "0.35184400169563373 0.3522679101314116 0.3526918185671895 0.35311572700296734 0.3535396354387452 0.3539635438745231 0.354387452310301 0.35481136074607883 0.3552352691818567 0.3556591776176346 0.3560830860534125 0.3565069944891903 0.3569309029249682 0.3573548113607461 0.3577787197965239 0.3582026282323018 0.3586265366680797 0.3590504451038576 0.3594743535396354 0.3598982619754133 0.3603221704111912 0.3607460788469691 0.3611699872827469 0.3615938957185248 0.3620178041543027 0.36244171259008057 0.3628656210258584 0.3632895294616363 0.36371343789741417 0.36413734633319206 0.3645612547689699 0.3649851632047478 0.36540907164052566 0.3658329800763035 0.3662568885120814 0.36668079694785927 0.36710470538363715 0.367528613819415 0.36795252225519287 0.36837643069097076 0.36880033912674864 0.3692242475625265 0.36964815599830436 0.37007206443408225 0.37049597286986014 0.37091988130563797 0.37134378974141585 0.37176769817719374 0.37219160661297157 0.37261551504874946 0.37303942348452734 0.37346333192030523 0.37388724035608306 0.37431114879186095 0.37473505722763883 0.3751589656634167 0.37558287409919455 0.37600678253497244 0.3764306909707503 0.3768545994065282 0.37727850784230604 0.37770241627808393 0.3781263247138618 0.3785502331496397 0.37897414158541753 0.3793980500211954 0.3798219584569733 0.38024586689275114 0.380669775328529 0.3810936837643069 0.3815175922000848 0.38194150063586263 0.3823654090716405 0.3827893175074184 0.3832132259431963 0.3836371343789741 0.384061042814752 0.3844849512505299 0.3849088596863078 0.3853327681220856 0.3857566765578635 0.3861805849936414 0.38660449342941927 0.3870284018651971 0.387452310300975 0.3878762187367529 0.3883001271725307 0.3887240356083086 0.3891479440440865 0.38957185247986437 0.3899957609156422 0.3904196693514201 0.39084357778719797 0.39126748622297586 0.3916913946587537 0.3921153030945316 0.39253921153030946 0.39296311996608735 0.3933870284018652 0.39381093683764307 0.39423484527342095 0.39465875370919884 0.39508266214497667 0.39550657058075456 0.39593047901653244 0.3963543874523103 0.39677829588808816 0.39720220432386605 0.39762611275964393 0.39805002119542177 0.39847392963119965 0.39889783806697754 0.3993217465027554 0.39974565493853326 0.40016956337431114 0.40059347181008903 0.4010173802458669 0.40144128868164475 0.40186519711742263 0.4022891055532005 0.4027130139889784 0.40313692242475624 0.4035608308605341 0.403984739296312 0.40440864773208984 0.40483255616786773 0.4052564646036456 0.4056803730394235 0.40610428147520133 0.4065281899109792 0.4069520983467571 0.407376006782535 0.4077999152183128 0.4082238236540907 0.4086477320898686 0.4090716405256465 0.4094955489614243 0.4099194573972022 0.4103433658329801 0.410767274268758 0.4111911827045358 0.4116150911403137 0.4120389995760916 0.4124629080118694 0.4128868164476473 0.4133107248834252 0.41373463331920307 0.4141585417549809 0.4145824501907588 0.4150063586265367 0.41543026706231456 0.4158541754980924 0.4162780839338703 0.41670199236964817 0.41712590080542605 0.4175498092412039 0.41797371767698177 0.41839762611275966 0.4188215345485375 0.4192454429843154 0.41966935142009326 0.42009325985587115 0.420517168291649 0.42094107672742687 0.42136498516320475 0.42178889359898264 0.42221280203476047 0.42263671047053836 0.42306061890631624 0.42348452734209413 0.42390843577787196 0.42433234421364985 0.42475625264942773 0.4251801610852056 0.42560406952098345 0.42602797795676134 0.4264518863925392 0.42687579482831706 0.42729970326409494 0.42772361169987283 0.4281475201356507 0.42857142857142855 0.42899533700720643 0.4294192454429843 0.4298431538787622 0.43026706231454004 0.4306909707503179 0.4311148791860958 0.4315387876218737 0.43196269605765153 0.4323866044934294 0.4328105129292073 0.4332344213649852 0.433658329800763 0.4340822382365409 0.4345061466723188 0.4349300551080966 0.4353539635438745 0.4357778719796524 0.4362017804154303 0.4366256888512081 0.437049597286986 0.4374735057227639 0.4378974141585418 0.4383213225943196 0.4387452310300975 0.4391691394658754 0.43959304790165327 0.4400169563374311 0.440440864773209 0.44086477320898687 0.44128868164476476 0.4417125900805426 0.4421364985163205 0.44256040695209836 0.4429843153878762 0.4434082238236541 0.44383213225943197 0.44425604069520985 0.4446799491309877 0.44510385756676557 0.44552776600254346 0.44595167443832134 0.4463755828740992 0.44679949130987706 0.44722339974565495 0.44764730818143283 0.44807121661721067 0.44849512505298855 0.44891903348876644 0.4493429419245443 0.44976685036032216 0.45019075879610004 0.45061466723187793 0.45103857566765576 0.45146248410343365 0.45188639253921153 0.4523103009749894 "
     ]
    },
    {
     "ename": "KeyboardInterrupt",
     "evalue": "",
     "output_type": "error",
     "traceback": [
      "\u001b[1;31m---------------------------------------------------------------------------\u001b[0m",
      "\u001b[1;31mKeyboardInterrupt\u001b[0m                         Traceback (most recent call last)",
      "\u001b[1;32m<ipython-input-146-c3f47ef13341>\u001b[0m in \u001b[0;36m<module>\u001b[1;34m\u001b[0m\n\u001b[0;32m      8\u001b[0m           \u001b[1;32mcontinue\u001b[0m\u001b[1;33m\u001b[0m\u001b[1;33m\u001b[0m\u001b[0m\n\u001b[0;32m      9\u001b[0m         \u001b[0mt1\u001b[0m\u001b[1;33m=\u001b[0m\u001b[0mtorch\u001b[0m\u001b[1;33m.\u001b[0m\u001b[0mFloatTensor\u001b[0m\u001b[1;33m(\u001b[0m\u001b[0mdf_norm\u001b[0m\u001b[1;33m.\u001b[0m\u001b[0mloc\u001b[0m\u001b[1;33m[\u001b[0m\u001b[0mdf_norm\u001b[0m\u001b[1;33m.\u001b[0m\u001b[0mmsisdn\u001b[0m\u001b[1;33m==\u001b[0m\u001b[0mi\u001b[0m\u001b[1;33m]\u001b[0m\u001b[1;33m[\u001b[0m\u001b[1;34m'long'\u001b[0m\u001b[1;33m]\u001b[0m\u001b[1;33m.\u001b[0m\u001b[0mvalues\u001b[0m\u001b[1;33m,\u001b[0m\u001b[1;33m)\u001b[0m\u001b[1;33m\u001b[0m\u001b[1;33m\u001b[0m\u001b[0m\n\u001b[1;32m---> 10\u001b[1;33m         \u001b[0mt2\u001b[0m\u001b[1;33m=\u001b[0m\u001b[0mtorch\u001b[0m\u001b[1;33m.\u001b[0m\u001b[0mFloatTensor\u001b[0m\u001b[1;33m(\u001b[0m\u001b[0mdf_norm\u001b[0m\u001b[1;33m.\u001b[0m\u001b[0mloc\u001b[0m\u001b[1;33m[\u001b[0m\u001b[0mdf_norm\u001b[0m\u001b[1;33m.\u001b[0m\u001b[0mmsisdn\u001b[0m\u001b[1;33m==\u001b[0m\u001b[0mi\u001b[0m\u001b[1;33m]\u001b[0m\u001b[1;33m[\u001b[0m\u001b[1;34m'lat'\u001b[0m\u001b[1;33m]\u001b[0m\u001b[1;33m.\u001b[0m\u001b[0mvalues\u001b[0m\u001b[1;33m)\u001b[0m\u001b[1;33m\u001b[0m\u001b[1;33m\u001b[0m\u001b[0m\n\u001b[0m\u001b[0;32m     11\u001b[0m         \u001b[0mt3\u001b[0m\u001b[1;33m=\u001b[0m\u001b[0mtorch\u001b[0m\u001b[1;33m.\u001b[0m\u001b[0mFloatTensor\u001b[0m\u001b[1;33m(\u001b[0m\u001b[0mdf_norm\u001b[0m\u001b[1;33m.\u001b[0m\u001b[0mloc\u001b[0m\u001b[1;33m[\u001b[0m\u001b[0mdf_norm\u001b[0m\u001b[1;33m.\u001b[0m\u001b[0mmsisdn\u001b[0m\u001b[1;33m==\u001b[0m\u001b[0mj\u001b[0m\u001b[1;33m]\u001b[0m\u001b[1;33m[\u001b[0m\u001b[1;34m'long'\u001b[0m\u001b[1;33m]\u001b[0m\u001b[1;33m.\u001b[0m\u001b[0mvalues\u001b[0m\u001b[1;33m)\u001b[0m\u001b[1;33m\u001b[0m\u001b[1;33m\u001b[0m\u001b[0m\n\u001b[0;32m     12\u001b[0m         \u001b[0mt4\u001b[0m\u001b[1;33m=\u001b[0m\u001b[0mtorch\u001b[0m\u001b[1;33m.\u001b[0m\u001b[0mFloatTensor\u001b[0m\u001b[1;33m(\u001b[0m\u001b[0mdf_norm\u001b[0m\u001b[1;33m.\u001b[0m\u001b[0mloc\u001b[0m\u001b[1;33m[\u001b[0m\u001b[0mdf_norm\u001b[0m\u001b[1;33m.\u001b[0m\u001b[0mmsisdn\u001b[0m\u001b[1;33m==\u001b[0m\u001b[0mj\u001b[0m\u001b[1;33m]\u001b[0m\u001b[1;33m[\u001b[0m\u001b[1;34m'lat'\u001b[0m\u001b[1;33m]\u001b[0m\u001b[1;33m.\u001b[0m\u001b[0mvalues\u001b[0m\u001b[1;33m)\u001b[0m\u001b[1;33m\u001b[0m\u001b[1;33m\u001b[0m\u001b[0m\n",
      "\u001b[1;32m~\\Anaconda3\\envs\\learnpytorch\\lib\\site-packages\\pandas\\core\\ops\\__init__.py\u001b[0m in \u001b[0;36mwrapper\u001b[1;34m(self, other, axis)\u001b[0m\n\u001b[0;32m   1227\u001b[0m \u001b[1;33m\u001b[0m\u001b[0m\n\u001b[0;32m   1228\u001b[0m             \u001b[1;32mwith\u001b[0m \u001b[0mnp\u001b[0m\u001b[1;33m.\u001b[0m\u001b[0merrstate\u001b[0m\u001b[1;33m(\u001b[0m\u001b[0mall\u001b[0m\u001b[1;33m=\u001b[0m\u001b[1;34m\"ignore\"\u001b[0m\u001b[1;33m)\u001b[0m\u001b[1;33m:\u001b[0m\u001b[1;33m\u001b[0m\u001b[1;33m\u001b[0m\u001b[0m\n\u001b[1;32m-> 1229\u001b[1;33m                 \u001b[0mres\u001b[0m \u001b[1;33m=\u001b[0m \u001b[0mna_op\u001b[0m\u001b[1;33m(\u001b[0m\u001b[0mvalues\u001b[0m\u001b[1;33m,\u001b[0m \u001b[0mother\u001b[0m\u001b[1;33m)\u001b[0m\u001b[1;33m\u001b[0m\u001b[1;33m\u001b[0m\u001b[0m\n\u001b[0m\u001b[0;32m   1230\u001b[0m             \u001b[1;32mif\u001b[0m \u001b[0mis_scalar\u001b[0m\u001b[1;33m(\u001b[0m\u001b[0mres\u001b[0m\u001b[1;33m)\u001b[0m\u001b[1;33m:\u001b[0m\u001b[1;33m\u001b[0m\u001b[1;33m\u001b[0m\u001b[0m\n\u001b[0;32m   1231\u001b[0m                 raise TypeError(\n",
      "\u001b[1;32m~\\Anaconda3\\envs\\learnpytorch\\lib\\site-packages\\pandas\\core\\ops\\__init__.py\u001b[0m in \u001b[0;36mna_op\u001b[1;34m(x, y)\u001b[0m\n\u001b[0;32m   1113\u001b[0m             \u001b[1;32mif\u001b[0m \u001b[0mmethod\u001b[0m \u001b[1;32mis\u001b[0m \u001b[1;32mnot\u001b[0m \u001b[1;32mNone\u001b[0m\u001b[1;33m:\u001b[0m\u001b[1;33m\u001b[0m\u001b[1;33m\u001b[0m\u001b[0m\n\u001b[0;32m   1114\u001b[0m                 \u001b[1;32mwith\u001b[0m \u001b[0mnp\u001b[0m\u001b[1;33m.\u001b[0m\u001b[0merrstate\u001b[0m\u001b[1;33m(\u001b[0m\u001b[0mall\u001b[0m\u001b[1;33m=\u001b[0m\u001b[1;34m\"ignore\"\u001b[0m\u001b[1;33m)\u001b[0m\u001b[1;33m:\u001b[0m\u001b[1;33m\u001b[0m\u001b[1;33m\u001b[0m\u001b[0m\n\u001b[1;32m-> 1115\u001b[1;33m                     \u001b[0mresult\u001b[0m \u001b[1;33m=\u001b[0m \u001b[0mmethod\u001b[0m\u001b[1;33m(\u001b[0m\u001b[0my\u001b[0m\u001b[1;33m)\u001b[0m\u001b[1;33m\u001b[0m\u001b[1;33m\u001b[0m\u001b[0m\n\u001b[0m\u001b[0;32m   1116\u001b[0m                 \u001b[1;32mif\u001b[0m \u001b[0mresult\u001b[0m \u001b[1;32mis\u001b[0m \u001b[0mNotImplemented\u001b[0m\u001b[1;33m:\u001b[0m\u001b[1;33m\u001b[0m\u001b[1;33m\u001b[0m\u001b[0m\n\u001b[0;32m   1117\u001b[0m                     \u001b[1;32mreturn\u001b[0m \u001b[0minvalid_comparison\u001b[0m\u001b[1;33m(\u001b[0m\u001b[0mx\u001b[0m\u001b[1;33m,\u001b[0m \u001b[0my\u001b[0m\u001b[1;33m,\u001b[0m \u001b[0mop\u001b[0m\u001b[1;33m)\u001b[0m\u001b[1;33m\u001b[0m\u001b[1;33m\u001b[0m\u001b[0m\n",
      "\u001b[1;31mKeyboardInterrupt\u001b[0m: "
     ]
    }
   ],
   "source": [
    "idx=0\n",
    "passed_time=0\n",
    "for i in unique_numbers:\n",
    "    print(passed_time/len(unique_numbers),end=' ')\n",
    "    passed_time+=1\n",
    "    for j in unique_numbers:\n",
    "        if i<=j:\n",
    "          continue\n",
    "        t1=torch.FloatTensor(df_norm.loc[df_norm.msisdn==i]['long'].values,)\n",
    "        t2=torch.FloatTensor(df_norm.loc[df_norm.msisdn==i]['lat'].values)\n",
    "        t3=torch.FloatTensor(df_norm.loc[df_norm.msisdn==j]['long'].values)\n",
    "        t4=torch.FloatTensor(df_norm.loc[df_norm.msisdn==j]['lat'].values)\n",
    "        t=torch.cat([t1,t2,t3,t4])\n",
    "        x[idx]=t\n",
    "        idx+=1\n",
    "    \n",
    "    "
   ]
  },
  {
   "cell_type": "code",
   "execution_count": 23,
   "metadata": {
    "colab": {},
    "colab_type": "code",
    "id": "Rekvfmo-wmct"
   },
   "outputs": [
    {
     "data": {
      "text/plain": [
       "tensor([[37.9270, 37.9270, 37.9270,  ..., 55.7525, 55.7525, 55.7525],\n",
       "        [37.9270, 37.9270, 37.9270,  ..., 55.5803, 55.5803, 55.5803],\n",
       "        [37.9270, 37.9270, 37.9270,  ..., 55.7661, 55.8134, 55.8134],\n",
       "        ...,\n",
       "        [37.6217, 37.6217, 37.6217,  ..., 55.4838, 55.4838, 55.4838],\n",
       "        [37.6217, 37.6217, 37.6217,  ..., 55.8072, 55.8072, 55.8072],\n",
       "        [37.6217, 37.6217, 37.6217,  ..., 55.7415, 55.7415, 55.7415]])"
      ]
     },
     "execution_count": 23,
     "metadata": {},
     "output_type": "execute_result"
    }
   ],
   "source": [
    "x"
   ]
  },
  {
   "cell_type": "code",
   "execution_count": 24,
   "metadata": {
    "colab": {},
    "colab_type": "code",
    "id": "xzjjemFo0SqG"
   },
   "outputs": [
    {
     "data": {
      "text/plain": [
       "torch.Size([2785980, 400])"
      ]
     },
     "execution_count": 24,
     "metadata": {},
     "output_type": "execute_result"
    }
   ],
   "source": [
    "x.shape"
   ]
  },
  {
   "cell_type": "code",
   "execution_count": 25,
   "metadata": {
    "colab": {},
    "colab_type": "code",
    "id": "reR4dudkL1f6"
   },
   "outputs": [],
   "source": [
    "pair=[]\n",
    "idx=0\n",
    "for i in unique_numbers:\n",
    "  # print(i,end=' ')\n",
    "  for j in unique_numbers:\n",
    "    if i<=j:\n",
    "      continue\n",
    "    pair.append((i,j))\n",
    "    # idx+=1\n"
   ]
  },
  {
   "cell_type": "code",
   "execution_count": 26,
   "metadata": {
    "colab": {},
    "colab_type": "code",
    "id": "y9xP-tNmN0xB"
   },
   "outputs": [],
   "source": [
    "pair_back={(pair[i][0],pair[i][1]):i for i in range(len(pair))}"
   ]
  },
  {
   "cell_type": "code",
   "execution_count": 27,
   "metadata": {
    "colab": {},
    "colab_type": "code",
    "id": "mlzdZLQUT-JO"
   },
   "outputs": [],
   "source": [
    "# uploaded = files.upload()"
   ]
  },
  {
   "cell_type": "code",
   "execution_count": 28,
   "metadata": {
    "colab": {},
    "colab_type": "code",
    "id": "cNp9UbTtT-OP"
   },
   "outputs": [],
   "source": [
    "# df=pd.read_csv('C:/Users/User/Megafon/02_Data.csv',sep=';')\n",
    "df=pd.read_csv('C:/Users/User/Megafon/facts.csv',sep=';')"
   ]
  },
  {
   "cell_type": "code",
   "execution_count": 29,
   "metadata": {
    "colab": {},
    "colab_type": "code",
    "id": "nSs5qXvQT-Sf"
   },
   "outputs": [],
   "source": [
    "label=[]\n",
    "for row in df.iterrows():\n",
    "  label.append((max(row[1][0],row[1][1]),min(row[1][0],row[1][1])))"
   ]
  },
  {
   "cell_type": "code",
   "execution_count": 30,
   "metadata": {
    "colab": {},
    "colab_type": "code",
    "id": "V5ct59adT-XP"
   },
   "outputs": [
    {
     "name": "stdout",
     "output_type": "stream",
     "text": [
      "(158528852857, 158510912201)\n",
      "(158530004641, 158528850493)\n"
     ]
    }
   ],
   "source": [
    "true_label=[]\n",
    "for el in label:\n",
    "  try:\n",
    "    num=pair_back[el]\n",
    "    true_label.append(el)\n",
    "  except:\n",
    "    print(el)"
   ]
  },
  {
   "cell_type": "code",
   "execution_count": 31,
   "metadata": {
    "colab": {},
    "colab_type": "code",
    "id": "naAtwEdyT-cs"
   },
   "outputs": [
    {
     "data": {
      "text/plain": [
       "120"
      ]
     },
     "execution_count": 31,
     "metadata": {},
     "output_type": "execute_result"
    }
   ],
   "source": [
    "label=true_label\n",
    "len(label)"
   ]
  },
  {
   "cell_type": "code",
   "execution_count": 32,
   "metadata": {
    "colab": {},
    "colab_type": "code",
    "id": "l4zp_7N5c1FI"
   },
   "outputs": [],
   "source": [
    "numbers_of_labels=[]\n",
    "for el in label:\n",
    "  numbers_of_labels.append(pair_back[el])"
   ]
  },
  {
   "cell_type": "code",
   "execution_count": 33,
   "metadata": {
    "colab": {},
    "colab_type": "code",
    "id": "gM1bQ4HXRe23"
   },
   "outputs": [
    {
     "data": {
      "text/plain": [
       "[1527969, 1392489, 1959343]"
      ]
     },
     "execution_count": 33,
     "metadata": {},
     "output_type": "execute_result"
    }
   ],
   "source": [
    "numbers_of_labels[0:3]"
   ]
  },
  {
   "cell_type": "code",
   "execution_count": 34,
   "metadata": {
    "colab": {},
    "colab_type": "code",
    "id": "PhVUZDfzKSV8"
   },
   "outputs": [
    {
     "data": {
      "text/plain": [
       "torch.Size([120, 400])"
      ]
     },
     "execution_count": 34,
     "metadata": {},
     "output_type": "execute_result"
    }
   ],
   "source": [
    "x_label=x[numbers_of_labels]\n",
    "x_label.shape"
   ]
  },
  {
   "cell_type": "code",
   "execution_count": 90,
   "metadata": {},
   "outputs": [],
   "source": [
    "dist=sum(((x[:,i]-x[:,quantity_time_intervals*2+i])**2+(x[:,quantity_time_intervals+i]*x[:,quantity_time_intervals+i]-\n",
    "       x[:,quantity_time_intervals*3+i]*x[:,quantity_time_intervals*3+i])**2)**0.05 for i in range(quantity_time_intervals))"
   ]
  },
  {
   "cell_type": "code",
   "execution_count": 100,
   "metadata": {},
   "outputs": [
    {
     "data": {
      "text/plain": [
       "(tensor(133.0491), tensor(85.6052))"
      ]
     },
     "execution_count": 100,
     "metadata": {},
     "output_type": "execute_result"
    }
   ],
   "source": [
    "dist.mean(),dist[numbers_of_labels].mean()"
   ]
  },
  {
   "cell_type": "code",
   "execution_count": 96,
   "metadata": {},
   "outputs": [
    {
     "data": {
      "text/plain": [
       "tensor(34)"
      ]
     },
     "execution_count": 96,
     "metadata": {},
     "output_type": "execute_result"
    }
   ],
   "source": [
    "dist[numbers_of_labels].argmax()"
   ]
  },
  {
   "cell_type": "code",
   "execution_count": 98,
   "metadata": {},
   "outputs": [
    {
     "data": {
      "text/plain": [
       "2610660"
      ]
     },
     "execution_count": 98,
     "metadata": {},
     "output_type": "execute_result"
    }
   ],
   "source": [
    "numbers_of_labels[34]"
   ]
  },
  {
   "cell_type": "code",
   "execution_count": 99,
   "metadata": {},
   "outputs": [
    {
     "data": {
      "text/plain": [
       "tensor(157.6821)"
      ]
     },
     "execution_count": 99,
     "metadata": {},
     "output_type": "execute_result"
    }
   ],
   "source": [
    "dist[2610660]"
   ]
  },
  {
   "cell_type": "code",
   "execution_count": null,
   "metadata": {},
   "outputs": [],
   "source": []
  },
  {
   "cell_type": "code",
   "execution_count": null,
   "metadata": {},
   "outputs": [],
   "source": []
  },
  {
   "cell_type": "code",
   "execution_count": null,
   "metadata": {},
   "outputs": [],
   "source": []
  },
  {
   "cell_type": "code",
   "execution_count": null,
   "metadata": {},
   "outputs": [],
   "source": []
  },
  {
   "cell_type": "code",
   "execution_count": null,
   "metadata": {},
   "outputs": [],
   "source": []
  },
  {
   "cell_type": "code",
   "execution_count": null,
   "metadata": {},
   "outputs": [],
   "source": []
  },
  {
   "cell_type": "code",
   "execution_count": null,
   "metadata": {},
   "outputs": [],
   "source": []
  },
  {
   "cell_type": "code",
   "execution_count": null,
   "metadata": {},
   "outputs": [],
   "source": []
  },
  {
   "cell_type": "code",
   "execution_count": null,
   "metadata": {},
   "outputs": [],
   "source": []
  },
  {
   "cell_type": "code",
   "execution_count": null,
   "metadata": {},
   "outputs": [],
   "source": []
  },
  {
   "cell_type": "code",
   "execution_count": null,
   "metadata": {},
   "outputs": [],
   "source": []
  },
  {
   "cell_type": "code",
   "execution_count": null,
   "metadata": {},
   "outputs": [],
   "source": []
  },
  {
   "cell_type": "code",
   "execution_count": 35,
   "metadata": {
    "colab": {},
    "colab_type": "code",
    "id": "A0H8XwneLyAU"
   },
   "outputs": [],
   "source": [
    "x0=torch.zeros((x.shape[0],1))\n",
    "for i in range(x0.shape[0]):\n",
    "  if i in numbers_of_labels:\n",
    "    x0[i][0]=1"
   ]
  },
  {
   "cell_type": "code",
   "execution_count": 36,
   "metadata": {
    "colab": {},
    "colab_type": "code",
    "id": "W4Zo9p3esJnX"
   },
   "outputs": [],
   "source": [
    "import numpy as np\n",
    "x_fake=torch.zeros((1200000,x.shape[1]))\n",
    "for i in range(len(numbers_of_labels)):\n",
    "  for j in range(10000):\n",
    "    x_fake[i*10000+j]=x[numbers_of_labels[i]]+torch.tensor(np.random.sample(1)/1000)-0.0005\n"
   ]
  },
  {
   "cell_type": "code",
   "execution_count": 37,
   "metadata": {},
   "outputs": [
    {
     "data": {
      "text/plain": [
       "tensor([37.6490, 37.6490, 37.6490, 37.6490, 37.6490, 37.6490, 37.6490, 37.6490,\n",
       "        37.6490, 37.6490])"
      ]
     },
     "execution_count": 37,
     "metadata": {},
     "output_type": "execute_result"
    }
   ],
   "source": [
    "x[numbers_of_labels[0]][:10]"
   ]
  },
  {
   "cell_type": "code",
   "execution_count": 38,
   "metadata": {},
   "outputs": [
    {
     "data": {
      "text/plain": [
       "tensor([37.6495, 37.6495, 37.6495, 37.6495, 37.6495, 37.6495, 37.6495, 37.6495,\n",
       "        37.6495, 37.6495])"
      ]
     },
     "execution_count": 38,
     "metadata": {},
     "output_type": "execute_result"
    }
   ],
   "source": [
    "x_fake[0][:10]"
   ]
  },
  {
   "cell_type": "code",
   "execution_count": 39,
   "metadata": {
    "colab": {},
    "colab_type": "code",
    "id": "05ul188XMDtD"
   },
   "outputs": [
    {
     "data": {
      "text/plain": [
       "tensor([1., 1., 1.,  ..., 1., 1., 1.])"
      ]
     },
     "execution_count": 39,
     "metadata": {},
     "output_type": "execute_result"
    }
   ],
   "source": [
    "x1=torch.ones((x_fake.shape[0]),1)\n",
    "x_fake1=torch.cat((x_fake,x1),dim=1)\n",
    "x_fake1[:,-1]"
   ]
  },
  {
   "cell_type": "code",
   "execution_count": 40,
   "metadata": {
    "colab": {},
    "colab_type": "code",
    "id": "46dTy1QRMt4R"
   },
   "outputs": [],
   "source": [
    "no_label=list(set(range(x.shape[0]))-set(numbers_of_labels))"
   ]
  },
  {
   "cell_type": "code",
   "execution_count": 41,
   "metadata": {
    "colab": {},
    "colab_type": "code",
    "id": "BYBMzQ3cM6xf"
   },
   "outputs": [
    {
     "data": {
      "text/plain": [
       "2785860"
      ]
     },
     "execution_count": 41,
     "metadata": {},
     "output_type": "execute_result"
    }
   ],
   "source": [
    "len(no_label)"
   ]
  },
  {
   "cell_type": "code",
   "execution_count": 42,
   "metadata": {
    "colab": {},
    "colab_type": "code",
    "id": "GlicRoHXM9Pb"
   },
   "outputs": [
    {
     "data": {
      "text/plain": [
       "False"
      ]
     },
     "execution_count": 42,
     "metadata": {},
     "output_type": "execute_result"
    }
   ],
   "source": [
    "numbers_of_labels[0] in no_label"
   ]
  },
  {
   "cell_type": "code",
   "execution_count": 43,
   "metadata": {
    "colab": {},
    "colab_type": "code",
    "id": "qhAVYCkXTY4U"
   },
   "outputs": [],
   "source": [
    "x_with_labels=torch.cat((x,x0),dim=1)"
   ]
  },
  {
   "cell_type": "code",
   "execution_count": 44,
   "metadata": {
    "colab": {},
    "colab_type": "code",
    "id": "p2tqd5z_Tvnj"
   },
   "outputs": [
    {
     "data": {
      "text/plain": [
       "tensor(1.)"
      ]
     },
     "execution_count": 44,
     "metadata": {},
     "output_type": "execute_result"
    }
   ],
   "source": [
    "x_with_labels[numbers_of_labels[0]][-1]"
   ]
  },
  {
   "cell_type": "code",
   "execution_count": 45,
   "metadata": {
    "colab": {},
    "colab_type": "code",
    "id": "d8t_82uiNcmq"
   },
   "outputs": [],
   "source": [
    "x1=x_with_labels[torch.randperm(x_with_labels.shape[0])]\n",
    "x2=x1[:int(x_with_labels.shape[0]*0.8)]\n",
    "x3=x1[int(x_with_labels.shape[0]*0.8):]"
   ]
  },
  {
   "cell_type": "code",
   "execution_count": 46,
   "metadata": {
    "colab": {},
    "colab_type": "code",
    "id": "Go9iwVeDO56g"
   },
   "outputs": [
    {
     "data": {
      "text/plain": [
       "(tensor(100.), tensor(20.))"
      ]
     },
     "execution_count": 46,
     "metadata": {},
     "output_type": "execute_result"
    }
   ],
   "source": [
    "sum(x2[:,-1]),sum(x3[:,-1])"
   ]
  },
  {
   "cell_type": "code",
   "execution_count": 47,
   "metadata": {
    "colab": {},
    "colab_type": "code",
    "id": "Mw7GHAcryH-W"
   },
   "outputs": [
    {
     "data": {
      "text/plain": [
       "torch.Size([3428784, 401])"
      ]
     },
     "execution_count": 47,
     "metadata": {},
     "output_type": "execute_result"
    }
   ],
   "source": [
    "x4=torch.cat((x2,x_fake1),dim=0)\n",
    "x4.shape"
   ]
  },
  {
   "cell_type": "code",
   "execution_count": 48,
   "metadata": {
    "colab": {},
    "colab_type": "code",
    "id": "V0Zt3MubUwIX"
   },
   "outputs": [],
   "source": [
    "X_train=x4[:,:-1]\n",
    "X_test=x3[:,:-1]\n",
    "y_train=x4[:,-1]\n",
    "y_test=x3[:,-1]"
   ]
  },
  {
   "cell_type": "code",
   "execution_count": 49,
   "metadata": {
    "colab": {},
    "colab_type": "code",
    "id": "kpPL-7zGe82f"
   },
   "outputs": [
    {
     "data": {
      "text/plain": [
       "tensor(1200100.)"
      ]
     },
     "execution_count": 49,
     "metadata": {},
     "output_type": "execute_result"
    }
   ],
   "source": [
    "sum(y_train)"
   ]
  },
  {
   "cell_type": "code",
   "execution_count": 50,
   "metadata": {
    "colab": {},
    "colab_type": "code",
    "id": "2OJHXkOaVljo"
   },
   "outputs": [
    {
     "data": {
      "text/plain": [
       "(torch.Size([3428784, 400]),\n",
       " torch.Size([557196, 400]),\n",
       " torch.Size([3428784]),\n",
       " torch.Size([557196]))"
      ]
     },
     "execution_count": 50,
     "metadata": {},
     "output_type": "execute_result"
    }
   ],
   "source": [
    "X_train.shape,X_test.shape,y_train.shape,y_test.shape"
   ]
  },
  {
   "cell_type": "code",
   "execution_count": 51,
   "metadata": {
    "colab": {},
    "colab_type": "code",
    "id": "9hvWsQ30ah3C"
   },
   "outputs": [
    {
     "data": {
      "text/plain": [
       "tensor([[37.7297, 37.7297, 37.7297,  ..., 54.4803, 54.4803, 54.4803],\n",
       "        [37.7636, 37.7636, 37.7636,  ..., 55.5912, 55.5912, 55.5912],\n",
       "        [37.8355, 37.8355, 37.8355,  ..., 55.8096, 55.8096, 55.8096],\n",
       "        ...,\n",
       "        [37.5942, 37.5942, 37.5942,  ..., 55.6862, 55.6862, 55.6862],\n",
       "        [37.5942, 37.5942, 37.5942,  ..., 55.6862, 55.6862, 55.6862],\n",
       "        [37.5945, 37.5945, 37.5945,  ..., 55.6865, 55.6865, 55.6865]])"
      ]
     },
     "execution_count": 51,
     "metadata": {},
     "output_type": "execute_result"
    }
   ],
   "source": [
    "device = torch.device(\"cuda\" if torch.cuda.is_available() else \"cpu\")\n",
    "X_train.to(device)"
   ]
  },
  {
   "cell_type": "code",
   "execution_count": 77,
   "metadata": {
    "colab": {},
    "colab_type": "code",
    "id": "gSe5iAp3VuL0"
   },
   "outputs": [],
   "source": [
    "class MegafonNet(torch.nn.Module):\n",
    "  def __init__(self,n_hidden_neurons):\n",
    "    super(MegafonNet,self).__init__()\n",
    "\n",
    "    self.fc1=torch.nn.Linear(quantity_time_intervals*4,n_hidden_neurons)\n",
    "    self.activ1=torch.nn.Sigmoid()\n",
    "    self.fc2=torch.nn.Linear(n_hidden_neurons,n_hidden_neurons)\n",
    "    self.activ2=torch.nn.Tanh()\n",
    "    self.fc3=torch.nn.Linear(n_hidden_neurons,1)\n",
    "    self.activ3=torch.nn.Sigmoid()\n",
    "  \n",
    "  def forward(self,x):\n",
    "    x=self.fc1(x)\n",
    "    x=self.activ1(x)\n",
    "    x=self.fc2(x)\n",
    "    x=self.activ2(x)\n",
    "    x=self.fc3(x)\n",
    "    x=self.activ3(x)\n",
    "    return x\n",
    "\n",
    "megafon_net=MegafonNet(200)"
   ]
  },
  {
   "cell_type": "code",
   "execution_count": 78,
   "metadata": {
    "colab": {},
    "colab_type": "code",
    "id": "Jot4NUjiZmLn"
   },
   "outputs": [],
   "source": [
    "loss = torch.nn.BCELoss()\n",
    "\n",
    "optimizer = torch.optim.Adam(megafon_net.parameters(), \n",
    "                             lr=1.0e-3,weight_decay=0.00)"
   ]
  },
  {
   "cell_type": "code",
   "execution_count": 79,
   "metadata": {
    "colab": {},
    "colab_type": "code",
    "id": "QsEJAC4QZ0TR"
   },
   "outputs": [
    {
     "ename": "RuntimeError",
     "evalue": "shape '[1000]' is invalid for input of size 784",
     "output_type": "error",
     "traceback": [
      "\u001b[1;31m---------------------------------------------------------------------------\u001b[0m",
      "\u001b[1;31mRuntimeError\u001b[0m                              Traceback (most recent call last)",
      "\u001b[1;32m<ipython-input-79-e60b7e2f7cae>\u001b[0m in \u001b[0;36m<module>\u001b[1;34m\u001b[0m\n\u001b[0;32m     19\u001b[0m         \u001b[0mpreds\u001b[0m \u001b[1;33m=\u001b[0m \u001b[0mmegafon_net\u001b[0m\u001b[1;33m.\u001b[0m\u001b[0mforward\u001b[0m\u001b[1;33m(\u001b[0m\u001b[0mx_batch\u001b[0m\u001b[1;33m)\u001b[0m\u001b[1;33m\u001b[0m\u001b[1;33m\u001b[0m\u001b[0m\n\u001b[0;32m     20\u001b[0m \u001b[1;33m\u001b[0m\u001b[0m\n\u001b[1;32m---> 21\u001b[1;33m         \u001b[0mloss_value\u001b[0m \u001b[1;33m=\u001b[0m \u001b[0mloss\u001b[0m\u001b[1;33m(\u001b[0m\u001b[0mpreds\u001b[0m\u001b[1;33m.\u001b[0m\u001b[0mview\u001b[0m\u001b[1;33m(\u001b[0m\u001b[0mbatch_size\u001b[0m\u001b[1;33m)\u001b[0m\u001b[1;33m,\u001b[0m \u001b[0my_batch\u001b[0m\u001b[1;33m)\u001b[0m\u001b[1;33m\u001b[0m\u001b[1;33m\u001b[0m\u001b[0m\n\u001b[0m\u001b[0;32m     22\u001b[0m         \u001b[0mtotal_loss\u001b[0m\u001b[1;33m+=\u001b[0m\u001b[0mloss_value\u001b[0m\u001b[1;33m\u001b[0m\u001b[1;33m\u001b[0m\u001b[0m\n\u001b[0;32m     23\u001b[0m         \u001b[0miter\u001b[0m\u001b[1;33m+=\u001b[0m\u001b[1;36m1\u001b[0m\u001b[1;33m\u001b[0m\u001b[1;33m\u001b[0m\u001b[0m\n",
      "\u001b[1;31mRuntimeError\u001b[0m: shape '[1000]' is invalid for input of size 784"
     ]
    }
   ],
   "source": [
    "batch_size = 1000\n",
    "\n",
    "for epoch in range(50000):\n",
    "    order = torch.randperm(len(X_train))\n",
    "    total_loss=0\n",
    "    total_loss_test=0\n",
    "    iter=0\n",
    "    iter_test=0\n",
    "    train_preds=0\n",
    "    for start_index in range(0, len(X_train), batch_size):\n",
    "        # print(start_index/len(X_train))\n",
    "        optimizer.zero_grad()\n",
    "        \n",
    "        batch_indexes = order[start_index:start_index+batch_size]\n",
    "        \n",
    "        x_batch = X_train[batch_indexes]\n",
    "        y_batch = y_train[batch_indexes]\n",
    "        \n",
    "        preds = megafon_net.forward(x_batch)\n",
    "        \n",
    "        loss_value = loss(preds.view(preds.shape[0]), y_batch)\n",
    "        total_loss+=loss_value\n",
    "        iter+=1\n",
    "        loss_value.backward()\n",
    "        \n",
    "        optimizer.step()\n",
    "        \n",
    "    order = torch.randperm(len(X_test))\n",
    "    for start_index in range(0,len(X_test),batch_size):\n",
    "        batch_indexes = order[start_index:start_index+batch_size]\n",
    "        \n",
    "        x_batch = X_test[batch_indexes]\n",
    "        y_batch = y_test[batch_indexes]\n",
    "        \n",
    "        preds = megafon_net.forward(x_batch)\n",
    "        \n",
    "        loss_value = loss(preds.view(preds.shape[0]), y_batch)\n",
    "        total_loss_test+=loss_value\n",
    "        iter_test+=1\n",
    "        \n",
    "    if epoch % 1 == 0:\n",
    "        print(megafon_net.forward(X_train[:10]))\n",
    "        print(megafon_net.forward(X_train[-10:]))\n",
    "#         test_preds = megafon_net.forward(X_test)\n",
    "        print(\"train loss=\",total_loss/iter)\n",
    "        print(\"test loss=\",total_loss_test/iter_test)\n",
    "#         test_preds = test_preds.argmax(dim=1)\n",
    "#         print(sum(test_preds))\n",
    "        "
   ]
  },
  {
   "cell_type": "code",
   "execution_count": 70,
   "metadata": {},
   "outputs": [
    {
     "data": {
      "text/plain": [
       "torch.Size([2])"
      ]
     },
     "execution_count": 70,
     "metadata": {},
     "output_type": "execute_result"
    }
   ],
   "source": [
    "p=megafon_net.forward(X_train[0:2])\n",
    "p.view(2).shape"
   ]
  },
  {
   "cell_type": "code",
   "execution_count": 76,
   "metadata": {},
   "outputs": [
    {
     "name": "stdout",
     "output_type": "stream",
     "text": [
      "tensor([[0.3459],\n",
      "        [0.3459],\n",
      "        [0.3459],\n",
      "        [0.3459],\n",
      "        [0.3459],\n",
      "        [0.3459],\n",
      "        [0.3459],\n",
      "        [0.3459],\n",
      "        [0.3459],\n",
      "        [0.3459]], grad_fn=<SigmoidBackward>)\n",
      "tensor([[0.3459],\n",
      "        [0.3459],\n",
      "        [0.3459],\n",
      "        [0.3459],\n",
      "        [0.3459],\n",
      "        [0.3459],\n",
      "        [0.3459],\n",
      "        [0.3459],\n",
      "        [0.3459],\n",
      "        [0.3459]], grad_fn=<SigmoidBackward>)\n"
     ]
    }
   ],
   "source": [
    "print(megafon_net.forward(X_train[:10]))\n",
    "print(megafon_net.forward(X_train[-10:]))"
   ]
  },
  {
   "cell_type": "code",
   "execution_count": 123,
   "metadata": {},
   "outputs": [
    {
     "data": {
      "text/plain": [
       "tensor([0.8503, 0.2298], grad_fn=<SigmoidBackward>)"
      ]
     },
     "execution_count": 123,
     "metadata": {},
     "output_type": "execute_result"
    }
   ],
   "source": [
    "megafon_net.forward(X_train[-1])"
   ]
  },
  {
   "cell_type": "code",
   "execution_count": 74,
   "metadata": {},
   "outputs": [
    {
     "data": {
      "text/plain": [
       "tensor(0.8483, grad_fn=<NllLossBackward>)"
      ]
     },
     "execution_count": 74,
     "metadata": {},
     "output_type": "execute_result"
    }
   ],
   "source": [
    "loss(preds, y_batch)"
   ]
  },
  {
   "cell_type": "code",
   "execution_count": 58,
   "metadata": {},
   "outputs": [
    {
     "data": {
      "text/plain": [
       "tensor([0, 0, 0, 0, 0, 0, 0, 0, 0, 0, 0, 1, 0, 0, 0, 0, 1, 0, 1, 0, 1, 0, 0, 0,\n",
       "        0, 0, 0, 0, 0, 0, 0, 1, 0, 0, 0, 1, 1, 0, 0, 0, 0, 1, 0, 1, 0, 0, 0, 0,\n",
       "        0, 1, 0, 1, 1, 1, 0, 0, 0, 0, 0, 0, 1, 0, 0, 0, 0, 0, 0, 0, 1, 0, 0, 0,\n",
       "        0, 1, 0, 1, 1, 0, 0, 1, 0, 0, 1, 1, 0, 0, 1, 0, 1, 1, 0, 0, 1, 1, 1, 0,\n",
       "        0, 1, 0, 0])"
      ]
     },
     "execution_count": 58,
     "metadata": {},
     "output_type": "execute_result"
    }
   ],
   "source": [
    "y_batch"
   ]
  },
  {
   "cell_type": "code",
   "execution_count": 1,
   "metadata": {
    "colab": {},
    "colab_type": "code",
    "id": "zQIs0xwHfxmK"
   },
   "outputs": [
    {
     "ename": "NameError",
     "evalue": "name 'test_preds' is not defined",
     "output_type": "error",
     "traceback": [
      "\u001b[1;31m---------------------------------------------------------------------------\u001b[0m",
      "\u001b[1;31mNameError\u001b[0m                                 Traceback (most recent call last)",
      "\u001b[1;32m<ipython-input-1-c091ace71fea>\u001b[0m in \u001b[0;36m<module>\u001b[1;34m\u001b[0m\n\u001b[1;32m----> 1\u001b[1;33m \u001b[0msum\u001b[0m\u001b[1;33m(\u001b[0m\u001b[0mtest_preds\u001b[0m\u001b[1;33m)\u001b[0m\u001b[1;33m\u001b[0m\u001b[1;33m\u001b[0m\u001b[0m\n\u001b[0m",
      "\u001b[1;31mNameError\u001b[0m: name 'test_preds' is not defined"
     ]
    }
   ],
   "source": [
    "sum(test_preds)"
   ]
  },
  {
   "cell_type": "code",
   "execution_count": null,
   "metadata": {},
   "outputs": [],
   "source": []
  }
 ],
 "metadata": {
  "accelerator": "GPU",
  "colab": {
   "authorship_tag": "ABX9TyPu/R9KoebqxSPH3f9Hjcku",
   "collapsed_sections": [],
   "include_colab_link": true,
   "machine_shape": "hm",
   "name": "Megafon_test.ipynb",
   "provenance": []
  },
  "kernelspec": {
   "display_name": "Python 3",
   "language": "python",
   "name": "python3"
  },
  "language_info": {
   "codemirror_mode": {
    "name": "ipython",
    "version": 3
   },
   "file_extension": ".py",
   "mimetype": "text/x-python",
   "name": "python",
   "nbconvert_exporter": "python",
   "pygments_lexer": "ipython3",
   "version": "3.7.5"
  }
 },
 "nbformat": 4,
 "nbformat_minor": 1
}
