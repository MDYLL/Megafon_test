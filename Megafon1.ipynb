{
 "cells": [
  {
   "cell_type": "markdown",
   "metadata": {
    "colab_type": "text",
    "id": "view-in-github"
   },
   "source": [
    "<a href=\"https://colab.research.google.com/github/MDYLL/Megafon_test/blob/master/Megafon_test.ipynb\" target=\"_parent\"><img src=\"https://colab.research.google.com/assets/colab-badge.svg\" alt=\"Open In Colab\"/></a>"
   ]
  },
  {
   "cell_type": "markdown",
   "metadata": {},
   "source": [
    "## 1. Подключаем необходимые библиотеки."
   ]
  },
  {
   "cell_type": "code",
   "execution_count": 147,
   "metadata": {
    "colab": {},
    "colab_type": "code",
    "id": "QAH_T0bO_6ql"
   },
   "outputs": [],
   "source": [
    "import pandas as pd\n",
    "import torch\n",
    "import numpy as np"
   ]
  },
  {
   "cell_type": "markdown",
   "metadata": {},
   "source": [
    "## 2. Загружаем данные и повехностно изучаем глубину проблемы."
   ]
  },
  {
   "cell_type": "code",
   "execution_count": 298,
   "metadata": {
    "colab": {},
    "colab_type": "code",
    "id": "nI5O10DHAEH4"
   },
   "outputs": [],
   "source": [
    "df=pd.read_csv('C:/Users/User/Megafon/02_Data.csv',sep=';')"
   ]
  },
  {
   "cell_type": "code",
   "execution_count": 299,
   "metadata": {
    "colab": {
     "base_uri": "https://localhost:8080/",
     "height": 195
    },
    "colab_type": "code",
    "id": "lRhyMxNqAhST",
    "outputId": "2ff01eb7-4bc7-43d5-aee0-7de421121da3"
   },
   "outputs": [
    {
     "data": {
      "text/html": [
       "<div>\n",
       "<style scoped>\n",
       "    .dataframe tbody tr th:only-of-type {\n",
       "        vertical-align: middle;\n",
       "    }\n",
       "\n",
       "    .dataframe tbody tr th {\n",
       "        vertical-align: top;\n",
       "    }\n",
       "\n",
       "    .dataframe thead th {\n",
       "        text-align: right;\n",
       "    }\n",
       "</style>\n",
       "<table border=\"1\" class=\"dataframe\">\n",
       "  <thead>\n",
       "    <tr style=\"text-align: right;\">\n",
       "      <th></th>\n",
       "      <th>lac</th>\n",
       "      <th>cid</th>\n",
       "      <th>msisdn</th>\n",
       "      <th>imei</th>\n",
       "      <th>event_type</th>\n",
       "      <th>tstamp</th>\n",
       "      <th>long</th>\n",
       "      <th>lat</th>\n",
       "      <th>max_dist</th>\n",
       "      <th>cell_type</th>\n",
       "      <th>start_angle</th>\n",
       "      <th>end_angle</th>\n",
       "    </tr>\n",
       "  </thead>\n",
       "  <tbody>\n",
       "    <tr>\n",
       "      <th>0</th>\n",
       "      <td>5029</td>\n",
       "      <td>40798</td>\n",
       "      <td>158529599791</td>\n",
       "      <td>3.531111e+14</td>\n",
       "      <td>0</td>\n",
       "      <td>1369252800974</td>\n",
       "      <td>37.9305</td>\n",
       "      <td>55.7815</td>\n",
       "      <td>2101</td>\n",
       "      <td>OUTDOOR</td>\n",
       "      <td>220.0</td>\n",
       "      <td>280.0</td>\n",
       "    </tr>\n",
       "    <tr>\n",
       "      <th>1</th>\n",
       "      <td>7782</td>\n",
       "      <td>56870</td>\n",
       "      <td>158520145943</td>\n",
       "      <td>1.292900e+13</td>\n",
       "      <td>5</td>\n",
       "      <td>1369252801396</td>\n",
       "      <td>37.4239</td>\n",
       "      <td>55.7426</td>\n",
       "      <td>2</td>\n",
       "      <td>OUTDOOR</td>\n",
       "      <td>45.0</td>\n",
       "      <td>105.0</td>\n",
       "    </tr>\n",
       "    <tr>\n",
       "      <th>2</th>\n",
       "      <td>7794</td>\n",
       "      <td>32226</td>\n",
       "      <td>158521798391</td>\n",
       "      <td>3.519940e+14</td>\n",
       "      <td>5</td>\n",
       "      <td>1369252802013</td>\n",
       "      <td>37.7034</td>\n",
       "      <td>55.5803</td>\n",
       "      <td>1125</td>\n",
       "      <td>OUTDOOR</td>\n",
       "      <td>0.0</td>\n",
       "      <td>60.0</td>\n",
       "    </tr>\n",
       "    <tr>\n",
       "      <th>3</th>\n",
       "      <td>7758</td>\n",
       "      <td>33528</td>\n",
       "      <td>158537830573</td>\n",
       "      <td>3.586270e+14</td>\n",
       "      <td>0</td>\n",
       "      <td>1369252802331</td>\n",
       "      <td>37.7895</td>\n",
       "      <td>55.7042</td>\n",
       "      <td>1158</td>\n",
       "      <td>OUTDOOR</td>\n",
       "      <td>210.0</td>\n",
       "      <td>270.0</td>\n",
       "    </tr>\n",
       "    <tr>\n",
       "      <th>4</th>\n",
       "      <td>5060</td>\n",
       "      <td>17568</td>\n",
       "      <td>158510204039</td>\n",
       "      <td>3.524581e+14</td>\n",
       "      <td>8</td>\n",
       "      <td>1369252803586</td>\n",
       "      <td>37.1900</td>\n",
       "      <td>55.8308</td>\n",
       "      <td>500</td>\n",
       "      <td>OUTDOOR</td>\n",
       "      <td>180.0</td>\n",
       "      <td>240.0</td>\n",
       "    </tr>\n",
       "  </tbody>\n",
       "</table>\n",
       "</div>"
      ],
      "text/plain": [
       "    lac    cid        msisdn          imei  event_type         tstamp  \\\n",
       "0  5029  40798  158529599791  3.531111e+14           0  1369252800974   \n",
       "1  7782  56870  158520145943  1.292900e+13           5  1369252801396   \n",
       "2  7794  32226  158521798391  3.519940e+14           5  1369252802013   \n",
       "3  7758  33528  158537830573  3.586270e+14           0  1369252802331   \n",
       "4  5060  17568  158510204039  3.524581e+14           8  1369252803586   \n",
       "\n",
       "      long      lat  max_dist cell_type  start_angle  end_angle  \n",
       "0  37.9305  55.7815      2101   OUTDOOR        220.0      280.0  \n",
       "1  37.4239  55.7426         2   OUTDOOR         45.0      105.0  \n",
       "2  37.7034  55.5803      1125   OUTDOOR          0.0       60.0  \n",
       "3  37.7895  55.7042      1158   OUTDOOR        210.0      270.0  \n",
       "4  37.1900  55.8308       500   OUTDOOR        180.0      240.0  "
      ]
     },
     "execution_count": 299,
     "metadata": {},
     "output_type": "execute_result"
    }
   ],
   "source": [
    "df.head()"
   ]
  },
  {
   "cell_type": "code",
   "execution_count": 300,
   "metadata": {
    "colab": {
     "base_uri": "https://localhost:8080/",
     "height": 34
    },
    "colab_type": "code",
    "id": "jJBBcsxBXbMA",
    "outputId": "e978ae67-9db9-4a3c-ddea-b65d1ec90251"
   },
   "outputs": [
    {
     "data": {
      "text/plain": [
       "174123"
      ]
     },
     "execution_count": 300,
     "metadata": {},
     "output_type": "execute_result"
    }
   ],
   "source": [
    "df.shape[0]"
   ]
  },
  {
   "cell_type": "markdown",
   "metadata": {},
   "source": [
    "## 2.1. Посмотрим период, за который получены данные. Вдруг меня обманули с формулировкой задания."
   ]
  },
  {
   "cell_type": "code",
   "execution_count": 301,
   "metadata": {
    "colab": {
     "base_uri": "https://localhost:8080/",
     "height": 50
    },
    "colab_type": "code",
    "id": "Z6sjy3jQ53J5",
    "outputId": "6a9c510e-cd1a-412d-873f-913657261f42"
   },
   "outputs": [
    {
     "data": {
      "text/plain": [
       "(Timestamp('2013-05-22 20:00:00.974000'),\n",
       " Timestamp('2013-05-30 16:29:37.643000'))"
      ]
     },
     "execution_count": 301,
     "metadata": {},
     "output_type": "execute_result"
    }
   ],
   "source": [
    "pd.to_datetime(df.tstamp.min(), unit='ms'),pd.to_datetime(df.tstamp.max(), unit='ms')"
   ]
  },
  {
   "cell_type": "markdown",
   "metadata": {},
   "source": [
    "## 3. Рассмотрим гипотезу - Персона с двумя симками должна регистрироваться в близкие временные интервалы в находящихся рядом вышках. Для определения вышек достаточно их географических координат. Все остальное выкидываем, тогда может мне хватит памяти ноутбука.\n"
   ]
  },
  {
   "cell_type": "code",
   "execution_count": 302,
   "metadata": {
    "colab": {},
    "colab_type": "code",
    "id": "A9RIuQAQQsMF"
   },
   "outputs": [],
   "source": [
    "df=df.drop(['lac','cid','imei','event_type','max_dist','cell_type','start_angle','end_angle'],axis=1)"
   ]
  },
  {
   "cell_type": "markdown",
   "metadata": {},
   "source": [
    "## 3.1. Слегка отнормируем время. Огромные числа меня пугают."
   ]
  },
  {
   "cell_type": "code",
   "execution_count": 303,
   "metadata": {
    "colab": {},
    "colab_type": "code",
    "id": "TJW4RJxkRPqX"
   },
   "outputs": [],
   "source": [
    "df.tstamp//=1000\n",
    "df.tstamp-=df.tstamp.min(axis=0)"
   ]
  },
  {
   "cell_type": "markdown",
   "metadata": {},
   "source": [
    "## 3.2. Посмотрим распределение регистраций по всему периоду данных. 30 мая сильно расходится с описанием задания."
   ]
  },
  {
   "cell_type": "code",
   "execution_count": 304,
   "metadata": {
    "colab": {},
    "colab_type": "code",
    "id": "ZZrA5PiKW4Tp"
   },
   "outputs": [],
   "source": [
    "period=df.tstamp.max(axis=0)//1000\n",
    "y=[]\n",
    "for i in range(1000):\n",
    "  y.append(df.loc[(df.tstamp>i*period)&(df.tstamp<=(i+1)*period)].shape[0])"
   ]
  },
  {
   "cell_type": "code",
   "execution_count": 305,
   "metadata": {
    "colab": {
     "base_uri": "https://localhost:8080/",
     "height": 266
    },
    "colab_type": "code",
    "id": "vqddnxjMXGKU",
    "outputId": "4336bd08-6a3e-41c7-ccd5-5a443527a184"
   },
   "outputs": [
    {
     "data": {
      "image/png": "[encoded data removed]",
      "text/plain": [
       "<Figure size 432x288 with 1 Axes>"
      ]
     },
     "metadata": {
      "needs_background": "light"
     },
     "output_type": "display_data"
    }
   ],
   "source": [
    "from matplotlib import pyplot as plt\n",
    "plt.plot(y)\n",
    "plt.show()"
   ]
  },
  {
   "cell_type": "markdown",
   "metadata": {},
   "source": [
    "## 3.3. Ага, вот что Андрей имел в виду, когда говорил про \"реальные данные\". Судя по графику, достаточно будет рассмотреть данные только за первые 40% времени."
   ]
  },
  {
   "cell_type": "code",
   "execution_count": 306,
   "metadata": {},
   "outputs": [],
   "source": [
    "df=df.loc[df.tstamp<df.tstamp.max()*0.40]"
   ]
  },
  {
   "cell_type": "code",
   "execution_count": 307,
   "metadata": {},
   "outputs": [],
   "source": [
    "period=df.tstamp.max(axis=0)//1000\n",
    "y=[]\n",
    "for i in range(1000):\n",
    "  y.append(df.loc[(df.tstamp>i*period)&(df.tstamp<=(i+1)*period)].shape[0])"
   ]
  },
  {
   "cell_type": "code",
   "execution_count": 308,
   "metadata": {},
   "outputs": [
    {
     "data": {
      "image/png": "[encoded data removed]",
      "text/plain": [
       "<Figure size 432x288 with 1 Axes>"
      ]
     },
     "metadata": {
      "needs_background": "light"
     },
     "output_type": "display_data"
    }
   ],
   "source": [
    "from matplotlib import pyplot as plt\n",
    "plt.plot(y)\n",
    "plt.show()"
   ]
  },
  {
   "cell_type": "markdown",
   "metadata": {},
   "source": [
    "## 3.4. Глянем, сколько уникальных номеров в базе"
   ]
  },
  {
   "cell_type": "code",
   "execution_count": 159,
   "metadata": {
    "colab": {
     "base_uri": "https://localhost:8080/",
     "height": 34
    },
    "colab_type": "code",
    "id": "MGKbTFxuCnrC",
    "outputId": "f7eddd3c-a941-42bc-937d-f18bcb2161cb"
   },
   "outputs": [
    {
     "data": {
      "text/plain": [
       "2359"
      ]
     },
     "execution_count": 159,
     "metadata": {},
     "output_type": "execute_result"
    }
   ],
   "source": [
    "unique_numbers=df['msisdn'].unique()\n",
    "len(unique_numbers)"
   ]
  },
  {
   "cell_type": "markdown",
   "metadata": {},
   "source": [
    "## 3.5.Перебираем все пары номеров, кроме дублей (т.е. считаем пару (1,2) дублем (2,1)). Для каждой пары делаем выборку из датасета. Идем по строкам и ищем такие пары соседних строк, что номера телефонов в них разные. по каждой такой паре считаем евклидово расстояние по долготе и ширине, считая Землю плоской. Далее находим среднее и записываем его в словарь. Использование defaultdict нецелесообразно, но еще тратить 15 часов мне жаль. Если у Вас тоже нет желания ждать, то переходите к пункту 3.6. "
   ]
  },
  {
   "cell_type": "code",
   "execution_count": 179,
   "metadata": {},
   "outputs": [
    {
     "name": "stdout",
     "output_type": "stream",
     "text": [
      "0.0 0.000423908435777872 0.000847816871555744 0.001271725307333616 0.001695633743111488 0.00211954217888936 0.002543450614667232 0.002967359050445104 0.003391267486222976 0.0038151759220008477 0.00423908435777872 0.0046629927935565915 0.005086901229334464 0.005510809665112336 0.005934718100890208 0.00635862653666808 0.006782534972445952 0.0072064434082238235 0.007630351844001695 0.008054260279779568 0.00847816871555744 0.008902077151335312 0.009325985587113183 0.009749894022891056 0.010173802458668928 0.0105977108944468 0.011021619330224672 0.011445527766002543 0.011869436201780416 0.012293344637558287 0.01271725307333616 0.01314116150911403 0.013565069944891903 0.013988978380669776 0.014412886816447647 0.01483679525222552 0.01526070368800339 0.015684612123781264 0.016108520559559136 0.016532428995337006 0.01695633743111488 0.01738024586689275 0.017804154302670624 0.018228062738448497 0.018651971174226366 0.01907587961000424 0.01949978804578211 0.019923696481559984 0.020347604917337857 0.020771513353115726 0.0211954217888936 0.02161933022467147 0.022043238660449344 0.022467147096227214 0.022891055532005086 0.02331496396778296 0.02373887240356083 0.024162780839338704 0.024586689275116574 0.025010597710894446 0.02543450614667232 0.025858414582450192 0.02628232301822806 0.026706231454005934 0.027130139889783807 0.02755404832556168 0.027977956761339552 0.02840186519711742 0.028825773632895294 0.029249682068673167 0.02967359050445104 0.03009749894022891 0.03052140737600678 0.030945315811784654 0.03136922424756253 0.0317931326833404 0.03221704111911827 0.032640949554896145 0.03306485799067401 0.033488766426451884 0.03391267486222976 0.03433658329800763 0.0347604917337855 0.035184400169563375 0.03560830860534125 0.03603221704111912 0.03645612547689699 0.03688003391267486 0.03730394234845273 0.037727850784230604 0.03815175922000848 0.03857566765578635 0.03899957609156422 0.039423484527342095 0.03984739296311997 0.04027130139889784 0.040695209834675714 0.04111911827045358 0.04154302670623145 0.041966935142009325 0.0423908435777872 0.04281475201356507 0.04323866044934294 0.043662568885120816 0.04408647732089869 0.04451038575667656 0.04493429419245443 0.0453582026282323 0.04578211106401017 0.046206019499788045 0.04662992793556592 0.04705383637134379 0.04747774480712166 0.047901653242899536 0.04832556167867741 0.048749470114455275 0.04917337855023315 0.04959728698601102 0.05002119542178889 0.050445103857566766 0.05086901229334464 0.05129292072912251 0.051716829164900384 0.05214073760067826 0.05256464603645612 0.052988554472233995 0.05341246290801187 0.05383637134378974 0.05426027977956761 0.054684188215345486 0.05510809665112336 0.05553200508690123 0.055955913522679104 0.05637982195845697 0.05680373039423484 0.057227638830012716 0.05765154726579059 0.05807545570156846 0.058499364137346334 0.05892327257312421 0.05934718100890208 0.05977108944467995 0.06019499788045782 0.06061890631623569 0.06104281475201356 0.061466723187791436 0.06189063162356931 0.06231454005934718 0.06273844849512505 0.06316235693090293 0.0635862653666808 0.06401017380245867 0.06443408223823655 0.06485799067401442 0.06528189910979229 0.06570580754557016 0.06612971598134802 0.0665536244171259 0.06697753285290377 0.06740144128868164 0.06782534972445951 0.06824925816023739 0.06867316659601526 0.06909707503179313 0.069520983467571 0.06994489190334888 0.07036880033912675 0.07079270877490462 0.0712166172106825 0.07164052564646037 0.07206443408223824 0.07248834251801611 0.07291225095379399 0.07333615938957186 0.07376006782534972 0.07418397626112759 0.07460788469690546 0.07503179313268334 0.07545570156846121 0.07587961000423908 0.07630351844001695 0.07672742687579483 0.0771513353115727 0.07757524374735057 0.07799915218312845 0.07842306061890632 0.07884696905468419 0.07927087749046206 0.07969478592623994 0.08011869436201781 0.08054260279779568 0.08096651123357355 0.08139041966935143 0.08181432810512929 0.08223823654090716 0.08266214497668503 0.0830860534124629 0.08350996184824078 0.08393387028401865 0.08435777871979652 0.0847816871555744 0.08520559559135227 0.08562950402713014 0.08605341246290801 0.08647732089868589 0.08690122933446376 0.08732513777024163 0.0877490462060195 0.08817295464179738 0.08859686307757525 0.08902077151335312 0.08944467994913098 0.08986858838490885 0.09029249682068673 0.0907164052564646 0.09114031369224247 0.09156422212802034 0.09198813056379822 0.09241203899957609 0.09283594743535396 0.09325985587113184 0.09368376430690971 0.09410767274268758 0.09453158117846545 0.09495548961424333 0.0953793980500212 0.09580330648579907 0.09622721492157695 0.09665112335735482 0.09707503179313268 0.09749894022891055 0.09792284866468842 0.0983467571004663 0.09877066553624417 0.09919457397202204 0.09961848240779991 0.10004239084357779 0.10046629927935566 0.10089020771513353 0.1013141161509114 0.10173802458668928 0.10216193302246715 0.10258584145824502 0.1030097498940229 0.10343365832980077 0.10385756676557864 0.10428147520135651 0.10470538363713437 0.10512929207291224 0.10555320050869012 0.10597710894446799 0.10640101738024586 0.10682492581602374 0.10724883425180161 0.10767274268757948 0.10809665112335735 0.10852055955913523 0.1089444679949131 0.10936837643069097 0.10979228486646884 0.11021619330224672 0.11064010173802459 0.11106401017380246 0.11148791860958034 0.11191182704535821 0.11233573548113608 0.11275964391691394 0.11318355235269181 0.11360746078846969 0.11403136922424756 0.11445527766002543 0.1148791860958033 0.11530309453158118 0.11572700296735905 0.11615091140313692 0.1165748198389148 0.11699872827469267 0.11742263671047054 0.11784654514624841 0.11827045358202629 0.11869436201780416 0.11911827045358203 0.1195421788893599 0.11996608732513778 0.12038999576091564 0.12081390419669351 0.12123781263247138 0.12166172106824925 0.12208562950402713 0.122509537939805 0.12293344637558287 0.12335735481136074 0.12378126324713862 0.12420517168291649 0.12462908011869436 0.12505298855447222 0.1254768969902501 0.12590080542602797 0.12632471386180585 0.1267486222975837 0.1271725307333616 0.12759643916913946 0.12802034760491734 0.1284442560406952 0.1288681644764731 0.12929207291225095 0.12971598134802884 0.1301398897838067 0.13056379821958458 0.13098770665536244 0.13141161509114033 0.13183552352691819 0.13225943196269604 0.13268334039847393 0.1331072488342518 0.13353115727002968 0.13395506570580754 0.13437897414158542 0.13480288257736328 0.13522679101314117 0.13565069944891903 0.1360746078846969 0.13649851632047477 0.13692242475625266 0.13734633319203052 0.1377702416278084 0.13819415006358626 0.13861805849936415 0.139041966935142 0.1394658753709199 0.13988978380669775 0.1403136922424756 0.1407376006782535 0.14116150911403136 0.14158541754980924 0.1420093259855871 0.142433234421365 0.14285714285714285 0.14328105129292074 0.1437049597286986 0.14412886816447648 0.14455277660025434 0.14497668503603223 0.14540059347181009 0.14582450190758797 0.14624841034336583 0.14667231877914372 0.14709622721492158 0.14752013565069944 0.14794404408647732 0.14836795252225518 0.14879186095803307 0.14921576939381093 0.1496396778295888 0.15006358626536667 0.15048749470114456 0.15091140313692242 0.1513353115727003 0.15175922000847816 0.15218312844425605 0.1526070368800339 0.1530309453158118 0.15345485375158965 0.15387876218736754 0.1543026706231454 0.15472657905892329 0.15515048749470114 0.155574395930479 0.1559983043662569 0.15642221280203475 0.15684612123781264 0.1572700296735905 0.15769393810936838 0.15811784654514624 0.15854175498092413 0.15896566341670199 0.15938957185247987 0.15981348028825773 0.16023738872403562 0.16066129715981348 0.16108520559559136 0.16150911403136922 0.1619330224671471 0.16235693090292497 0.16278083933870285 0.1632047477744807 0.16362865621025857 0.16405256464603646 0.16447647308181432 0.1649003815175922 0.16532428995337006 0.16574819838914795 0.1661721068249258 0.1665960152607037 0.16701992369648155 0.16744383213225944 0.1678677405680373 0.16829164900381519 0.16871555743959304 0.16913946587537093 0.1695633743111488 0.16998728274692668 0.17041119118270454 0.1708350996184824 0.17125900805426028 0.17168291649003814 0.17210682492581603 0.17253073336159389 0.17295464179737177 0.17337855023314963 "
     ]
    },
    {
     "name": "stdout",
     "output_type": "stream",
     "text": [
      "0.17380245866892752 0.17422636710470538 0.17465027554048326 0.17507418397626112 0.175498092412039 0.17592200084781687 0.17634590928359475 0.1767698177193726 0.1771937261551505 0.17761763459092836 0.17804154302670624 0.1784654514624841 0.17888935989826196 0.17931326833403985 0.1797371767698177 0.1801610852055956 0.18058499364137345 0.18100890207715134 0.1814328105129292 0.18185671894870709 0.18228062738448494 0.18270453582026283 0.1831284442560407 0.18355235269181858 0.18397626112759644 0.18440016956337432 0.18482407799915218 0.18524798643493007 0.18567189487070793 0.18609580330648579 0.18651971174226367 0.18694362017804153 0.18736752861381942 0.18779143704959728 0.18821534548537516 0.18863925392115302 0.1890631623569309 0.18948707079270877 0.18991097922848665 0.1903348876642645 0.1907587961000424 0.19118270453582026 0.19160661297159814 0.192030521407376 0.1924544298431539 0.19287833827893175 0.19330224671470964 0.1937261551504875 0.19415006358626535 0.19457397202204324 0.1949978804578211 0.19542178889359899 0.19584569732937684 0.19626960576515473 0.1966935142009326 0.19711742263671048 0.19754133107248834 0.19796523950826622 0.19838914794404408 0.19881305637982197 0.19923696481559983 0.1996608732513777 0.20008478168715557 0.20050869012293346 0.20093259855871132 0.2013565069944892 0.20178041543026706 0.20220432386604492 0.2026282323018228 0.20305214073760067 0.20347604917337855 0.2038999576091564 0.2043238660449343 0.20474777448071216 0.20517168291649004 0.2055955913522679 0.2060194997880458 0.20644340822382365 0.20686731665960154 0.2072912250953794 0.20771513353115728 0.20813904196693514 0.20856295040271303 0.20898685883849089 0.20941076727426874 0.20983467571004663 0.2102585841458245 0.21068249258160238 0.21110640101738024 0.21153030945315812 0.21195421788893598 0.21237812632471387 0.21280203476049173 0.2132259431962696 0.21364985163204747 0.21407376006782536 0.21449766850360322 0.2149215769393811 0.21534548537515896 0.21576939381093685 0.2161933022467147 0.2166172106824926 0.21704111911827045 0.2174650275540483 0.2178889359898262 0.21831284442560406 0.21873675286138194 0.2191606612971598 0.2195845697329377 0.22000847816871555 0.22043238660449344 0.2208562950402713 0.22128020347604918 0.22170411191182704 0.22212802034760493 0.22255192878338279 0.22297583721916067 0.22339974565493853 0.22382365409071642 0.22424756252649428 0.22467147096227216 0.22509537939805002 0.22551928783382788 0.22594319626960577 0.22636710470538363 0.2267910131411615 0.22721492157693937 0.22763883001271726 0.22806273844849512 0.228486646884273 0.22891055532005086 0.22933446375582875 0.2297583721916066 0.2301822806273845 0.23060618906316235 0.23103009749894024 0.2314540059347181 0.23187791437049599 0.23230182280627384 0.2327257312420517 0.2331496396778296 0.23357354811360745 0.23399745654938534 0.2344213649851632 0.23484527342094108 0.23526918185671894 0.23569309029249683 0.23611699872827469 0.23654090716405257 0.23696481559983043 0.23738872403560832 0.23781263247138618 0.23823654090716406 0.23866044934294192 0.2390843577787198 0.23950826621449767 0.23993217465027555 0.2403560830860534 0.24077999152183127 0.24120389995760916 0.24162780839338702 0.2420517168291649 0.24247562526494276 0.24289953370072065 0.2433234421364985 0.2437473505722764 0.24417125900805425 0.24459516744383214 0.24501907587961 0.24544298431538789 0.24586689275116574 0.24629080118694363 0.2467147096227215 0.24713861805849938 0.24756252649427724 0.24798643493005512 0.24841034336583298 0.24883425180161084 0.24925816023738873 0.24968206867316659 0.25010597710894444 0.25052988554472233 0.2509537939805002 0.2513777024162781 0.25180161085205593 0.2522255192878338 0.2526494277236117 0.2530733361593896 0.2534972445951674 0.2539211530309453 0.2543450614667232 0.2547689699025011 0.2551928783382789 0.2556167867740568 0.2560406952098347 0.2564646036456125 0.2568885120813904 0.2573124205171683 0.2577363289529462 0.258160237388724 0.2585841458245019 0.2590080542602798 0.25943196269605767 0.2598558711318355 0.2602797795676134 0.2607036880033913 0.26112759643916916 0.261551504874947 0.2619754133107249 0.26239932174650277 0.26282323018228065 0.2632471386180585 0.26367104705383637 0.26409495548961426 0.2645188639253921 0.26494277236117 0.26536668079694786 0.26579058923272575 0.2662144976685036 0.26663840610428147 0.26706231454005935 0.26748622297583724 0.26791013141161507 0.26833403984739296 0.26875794828317084 0.26918185671894873 0.26960576515472656 0.27002967359050445 0.27045358202628234 0.2708774904620602 0.27130139889783805 0.27172530733361594 0.2721492157693938 0.27257312420517166 0.27299703264094954 0.27342094107672743 0.2738448495125053 0.27426875794828315 0.27469266638406103 0.2751165748198389 0.2755404832556168 0.27596439169139464 0.2763883001271725 0.2768122085629504 0.2772361169987283 0.27766002543450613 0.278083933870284 0.2785078423060619 0.2789317507418398 0.2793556591776176 0.2797795676133955 0.2802034760491734 0.2806273844849512 0.2810512929207291 0.281475201356507 0.2818991097922849 0.2823230182280627 0.2827469266638406 0.2831708350996185 0.2835947435353964 0.2840186519711742 0.2844425604069521 0.28486646884273 0.28529037727850787 0.2857142857142857 0.2861381941500636 0.28656210258584147 0.2869860110216193 0.2874099194573972 0.2878338278931751 0.28825773632895296 0.2886816447647308 0.2891055532005087 0.28952946163628657 0.28995337007206445 0.2903772785078423 0.29080118694362017 0.29122509537939806 0.29164900381517594 0.2920729122509538 0.29249682068673166 0.29292072912250955 0.29334463755828744 0.29376854599406527 0.29419245442984315 0.29461636286562104 0.29504027130139887 0.29546417973717676 0.29588808817295464 0.29631199660873253 0.29673590504451036 0.29715981348028825 0.29758372191606614 0.298007630351844 0.29843153878762185 0.29885544722339974 0.2992793556591776 0.2997032640949555 0.30012717253073334 0.30055108096651123 0.3009749894022891 0.301398897838067 0.30182280627384483 0.3022467147096227 0.3026706231454006 0.30309453158117844 0.3035184400169563 0.3039423484527342 0.3043662568885121 0.30479016532428993 0.3052140737600678 0.3056379821958457 0.3060618906316236 0.3064857990674014 0.3069097075031793 0.3073336159389572 0.3077575243747351 0.3081814328105129 0.3086053412462908 0.3090292496820687 0.30945315811784657 0.3098770665536244 0.3103009749894023 0.3107248834251802 0.311148791860958 0.3115727002967359 0.3119966087325138 0.31242051716829167 0.3128444256040695 0.3132683340398474 0.31369224247562527 0.31411615091140316 0.314540059347181 0.3149639677829589 0.31538787621873676 0.31581178465451465 0.3162356930902925 0.31665960152607037 0.31708350996184825 0.31750741839762614 0.31793132683340397 0.31835523526918186 0.31877914370495974 0.3192030521407376 0.31962696057651546 0.32005086901229335 0.32047477744807124 0.32089868588384907 0.32132259431962695 0.32174650275540484 0.3221704111911827 0.32259431962696056 0.32301822806273844 0.32344213649851633 0.3238660449342942 0.32428995337007205 0.32471386180584993 0.3251377702416278 0.3255616786774057 0.32598558711318354 0.3264094955489614 0.3268334039847393 0.32725731242051714 0.32768122085629503 0.3281051292920729 0.3285290377278508 0.32895294616362863 0.3293768545994065 0.3298007630351844 0.3302246714709623 0.3306485799067401 0.331072488342518 0.3314963967782959 0.3319203052140738 0.3323442136498516 0.3327681220856295 0.3331920305214074 0.3336159389571852 0.3340398473929631 0.334463755828741 0.3348876642645189 0.3353115727002967 0.3357354811360746 0.3361593895718525 0.33658329800763037 0.3370072064434082 0.3374311148791861 0.337855023314964 0.33827893175074186 0.3387028401865197 0.3391267486222976 0.33955065705807547 0.33997456549385335 0.3403984739296312 0.34082238236540907 0.34124629080118696 0.3416701992369648 0.3420941076727427 0.34251801610852056 0.34294192454429845 0.3433658329800763 0.34378974141585417 0.34421364985163205 0.34463755828740994 0.34506146672318777 0.34548537515896566 0.34590928359474354 0.34633319203052143 0.34675710046629926 0.34718100890207715 0.34760491733785503 0.3480288257736329 0.34845273420941075 0.34887664264518864 0.3493005510809665 0.34972445951674436 0.35014836795252224 0.35057227638830013 0.350996184824078 0.35142009325985585 "
     ]
    },
    {
     "name": "stdout",
     "output_type": "stream",
     "text": [
      "0.35184400169563373 0.3522679101314116 0.3526918185671895 0.35311572700296734 0.3535396354387452 0.3539635438745231 0.354387452310301 0.35481136074607883 0.3552352691818567 0.3556591776176346 0.3560830860534125 0.3565069944891903 0.3569309029249682 0.3573548113607461 0.3577787197965239 0.3582026282323018 0.3586265366680797 0.3590504451038576 0.3594743535396354 0.3598982619754133 0.3603221704111912 0.3607460788469691 0.3611699872827469 0.3615938957185248 0.3620178041543027 0.36244171259008057 0.3628656210258584 0.3632895294616363 0.36371343789741417 0.36413734633319206 0.3645612547689699 0.3649851632047478 0.36540907164052566 0.3658329800763035 0.3662568885120814 0.36668079694785927 0.36710470538363715 0.367528613819415 0.36795252225519287 0.36837643069097076 0.36880033912674864 0.3692242475625265 0.36964815599830436 0.37007206443408225 0.37049597286986014 0.37091988130563797 0.37134378974141585 0.37176769817719374 0.37219160661297157 0.37261551504874946 0.37303942348452734 0.37346333192030523 0.37388724035608306 0.37431114879186095 0.37473505722763883 0.3751589656634167 0.37558287409919455 0.37600678253497244 0.3764306909707503 0.3768545994065282 0.37727850784230604 0.37770241627808393 0.3781263247138618 0.3785502331496397 0.37897414158541753 0.3793980500211954 0.3798219584569733 0.38024586689275114 0.380669775328529 0.3810936837643069 0.3815175922000848 0.38194150063586263 0.3823654090716405 0.3827893175074184 0.3832132259431963 0.3836371343789741 0.384061042814752 0.3844849512505299 0.3849088596863078 0.3853327681220856 0.3857566765578635 0.3861805849936414 0.38660449342941927 0.3870284018651971 0.387452310300975 0.3878762187367529 0.3883001271725307 0.3887240356083086 0.3891479440440865 0.38957185247986437 0.3899957609156422 0.3904196693514201 0.39084357778719797 0.39126748622297586 0.3916913946587537 0.3921153030945316 0.39253921153030946 0.39296311996608735 0.3933870284018652 0.39381093683764307 0.39423484527342095 0.39465875370919884 0.39508266214497667 0.39550657058075456 0.39593047901653244 0.3963543874523103 0.39677829588808816 0.39720220432386605 0.39762611275964393 0.39805002119542177 0.39847392963119965 0.39889783806697754 0.3993217465027554 0.39974565493853326 0.40016956337431114 0.40059347181008903 0.4010173802458669 0.40144128868164475 0.40186519711742263 0.4022891055532005 0.4027130139889784 0.40313692242475624 0.4035608308605341 0.403984739296312 0.40440864773208984 0.40483255616786773 0.4052564646036456 0.4056803730394235 0.40610428147520133 0.4065281899109792 0.4069520983467571 0.407376006782535 0.4077999152183128 0.4082238236540907 0.4086477320898686 0.4090716405256465 0.4094955489614243 0.4099194573972022 0.4103433658329801 0.410767274268758 0.4111911827045358 0.4116150911403137 0.4120389995760916 0.4124629080118694 0.4128868164476473 0.4133107248834252 0.41373463331920307 0.4141585417549809 0.4145824501907588 0.4150063586265367 0.41543026706231456 0.4158541754980924 0.4162780839338703 0.41670199236964817 0.41712590080542605 0.4175498092412039 0.41797371767698177 0.41839762611275966 0.4188215345485375 0.4192454429843154 0.41966935142009326 0.42009325985587115 0.420517168291649 0.42094107672742687 0.42136498516320475 0.42178889359898264 0.42221280203476047 0.42263671047053836 0.42306061890631624 0.42348452734209413 0.42390843577787196 0.42433234421364985 0.42475625264942773 0.4251801610852056 0.42560406952098345 0.42602797795676134 0.4264518863925392 0.42687579482831706 0.42729970326409494 0.42772361169987283 0.4281475201356507 0.42857142857142855 0.42899533700720643 0.4294192454429843 0.4298431538787622 0.43026706231454004 0.4306909707503179 0.4311148791860958 0.4315387876218737 0.43196269605765153 0.4323866044934294 0.4328105129292073 0.4332344213649852 0.433658329800763 0.4340822382365409 0.4345061466723188 0.4349300551080966 0.4353539635438745 0.4357778719796524 0.4362017804154303 0.4366256888512081 0.437049597286986 0.4374735057227639 0.4378974141585418 0.4383213225943196 0.4387452310300975 0.4391691394658754 0.43959304790165327 0.4400169563374311 0.440440864773209 0.44086477320898687 0.44128868164476476 0.4417125900805426 0.4421364985163205 0.44256040695209836 0.4429843153878762 0.4434082238236541 0.44383213225943197 0.44425604069520985 0.4446799491309877 0.44510385756676557 0.44552776600254346 0.44595167443832134 0.4463755828740992 0.44679949130987706 0.44722339974565495 0.44764730818143283 0.44807121661721067 0.44849512505298855 0.44891903348876644 0.4493429419245443 0.44976685036032216 0.45019075879610004 0.45061466723187793 0.45103857566765576 0.45146248410343365 0.45188639253921153 0.4523103009749894 0.45273420941076725 0.45315811784654514 0.453582026282323 0.4540059347181009 0.45442984315387874 0.45485375158965663 0.4552776600254345 0.4557015684612124 0.45612547689699023 0.4565493853327681 0.456973293768546 0.45739720220432384 0.4578211106401017 0.4582450190758796 0.4586689275116575 0.45909283594743533 0.4595167443832132 0.4599406528189911 0.460364561254769 0.4607884696905468 0.4612123781263247 0.4616362865621026 0.4620601949978805 0.4624841034336583 0.4629080118694362 0.4633319203052141 0.46375582874099197 0.4641797371767698 0.4646036456125477 0.4650275540483256 0.4654514624841034 0.4658753709198813 0.4662992793556592 0.46672318779143707 0.4671470962272149 0.4675710046629928 0.46799491309877067 0.46841882153454856 0.4688427299703264 0.4692666384061043 0.46969054684188216 0.47011445527766005 0.4705383637134379 0.47096227214921577 0.47138618058499365 0.47181008902077154 0.47223399745654937 0.47265790589232726 0.47308181432810514 0.473505722763883 0.47392963119966086 0.47435353963543875 0.47477744807121663 0.47520135650699447 0.47562526494277235 0.47604917337855024 0.4764730818143281 0.47689699025010596 0.47732089868588384 0.47774480712166173 0.4781687155574396 0.47859262399321745 0.47901653242899533 0.4794404408647732 0.4798643493005511 0.48028825773632894 0.4807121661721068 0.4811360746078847 0.48155998304366254 0.48198389147944043 0.4824077999152183 0.4828317083509962 0.48325561678677403 0.4836795252225519 0.4841034336583298 0.4845273420941077 0.4849512505298855 0.4853751589656634 0.4857990674014413 0.4862229758372192 0.486646884272997 0.4870707927087749 0.4874947011445528 0.4879186095803307 0.4883425180161085 0.4887664264518864 0.4891903348876643 0.4896142433234421 0.49003815175922 0.4904620601949979 0.49088596863077577 0.4913098770665536 0.4917337855023315 0.4921576939381094 0.49258160237388726 0.4930055108096651 0.493429419245443 0.49385332768122087 0.49427723611699875 0.4947011445527766 0.49512505298855447 0.49554896142433236 0.49597286986011024 0.4963967782958881 0.49682068673166596 0.49724459516744385 0.4976685036032217 0.49809241203899957 0.49851632047477745 0.49894022891055534 0.49936413734633317 0.49978804578211106 0.5002119542178889 0.5006358626536668 0.5010597710894447 0.5014836795252225 0.5019075879610004 0.5023314963967783 0.5027554048325562 0.5031793132683341 0.5036032217041119 0.5040271301398898 0.5044510385756676 0.5048749470114455 0.5052988554472234 0.5057227638830013 0.5061466723187792 0.506570580754557 0.5069944891903349 0.5074183976261127 0.5078423060618906 0.5082662144976685 0.5086901229334464 0.5091140313692243 0.5095379398050022 0.50996184824078 0.5103857566765578 0.5108096651123357 0.5112335735481136 0.5116574819838915 0.5120813904196694 0.5125052988554473 0.512929207291225 0.5133531157270029 0.5137770241627808 0.5142009325985587 0.5146248410343366 0.5150487494701145 0.5154726579058924 0.5158965663416702 0.516320474777448 0.5167443832132259 0.5171682916490038 0.5175922000847817 0.5180161085205596 0.5184400169563375 0.5188639253921153 0.5192878338278932 0.519711742263671 0.5201356506994489 0.5205595591352268 0.5209834675710047 0.5214073760067826 0.5218312844425604 0.5222551928783383 0.5226791013141161 0.523103009749894 0.5235269181856719 0.5239508266214498 0.5243747350572276 0.5247986434930055 0.5252225519287834 0.5256464603645613 0.5260703688003391 0.526494277236117 0.5269181856718949 0.5273420941076727 0.5277660025434506 0.5281899109792285 0.5286138194150064 0.5290377278507842 0.5294616362865621 0.52988554472234 0.5303094531581178 0.5307333615938957 0.5311572700296736 0.5315811784654515 "
     ]
    },
    {
     "name": "stdout",
     "output_type": "stream",
     "text": [
      "0.5320050869012294 0.5324289953370072 0.532852903772785 0.5332768122085629 0.5337007206443408 0.5341246290801187 0.5345485375158966 0.5349724459516745 0.5353963543874523 0.5358202628232301 0.536244171259008 0.5366680796947859 0.5370919881305638 0.5375158965663417 0.5379398050021196 0.5383637134378975 0.5387876218736752 0.5392115303094531 0.539635438745231 0.5400593471810089 0.5404832556167868 0.5409071640525647 0.5413310724883426 0.5417549809241204 0.5421788893598982 0.5426027977956761 0.543026706231454 0.5434506146672319 0.5438745231030098 0.5442984315387877 0.5447223399745655 0.5451462484103433 0.5455701568461212 0.5459940652818991 0.546417973717677 0.5468418821534549 0.5472657905892327 0.5476896990250106 0.5481136074607885 0.5485375158965663 0.5489614243323442 0.5493853327681221 0.5498092412039 0.5502331496396778 0.5506570580754557 0.5510809665112336 0.5515048749470114 0.5519287833827893 0.5523526918185672 0.552776600254345 0.5532005086901229 0.5536244171259008 0.5540483255616787 0.5544722339974566 0.5548961424332344 0.5553200508690123 0.5557439593047901 0.556167867740568 0.5565917761763459 0.5570156846121238 0.5574395930479017 0.5578635014836796 0.5582874099194574 0.5587113183552352 0.5591352267910131 0.559559135226791 0.5599830436625689 0.5604069520983468 0.5608308605341247 0.5612547689699025 0.5616786774056803 0.5621025858414582 0.5625264942772361 0.562950402713014 0.5633743111487919 0.5637982195845698 0.5642221280203477 0.5646460364561254 0.5650699448919033 0.5654938533276812 0.5659177617634591 0.566341670199237 0.5667655786350149 0.5671894870707928 0.5676133955065705 0.5680373039423484 0.5684612123781263 0.5688851208139042 0.5693090292496821 0.56973293768546 0.5701568461212378 0.5705807545570157 0.5710046629927935 0.5714285714285714 0.5718524798643493 0.5722763883001272 0.5727002967359051 0.5731242051716829 0.5735481136074608 0.5739720220432386 0.5743959304790165 0.5748198389147944 0.5752437473505723 0.5756676557863502 0.576091564222128 0.5765154726579059 0.5769393810936838 0.5773632895294616 0.5777871979652395 0.5782111064010174 0.5786350148367952 0.5790589232725731 0.579482831708351 0.5799067401441289 0.5803306485799068 0.5807545570156846 0.5811784654514625 0.5816023738872403 0.5820262823230182 0.5824501907587961 0.582874099194574 0.5832980076303519 0.5837219160661297 0.5841458245019076 0.5845697329376854 0.5849936413734633 0.5854175498092412 0.5858414582450191 0.586265366680797 0.5866892751165749 0.5871131835523526 0.5875370919881305 0.5879610004239084 0.5883849088596863 0.5888088172954642 0.5892327257312421 0.58965663416702 0.5900805426027977 0.5905044510385756 0.5909283594743535 0.5913522679101314 0.5917761763459093 0.5922000847816872 0.5926239932174651 0.593047901653243 0.5934718100890207 0.5938957185247986 0.5943196269605765 0.5947435353963544 0.5951674438321323 0.5955913522679102 0.596015260703688 0.5964391691394659 0.5968630775752437 0.5972869860110216 0.5977108944467995 0.5981348028825774 0.5985587113183553 0.5989826197541331 0.599406528189911 0.5998304366256888 0.6002543450614667 0.6006782534972446 0.6011021619330225 0.6015260703688003 0.6019499788045782 0.6023738872403561 0.602797795676134 0.6032217041119118 0.6036456125476897 0.6040695209834676 0.6044934294192454 0.6049173378550233 0.6053412462908012 0.6057651547265791 0.6061890631623569 0.6066129715981348 0.6070368800339127 0.6074607884696905 0.6078846969054684 0.6083086053412463 0.6087325137770242 0.6091564222128021 0.6095803306485799 0.6100042390843577 0.6104281475201356 0.6108520559559135 0.6112759643916914 0.6116998728274693 0.6121237812632472 0.612547689699025 0.6129715981348028 0.6133955065705807 0.6138194150063586 0.6142433234421365 0.6146672318779144 0.6150911403136923 0.6155150487494702 0.6159389571852479 0.6163628656210258 0.6167867740568037 0.6172106824925816 0.6176345909283595 0.6180584993641374 0.6184824077999153 0.6189063162356931 0.6193302246714709 0.6197541331072488 0.6201780415430267 0.6206019499788046 0.6210258584145825 0.6214497668503604 0.6218736752861382 0.622297583721916 0.6227214921576939 0.6231454005934718 0.6235693090292497 0.6239932174650276 0.6244171259008054 0.6248410343365833 0.6252649427723612 0.625688851208139 0.6261127596439169 0.6265366680796948 0.6269605765154727 0.6273844849512505 0.6278083933870284 0.6282323018228063 0.6286562102585841 0.629080118694362 0.6295040271301399 0.6299279355659178 0.6303518440016956 0.6307757524374735 0.6311996608732514 0.6316235693090293 0.6320474777448071 0.632471386180585 0.6328952946163628 0.6333192030521407 0.6337431114879186 0.6341670199236965 0.6345909283594744 0.6350148367952523 0.63543874523103 0.6358626536668079 0.6362865621025858 0.6367104705383637 0.6371343789741416 0.6375582874099195 0.6379821958456974 0.6384061042814752 0.638830012717253 0.6392539211530309 0.6396778295888088 0.6401017380245867 0.6405256464603646 0.6409495548961425 0.6413734633319204 0.6417973717676981 0.642221280203476 0.6426451886392539 0.6430690970750318 0.6434930055108097 0.6439169139465876 0.6443408223823655 0.6447647308181432 0.6451886392539211 0.645612547689699 0.6460364561254769 0.6464603645612548 0.6468842729970327 0.6473081814328105 0.6477320898685884 0.6481559983043662 0.6485799067401441 0.649003815175922 0.6494277236116999 0.6498516320474778 0.6502755404832556 0.6506994489190335 0.6511233573548114 0.6515472657905892 0.6519711742263671 0.652395082662145 0.6528189910979229 0.6532428995337007 0.6536668079694786 0.6540907164052565 0.6545146248410343 0.6549385332768122 0.6553624417125901 0.655786350148368 0.6562102585841458 0.6566341670199237 0.6570580754557016 0.6574819838914795 0.6579058923272573 0.6583298007630352 0.658753709198813 0.6591776176345909 0.6596015260703688 0.6600254345061467 0.6604493429419246 0.6608732513777024 0.6612971598134803 0.6617210682492581 0.662144976685036 0.6625688851208139 0.6629927935565918 0.6634167019923697 0.6638406104281476 0.6642645188639253 0.6646884272997032 0.6651123357354811 0.665536244171259 0.6659601526070369 0.6663840610428148 0.6668079694785927 0.6672318779143704 0.6676557863501483 0.6680796947859262 0.6685036032217041 0.668927511657482 0.6693514200932599 0.6697753285290378 0.6701992369648156 0.6706231454005934 0.6710470538363713 0.6714709622721492 0.6718948707079271 0.672318779143705 0.6727426875794829 0.6731665960152607 0.6735905044510386 0.6740144128868164 0.6744383213225943 0.6748622297583722 0.6752861381941501 0.675710046629928 0.6761339550657058 0.6765578635014837 0.6769817719372615 0.6774056803730394 0.6778295888088173 0.6782534972445952 0.678677405680373 0.6791013141161509 0.6795252225519288 0.6799491309877067 0.6803730394234845 0.6807969478592624 0.6812208562950403 0.6816447647308181 0.682068673166596 0.6824925816023739 0.6829164900381518 0.6833403984739296 0.6837643069097075 0.6841882153454854 0.6846121237812632 0.6850360322170411 0.685459940652819 0.6858838490885969 0.6863077575243748 0.6867316659601526 0.6871555743959304 0.6875794828317083 0.6880033912674862 0.6884272997032641 0.688851208139042 0.6892751165748199 0.6896990250105978 0.6901229334463755 0.6905468418821534 0.6909707503179313 0.6913946587537092 0.6918185671894871 0.692242475625265 0.6926663840610429 0.6930902924968206 0.6935142009325985 0.6939381093683764 0.6943620178041543 0.6947859262399322 0.6952098346757101 0.695633743111488 0.6960576515472658 0.6964815599830436 0.6969054684188215 0.6973293768545994 0.6977532852903773 0.6981771937261552 0.698601102161933 0.6990250105977109 0.6994489190334887 0.6998728274692666 0.7002967359050445 0.7007206443408224 0.7011445527766003 0.7015684612123781 0.701992369648156 0.7024162780839339 0.7028401865197117 0.7032640949554896 0.7036880033912675 0.7041119118270454 0.7045358202628232 0.7049597286986011 0.705383637134379 0.7058075455701568 0.7062314540059347 0.7066553624417126 0.7070792708774905 0.7075031793132683 0.7079270877490462 0.7083509961848241 0.708774904620602 0.7091988130563798 0.7096227214921577 0.7100466299279355 0.7104705383637134 0.7108944467994913 0.7113183552352692 0.7117422636710471 0.712166172106825 0.7125900805426028 0.7130139889783806 0.7134378974141585 0.7138618058499364 0.7142857142857143 0.7147096227214922 0.7151335311572701 0.7155574395930479 0.7159813480288257 "
     ]
    },
    {
     "name": "stdout",
     "output_type": "stream",
     "text": [
      "0.7164052564646036 0.7168291649003815 0.7172530733361594 0.7176769817719373 0.7181008902077152 0.7185247986434931 0.7189487070792708 0.7193726155150487 0.7197965239508266 0.7202204323866045 0.7206443408223824 0.7210682492581603 0.7214921576939382 0.7219160661297159 0.7223399745654938 0.7227638830012717 0.7231877914370496 0.7236116998728275 0.7240356083086054 0.7244595167443832 0.7248834251801611 0.7253073336159389 0.7257312420517168 0.7261551504874947 0.7265790589232726 0.7270029673590505 0.7274268757948283 0.7278507842306062 0.7282746926663841 0.7286986011021619 0.7291225095379398 0.7295464179737177 0.7299703264094956 0.7303942348452734 0.7308181432810513 0.7312420517168292 0.731665960152607 0.7320898685883849 0.7325137770241628 0.7329376854599406 0.7333615938957185 0.7337855023314964 0.7342094107672743 0.7346333192030522 0.73505722763883 0.7354811360746079 0.7359050445103857 0.7363289529461636 0.7367528613819415 0.7371767698177194 0.7376006782534973 0.7380245866892751 0.738448495125053 0.7388724035608308 0.7392963119966087 0.7397202204323866 0.7401441288681645 0.7405680373039424 0.7409919457397203 0.741415854175498 0.7418397626112759 0.7422636710470538 0.7426875794828317 0.7431114879186096 0.7435353963543875 0.7439593047901654 0.7443832132259431 0.744807121661721 0.7452310300974989 0.7456549385332768 0.7460788469690547 0.7465027554048326 0.7469266638406105 0.7473505722763883 0.7477744807121661 0.748198389147944 0.7486222975837219 0.7490462060194998 0.7494701144552777 0.7498940228910556 0.7503179313268334 0.7507418397626113 0.7511657481983891 0.751589656634167 0.7520135650699449 0.7524374735057228 0.7528613819415007 0.7532852903772785 0.7537091988130564 0.7541331072488342 0.7545570156846121 0.75498092412039 0.7554048325561679 0.7558287409919457 0.7562526494277236 0.7566765578635015 0.7571004662992794 0.7575243747350572 0.7579482831708351 0.758372191606613 0.7587961000423908 0.7592200084781687 0.7596439169139466 0.7600678253497245 0.7604917337855023 0.7609156422212802 0.761339550657058 0.7617634590928359 0.7621873675286138 0.7626112759643917 0.7630351844001696 0.7634590928359475 0.7638830012717253 0.7643069097075031 0.764730818143281 0.7651547265790589 0.7655786350148368 0.7660025434506147 0.7664264518863926 0.7668503603221705 0.7672742687579482 0.7676981771937261 0.768122085629504 0.7685459940652819 0.7689699025010598 0.7693938109368377 0.7698177193726156 0.7702416278083933 0.7706655362441712 0.7710894446799491 0.771513353115727 0.7719372615515049 0.7723611699872828 0.7727850784230607 0.7732089868588385 0.7736328952946163 0.7740568037303942 0.7744807121661721 0.77490462060195 0.7753285290377279 0.7757524374735058 0.7761763459092836 0.7766002543450614 0.7770241627808393 0.7774480712166172 0.7778719796523951 0.778295888088173 0.7787197965239508 0.7791437049597287 0.7795676133955066 0.7799915218312844 0.7804154302670623 0.7808393387028402 0.781263247138618 0.7816871555743959 0.7821110640101738 0.7825349724459517 0.7829588808817295 0.7833827893175074 0.7838066977532853 0.7842306061890632 0.784654514624841 0.7850784230606189 0.7855023314963968 0.7859262399321747 0.7863501483679525 0.7867740568037304 0.7871979652395082 0.7876218736752861 0.788045782111064 0.7884696905468419 0.7888935989826198 0.7893175074183977 0.7897414158541755 0.7901653242899533 0.7905892327257312 0.7910131411615091 0.791437049597287 0.7918609580330649 0.7922848664688428 0.7927087749046206 0.7931326833403984 0.7935565917761763 0.7939805002119542 0.7944044086477321 0.79482831708351 0.7952522255192879 0.7956761339550658 0.7961000423908435 0.7965239508266214 0.7969478592623993 0.7973717676981772 0.7977956761339551 0.798219584569733 0.7986434930055109 0.7990674014412886 0.7994913098770665 0.7999152183128444 0.8003391267486223 0.8007630351844002 0.8011869436201781 0.801610852055956 0.8020347604917338 0.8024586689275116 0.8028825773632895 0.8033064857990674 0.8037303942348453 0.8041543026706232 0.804578211106401 0.8050021195421789 0.8054260279779568 0.8058499364137346 0.8062738448495125 0.8066977532852904 0.8071216617210683 0.8075455701568461 0.807969478592624 0.8083933870284019 0.8088172954641797 0.8092412038999576 0.8096651123357355 0.8100890207715133 0.8105129292072912 0.8109368376430691 0.811360746078847 0.8117846545146249 0.8122085629504027 0.8126324713861806 0.8130563798219584 0.8134802882577363 0.8139041966935142 0.8143281051292921 0.81475201356507 0.8151759220008478 0.8155998304366257 0.8160237388724035 0.8164476473081814 0.8168715557439593 0.8172954641797372 0.8177193726155151 0.818143281051293 0.8185671894870707 0.8189910979228486 0.8194150063586265 0.8198389147944044 0.8202628232301823 0.8206867316659602 0.8211106401017381 0.821534548537516 0.8219584569732937 0.8223823654090716 0.8228062738448495 0.8232301822806274 0.8236540907164053 0.8240779991521832 0.824501907587961 0.8249258160237388 0.8253497244595167 0.8257736328952946 0.8261975413310725 0.8266214497668504 0.8270453582026283 0.8274692666384061 0.827893175074184 0.8283170835099618 0.8287409919457397 0.8291649003815176 0.8295888088172955 0.8300127172530734 0.8304366256888512 0.8308605341246291 0.8312844425604069 0.8317083509961848 0.8321322594319627 0.8325561678677406 0.8329800763035184 0.8334039847392963 0.8338278931750742 0.8342518016108521 0.8346757100466299 0.8350996184824078 0.8355235269181857 0.8359474353539635 0.8363713437897414 0.8367952522255193 0.8372191606612972 0.837643069097075 0.8380669775328529 0.8384908859686308 0.8389147944044086 0.8393387028401865 0.8397626112759644 0.8401865197117423 0.8406104281475202 0.841034336583298 0.8414582450190758 0.8418821534548537 0.8423060618906316 0.8427299703264095 0.8431538787621874 0.8435777871979653 0.8440016956337432 0.8444256040695209 0.8448495125052988 0.8452734209410767 0.8456973293768546 0.8461212378126325 0.8465451462484104 0.8469690546841883 0.847392963119966 0.8478168715557439 0.8482407799915218 0.8486646884272997 0.8490885968630776 0.8495125052988555 0.8499364137346334 0.8503603221704112 0.850784230606189 0.8512081390419669 0.8516320474777448 0.8520559559135227 0.8524798643493006 0.8529037727850785 0.8533276812208563 0.8537515896566341 0.854175498092412 0.8545994065281899 0.8550233149639678 0.8554472233997457 0.8558711318355235 0.8562950402713014 0.8567189487070793 0.8571428571428571 0.857566765578635 0.8579906740144129 0.8584145824501908 0.8588384908859686 0.8592623993217465 0.8596863077575244 0.8601102161933023 0.8605341246290801 0.860958033064858 0.8613819415006359 0.8618058499364137 0.8622297583721916 0.8626536668079695 0.8630775752437474 0.8635014836795252 0.8639253921153031 0.864349300551081 0.8647732089868588 0.8651971174226367 0.8656210258584146 0.8660449342941925 0.8664688427299704 0.8668927511657482 0.867316659601526 0.8677405680373039 0.8681644764730818 0.8685883849088597 0.8690122933446376 0.8694362017804155 0.8698601102161932 0.8702840186519711 0.870707927087749 0.8711318355235269 0.8715557439593048 0.8719796523950827 0.8724035608308606 0.8728274692666385 0.8732513777024162 0.8736752861381941 0.874099194573972 0.8745231030097499 0.8749470114455278 0.8753709198813057 0.8757948283170836 0.8762187367528613 0.8766426451886392 0.8770665536244171 0.877490462060195 0.8779143704959729 0.8783382789317508 0.8787621873675286 0.8791860958033065 0.8796100042390843 0.8800339126748622 0.8804578211106401 0.880881729546418 0.8813056379821959 0.8817295464179737 0.8821534548537516 0.8825773632895295 0.8830012717253073 0.8834251801610852 0.8838490885968631 0.884272997032641 0.8846969054684188 0.8851208139041967 0.8855447223399746 0.8859686307757524 0.8863925392115303 0.8868164476473082 0.887240356083086 0.8876642645188639 0.8880881729546418 0.8885120813904197 0.8889359898261976 0.8893598982619754 0.8897838066977533 0.8902077151335311 0.890631623569309 0.8910555320050869 0.8914794404408648 0.8919033488766427 0.8923272573124205 0.8927511657481983 0.8931750741839762 0.8935989826197541 0.894022891055532 0.8944467994913099 0.8948707079270878 0.8952946163628657 0.8957185247986434 0.8961424332344213 0.8965663416701992 0.8969902501059771 0.897414158541755 0.8978380669775329 0.8982619754133108 0.8986858838490887 0.8991097922848664 0.8995337007206443 0.8999576091564222 "
     ]
    },
    {
     "name": "stdout",
     "output_type": "stream",
     "text": [
      "0.9003815175922001 0.900805426027978 0.9012293344637559 0.9016532428995337 0.9020771513353115 0.9025010597710894 0.9029249682068673 0.9033488766426452 0.9037727850784231 0.904196693514201 0.9046206019499788 0.9050445103857567 0.9054684188215345 0.9058923272573124 0.9063162356930903 0.9067401441288682 0.907164052564646 0.9075879610004239 0.9080118694362018 0.9084357778719796 0.9088596863077575 0.9092835947435354 0.9097075031793133 0.9101314116150911 0.910555320050869 0.9109792284866469 0.9114031369224248 0.9118270453582026 0.9122509537939805 0.9126748622297584 0.9130987706655362 0.9135226791013141 0.913946587537092 0.9143704959728699 0.9147944044086477 0.9152183128444256 0.9156422212802034 0.9160661297159813 0.9164900381517592 0.9169139465875371 0.917337855023315 0.9177617634590929 0.9181856718948707 0.9186095803306485 0.9190334887664264 0.9194573972022043 0.9198813056379822 0.9203052140737601 0.920729122509538 0.9211530309453159 0.9215769393810936 0.9220008478168715 0.9224247562526494 0.9228486646884273 0.9232725731242052 0.9236964815599831 0.924120389995761 0.9245442984315387 0.9249682068673166 0.9253921153030945 0.9258160237388724 0.9262399321746503 0.9266638406104282 0.927087749046206 0.9275116574819839 0.9279355659177617 0.9283594743535396 0.9287833827893175 0.9292072912250954 0.9296311996608733 0.9300551080966512 0.930479016532429 0.9309029249682068 0.9313268334039847 0.9317507418397626 0.9321746502755405 0.9325985587113184 0.9330224671470962 0.9334463755828741 0.933870284018652 0.9342941924544298 0.9347181008902077 0.9351420093259856 0.9355659177617635 0.9359898261975413 0.9364137346333192 0.9368376430690971 0.937261551504875 0.9376854599406528 0.9381093683764307 0.9385332768122086 0.9389571852479864 0.9393810936837643 0.9398050021195422 0.9402289105553201 0.9406528189910979 0.9410767274268758 0.9415006358626536 0.9419245442984315 0.9423484527342094 0.9427723611699873 0.9431962696057652 0.9436201780415431 0.9440440864773209 0.9444679949130987 0.9448919033488766 0.9453158117846545 0.9457397202204324 0.9461636286562103 0.9465875370919882 0.947011445527766 0.9474353539635438 0.9478592623993217 0.9482831708350996 0.9487070792708775 0.9491309877066554 0.9495548961424333 0.9499788045782112 0.9504027130139889 0.9508266214497668 0.9512505298855447 0.9516744383213226 0.9520983467571005 0.9525222551928784 0.9529461636286563 0.9533700720644341 0.9537939805002119 0.9542178889359898 0.9546417973717677 0.9550657058075456 0.9554896142433235 0.9559135226791013 0.9563374311148792 0.956761339550657 0.9571852479864349 0.9576091564222128 0.9580330648579907 0.9584569732937686 0.9588808817295464 0.9593047901653243 0.9597286986011022 0.96015260703688 0.9605765154726579 0.9610004239084358 0.9614243323442137 0.9618482407799915 0.9622721492157694 0.9626960576515473 0.9631199660873251 0.963543874523103 0.9639677829588809 0.9643916913946587 0.9648155998304366 0.9652395082662145 0.9656634167019924 0.9660873251377703 0.9665112335735481 0.966935142009326 0.9673590504451038 0.9677829588808817 0.9682068673166596 0.9686307757524375 0.9690546841882154 0.9694785926239932 0.969902501059771 0.9703264094955489 0.9707503179313268 0.9711742263671047 0.9715981348028826 0.9720220432386605 0.9724459516744384 0.9728698601102161 0.973293768545994 0.9737176769817719 0.9741415854175498 0.9745654938533277 0.9749894022891056 0.9754133107248835 0.9758372191606614 0.9762611275964391 0.976685036032217 0.9771089444679949 0.9775328529037728 0.9779567613395507 0.9783806697753286 0.9788045782111064 0.9792284866468842 0.9796523950826621 0.98007630351844 0.9805002119542179 0.9809241203899958 0.9813480288257737 0.9817719372615515 0.9821958456973294 0.9826197541331072 0.9830436625688851 0.983467571004663 0.9838914794404409 0.9843153878762188 0.9847392963119966 0.9851632047477745 0.9855871131835523 0.9860110216193302 0.9864349300551081 0.986858838490886 0.9872827469266638 0.9877066553624417 0.9881305637982196 0.9885544722339975 0.9889783806697753 0.9894022891055532 0.989826197541331 0.9902501059771089 0.9906740144128868 0.9910979228486647 0.9915218312844426 0.9919457397202205 0.9923696481559983 0.9927935565917761 0.993217465027554 0.9936413734633319 0.9940652818991098 0.9944891903348877 0.9949130987706656 0.9953370072064434 0.9957609156422212 0.9961848240779991 0.996608732513777 0.9970326409495549 0.9974565493853328 0.9978804578211107 0.9983043662568886 0.9987282746926663 0.9991521831284442 0.9995760915642221 "
     ]
    }
   ],
   "source": [
    "import collections\n",
    "pair_dist=collections.defaultdict(float)\n",
    "passed_time=0\n",
    "for i in unique_numbers:\n",
    "    print(passed_time/len(unique_numbers),end=' ')\n",
    "    passed_time+=1\n",
    "    for j in unique_numbers:\n",
    "        if i<=j:\n",
    "          continue\n",
    "        df1=df.loc[(df.msisdn==i)|(df.msisdn==j)]\n",
    "        current_msisdn=0\n",
    "        dist=0\n",
    "        num_iter=0\n",
    "        for index,row in df1.iterrows():\n",
    "            if current_msisdn==0:\n",
    "                current_long=row.long\n",
    "                current_lat=row.lat\n",
    "                current_msisdn=row.msisdn\n",
    "                continue\n",
    "            if row.msisdn==current_msisdn:\n",
    "                current_long=row.long\n",
    "                current_lat=row.lat\n",
    "                continue\n",
    "            dist+=((row.long-current_long)**2+(row.lat-current_lat)**2)**0.5\n",
    "            num_iter+=1\n",
    "            current_msisdn=row.msisdn\n",
    "            current_lat=row.lat\n",
    "            current_long=row.long\n",
    "        pair_dist[(i,j)]=dist/num_iter\n",
    "        "
   ]
  },
  {
   "cell_type": "markdown",
   "metadata": {},
   "source": [
    "## 3.5.1. Посмотрим, что у нас произошло за последние 15 часов. Проверим длину словаря, среднее значение расстояния и расстояние из обучаемой выборки. "
   ]
  },
  {
   "cell_type": "code",
   "execution_count": 186,
   "metadata": {},
   "outputs": [
    {
     "data": {
      "text/plain": [
       "(2781261, 2781261.0)"
      ]
     },
     "execution_count": 186,
     "metadata": {},
     "output_type": "execute_result"
    }
   ],
   "source": [
    "len(pair_dist),2359*2358/2"
   ]
  },
  {
   "cell_type": "code",
   "execution_count": 193,
   "metadata": {},
   "outputs": [],
   "source": [
    "total_value=0\n",
    "for el in pair_dist.keys():\n",
    "    total_value+=pair_dist[el]"
   ]
  },
  {
   "cell_type": "code",
   "execution_count": 194,
   "metadata": {},
   "outputs": [
    {
     "data": {
      "text/plain": [
       "0.5249626612437417"
      ]
     },
     "execution_count": 194,
     "metadata": {},
     "output_type": "execute_result"
    }
   ],
   "source": [
    "total_value/len(pair_dist)"
   ]
  },
  {
   "cell_type": "code",
   "execution_count": 195,
   "metadata": {},
   "outputs": [
    {
     "data": {
      "text/plain": [
       "0.21167113604971524"
      ]
     },
     "execution_count": 195,
     "metadata": {},
     "output_type": "execute_result"
    }
   ],
   "source": [
    "pair_dist[(158530067653,158528861653)]"
   ]
  },
  {
   "cell_type": "markdown",
   "metadata": {},
   "source": [
    "## 3.5.2. Положим всю информацию в тензор и запишем его."
   ]
  },
  {
   "cell_type": "code",
   "execution_count": 197,
   "metadata": {},
   "outputs": [],
   "source": [
    "x=torch.zeros(2781261)\n",
    "idx=0\n",
    "for el in pair_dist.keys():\n",
    "    x[idx]=pair_dist[el]\n",
    "    idx+=1"
   ]
  },
  {
   "cell_type": "code",
   "execution_count": 199,
   "metadata": {},
   "outputs": [],
   "source": [
    "torch.save(x,'pair_dist.pt')"
   ]
  },
  {
   "cell_type": "markdown",
   "metadata": {},
   "source": [
    "## 3.6.  Если Вы были со мной последние 15 часов, то пропустите следующую ячейку. Иначе подгрузите тензор"
   ]
  },
  {
   "cell_type": "code",
   "execution_count": null,
   "metadata": {},
   "outputs": [],
   "source": [
    "x=torch.load('pair_dist.pt')"
   ]
  },
  {
   "cell_type": "markdown",
   "metadata": {},
   "source": [
    "## 4. Теперь добавим признак парности телефонов из обучаемой выборки. Для начала закачаем слегка подредактированный файл."
   ]
  },
  {
   "cell_type": "code",
   "execution_count": null,
   "metadata": {},
   "outputs": [],
   "source": [
    "df=pd.read_csv('C:/Users/User/Megafon/facts.csv',sep=';')"
   ]
  },
  {
   "cell_type": "markdown",
   "metadata": {},
   "source": [
    "## 4.1. Положим в лист все пары, соблюдая очередность из 15-часового цикла, - сначала бОльший номер, затем меньший."
   ]
  },
  {
   "cell_type": "code",
   "execution_count": null,
   "metadata": {},
   "outputs": [],
   "source": [
    "label=[]\n",
    "for row in df.iterrows():\n",
    "  label.append((max(row[1][0],row[1][1]),min(row[1][0],row[1][1])))"
   ]
  },
  {
   "cell_type": "markdown",
   "metadata": {},
   "source": [
    "## 4.2. Положим все в тензор, опять же с соблюдением очередности."
   ]
  },
  {
   "cell_type": "code",
   "execution_count": 219,
   "metadata": {},
   "outputs": [],
   "source": [
    "x_label=torch.zeros(x.shape)"
   ]
  },
  {
   "cell_type": "code",
   "execution_count": 220,
   "metadata": {},
   "outputs": [],
   "source": [
    "idx=0\n",
    "dist=[]\n",
    "for i in unique_numbers:\n",
    "    for j in unique_numbers:\n",
    "        if i<=j:\n",
    "          continue\n",
    "        if (i,j) in label:\n",
    "            x_label[idx]=1\n",
    "        idx+=1"
   ]
  },
  {
   "cell_type": "code",
   "execution_count": 233,
   "metadata": {},
   "outputs": [],
   "source": [
    "dist_with_labels=torch.zeros((x.shape[0],2))\n",
    "dist_with_labels[:,0]=x\n",
    "dist_with_labels[:,1]=x_label"
   ]
  },
  {
   "cell_type": "markdown",
   "metadata": {},
   "source": [
    "## 4.3. Лучи благодарности и любви StackOverflow, который научил меня сортировать тензоры по столбцу"
   ]
  },
  {
   "cell_type": "code",
   "execution_count": 234,
   "metadata": {},
   "outputs": [],
   "source": [
    "dist_with_labels=dist_with_labels[dist_with_labels[:,0].argsort()]"
   ]
  },
  {
   "cell_type": "code",
   "execution_count": 239,
   "metadata": {},
   "outputs": [
    {
     "data": {
      "text/plain": [
       "tensor(4.4590)"
      ]
     },
     "execution_count": 239,
     "metadata": {},
     "output_type": "execute_result"
    }
   ],
   "source": [
    "dist_with_labels[-1][0]"
   ]
  },
  {
   "cell_type": "markdown",
   "metadata": {},
   "source": [
    "## 4.4. В соответствии с гипотезой посчитаем TPR и FPR для тресхолдов с интервалом в 0.001 градуса. Я понимаю, что складывать квадрат широты и долготы с точки зрения геометрии ужас-ужас, но для этой задачи пойдет."
   ]
  },
  {
   "cell_type": "code",
   "execution_count": null,
   "metadata": {},
   "outputs": [],
   "source": [
    "total_positive=sum(x_label)\n",
    "total_negative=x.shape[0]-total_positive"
   ]
  },
  {
   "cell_type": "code",
   "execution_count": 295,
   "metadata": {},
   "outputs": [],
   "source": [
    "tpr=[]\n",
    "fpr=[]\n",
    "delta=0.001\n",
    "dist=0.0\n",
    "tp=0\n",
    "all=0\n",
    "while (dist<=dist_with_labels[-1][0]):\n",
    "    y=dist_with_labels[dist_with_labels[:,0]<dist]\n",
    "    y=y[y[:,0]>=dist-delta]\n",
    "    tp+=sum(y[:,1])\n",
    "    fn=total_positive-tp\n",
    "    tpr.append(tp/(tp+fn))\n",
    "    all+=y.shape[0]\n",
    "    fpr.append((all-tp)/total_negative)\n",
    "    dist+=delta"
   ]
  },
  {
   "cell_type": "markdown",
   "metadata": {},
   "source": [
    "## 4.5. Построим ROC curve"
   ]
  },
  {
   "cell_type": "code",
   "execution_count": 296,
   "metadata": {},
   "outputs": [],
   "source": [
    "fpr1=[i.item() for i in fpr]\n",
    "tpr1=[i.item() for i in tpr]"
   ]
  },
  {
   "cell_type": "code",
   "execution_count": 297,
   "metadata": {},
   "outputs": [
    {
     "data": {
      "image/png": "[encoded data removed]",
      "text/plain": [
       "<Figure size 432x288 with 1 Axes>"
      ]
     },
     "metadata": {
      "needs_background": "light"
     },
     "output_type": "display_data"
    }
   ],
   "source": [
    "plt.scatter(fpr1,tpr1,s=10)\n",
    "plt.show()"
   ]
  },
  {
   "cell_type": "markdown",
   "metadata": {},
   "source": [
    "## 5. Получилась очень красивая картинка, гораздо лучше примеров с Вики. Теперь можно, ткнув в любую точку кривой, выбрать FPR(TPR) и, прогнав цикл еще раз, получить нужный тресхолд."
   ]
  },
  {
   "cell_type": "code",
   "execution_count": null,
   "metadata": {},
   "outputs": [],
   "source": []
  }
 ],
 "metadata": {
  "accelerator": "GPU",
  "colab": {
   "authorship_tag": "ABX9TyPu/R9KoebqxSPH3f9Hjcku",
   "collapsed_sections": [],
   "include_colab_link": true,
   "machine_shape": "hm",
   "name": "Megafon_test.ipynb",
   "provenance": []
  },
  "kernelspec": {
   "display_name": "Python 3",
   "language": "python",
   "name": "python3"
  },
  "language_info": {
   "codemirror_mode": {
    "name": "ipython",
    "version": 3
   },
   "file_extension": ".py",
   "mimetype": "text/x-python",
   "name": "python",
   "nbconvert_exporter": "python",
   "pygments_lexer": "ipython3",
   "version": "3.7.5"
  }
 },
 "nbformat": 4,
 "nbformat_minor": 1
}
