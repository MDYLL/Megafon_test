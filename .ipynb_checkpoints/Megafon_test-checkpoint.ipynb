{
 "cells": [
  {
   "cell_type": "markdown",
   "metadata": {
    "colab_type": "text",
    "id": "view-in-github"
   },
   "source": [
    "<a href=\"https://colab.research.google.com/github/MDYLL/Megafon_test/blob/master/Megafon_test.ipynb\" target=\"_parent\"><img src=\"https://colab.research.google.com/assets/colab-badge.svg\" alt=\"Open In Colab\"/></a>"
   ]
  },
  {
   "cell_type": "code",
   "execution_count": 1,
   "metadata": {
    "colab": {},
    "colab_type": "code",
    "id": "QAH_T0bO_6ql"
   },
   "outputs": [],
   "source": [
    "import pandas as pd"
   ]
  },
  {
   "cell_type": "code",
   "execution_count": 2,
   "metadata": {
    "colab": {},
    "colab_type": "code",
    "id": "nI5O10DHAEH4"
   },
   "outputs": [],
   "source": [
    "df=pd.read_csv('C:/Users/User/Megafon/02_Data.csv',sep=';')"
   ]
  },
  {
   "cell_type": "code",
   "execution_count": 3,
   "metadata": {
    "colab": {
     "base_uri": "https://localhost:8080/",
     "height": 195
    },
    "colab_type": "code",
    "id": "lRhyMxNqAhST",
    "outputId": "2ff01eb7-4bc7-43d5-aee0-7de421121da3"
   },
   "outputs": [
    {
     "data": {
      "text/html": [
       "<div>\n",
       "<style scoped>\n",
       "    .dataframe tbody tr th:only-of-type {\n",
       "        vertical-align: middle;\n",
       "    }\n",
       "\n",
       "    .dataframe tbody tr th {\n",
       "        vertical-align: top;\n",
       "    }\n",
       "\n",
       "    .dataframe thead th {\n",
       "        text-align: right;\n",
       "    }\n",
       "</style>\n",
       "<table border=\"1\" class=\"dataframe\">\n",
       "  <thead>\n",
       "    <tr style=\"text-align: right;\">\n",
       "      <th></th>\n",
       "      <th>lac</th>\n",
       "      <th>cid</th>\n",
       "      <th>msisdn</th>\n",
       "      <th>imei</th>\n",
       "      <th>event_type</th>\n",
       "      <th>tstamp</th>\n",
       "      <th>long</th>\n",
       "      <th>lat</th>\n",
       "      <th>max_dist</th>\n",
       "      <th>cell_type</th>\n",
       "      <th>start_angle</th>\n",
       "      <th>end_angle</th>\n",
       "    </tr>\n",
       "  </thead>\n",
       "  <tbody>\n",
       "    <tr>\n",
       "      <th>0</th>\n",
       "      <td>5029</td>\n",
       "      <td>40798</td>\n",
       "      <td>158529599791</td>\n",
       "      <td>3.531111e+14</td>\n",
       "      <td>0</td>\n",
       "      <td>1369252800974</td>\n",
       "      <td>37.9305</td>\n",
       "      <td>55.7815</td>\n",
       "      <td>2101</td>\n",
       "      <td>OUTDOOR</td>\n",
       "      <td>220.0</td>\n",
       "      <td>280.0</td>\n",
       "    </tr>\n",
       "    <tr>\n",
       "      <th>1</th>\n",
       "      <td>7782</td>\n",
       "      <td>56870</td>\n",
       "      <td>158520145943</td>\n",
       "      <td>1.292900e+13</td>\n",
       "      <td>5</td>\n",
       "      <td>1369252801396</td>\n",
       "      <td>37.4239</td>\n",
       "      <td>55.7426</td>\n",
       "      <td>2</td>\n",
       "      <td>OUTDOOR</td>\n",
       "      <td>45.0</td>\n",
       "      <td>105.0</td>\n",
       "    </tr>\n",
       "    <tr>\n",
       "      <th>2</th>\n",
       "      <td>7794</td>\n",
       "      <td>32226</td>\n",
       "      <td>158521798391</td>\n",
       "      <td>3.519940e+14</td>\n",
       "      <td>5</td>\n",
       "      <td>1369252802013</td>\n",
       "      <td>37.7034</td>\n",
       "      <td>55.5803</td>\n",
       "      <td>1125</td>\n",
       "      <td>OUTDOOR</td>\n",
       "      <td>0.0</td>\n",
       "      <td>60.0</td>\n",
       "    </tr>\n",
       "    <tr>\n",
       "      <th>3</th>\n",
       "      <td>7758</td>\n",
       "      <td>33528</td>\n",
       "      <td>158537830573</td>\n",
       "      <td>3.586270e+14</td>\n",
       "      <td>0</td>\n",
       "      <td>1369252802331</td>\n",
       "      <td>37.7895</td>\n",
       "      <td>55.7042</td>\n",
       "      <td>1158</td>\n",
       "      <td>OUTDOOR</td>\n",
       "      <td>210.0</td>\n",
       "      <td>270.0</td>\n",
       "    </tr>\n",
       "    <tr>\n",
       "      <th>4</th>\n",
       "      <td>5060</td>\n",
       "      <td>17568</td>\n",
       "      <td>158510204039</td>\n",
       "      <td>3.524581e+14</td>\n",
       "      <td>8</td>\n",
       "      <td>1369252803586</td>\n",
       "      <td>37.1900</td>\n",
       "      <td>55.8308</td>\n",
       "      <td>500</td>\n",
       "      <td>OUTDOOR</td>\n",
       "      <td>180.0</td>\n",
       "      <td>240.0</td>\n",
       "    </tr>\n",
       "  </tbody>\n",
       "</table>\n",
       "</div>"
      ],
      "text/plain": [
       "    lac    cid        msisdn          imei  event_type         tstamp  \\\n",
       "0  5029  40798  158529599791  3.531111e+14           0  1369252800974   \n",
       "1  7782  56870  158520145943  1.292900e+13           5  1369252801396   \n",
       "2  7794  32226  158521798391  3.519940e+14           5  1369252802013   \n",
       "3  7758  33528  158537830573  3.586270e+14           0  1369252802331   \n",
       "4  5060  17568  158510204039  3.524581e+14           8  1369252803586   \n",
       "\n",
       "      long      lat  max_dist cell_type  start_angle  end_angle  \n",
       "0  37.9305  55.7815      2101   OUTDOOR        220.0      280.0  \n",
       "1  37.4239  55.7426         2   OUTDOOR         45.0      105.0  \n",
       "2  37.7034  55.5803      1125   OUTDOOR          0.0       60.0  \n",
       "3  37.7895  55.7042      1158   OUTDOOR        210.0      270.0  \n",
       "4  37.1900  55.8308       500   OUTDOOR        180.0      240.0  "
      ]
     },
     "execution_count": 3,
     "metadata": {},
     "output_type": "execute_result"
    }
   ],
   "source": [
    "df.head()"
   ]
  },
  {
   "cell_type": "code",
   "execution_count": 4,
   "metadata": {
    "colab": {
     "base_uri": "https://localhost:8080/",
     "height": 34
    },
    "colab_type": "code",
    "id": "jJBBcsxBXbMA",
    "outputId": "e978ae67-9db9-4a3c-ddea-b65d1ec90251"
   },
   "outputs": [
    {
     "data": {
      "text/plain": [
       "174123"
      ]
     },
     "execution_count": 4,
     "metadata": {},
     "output_type": "execute_result"
    }
   ],
   "source": [
    "df.shape[0]"
   ]
  },
  {
   "cell_type": "code",
   "execution_count": 5,
   "metadata": {
    "colab": {
     "base_uri": "https://localhost:8080/",
     "height": 50
    },
    "colab_type": "code",
    "id": "Z6sjy3jQ53J5",
    "outputId": "6a9c510e-cd1a-412d-873f-913657261f42"
   },
   "outputs": [
    {
     "data": {
      "text/plain": [
       "(Timestamp('2013-05-22 20:00:00.974000'),\n",
       " Timestamp('2013-05-30 16:29:37.643000'))"
      ]
     },
     "execution_count": 5,
     "metadata": {},
     "output_type": "execute_result"
    }
   ],
   "source": [
    "pd.to_datetime(df.tstamp.min(), unit='ms'),pd.to_datetime(df.tstamp.max(), unit='ms')"
   ]
  },
  {
   "cell_type": "code",
   "execution_count": 6,
   "metadata": {
    "colab": {
     "base_uri": "https://localhost:8080/",
     "height": 34
    },
    "colab_type": "code",
    "id": "EorO3DZ9g5nD",
    "outputId": "5f35fa09-99e1-4887-84e2-cd78544bd6a7"
   },
   "outputs": [
    {
     "data": {
      "text/plain": [
       "Timestamp('2013-05-24 15:27:08.852000')"
      ]
     },
     "execution_count": 6,
     "metadata": {},
     "output_type": "execute_result"
    }
   ],
   "source": [
    "pd.to_datetime(1369409228852, unit='ms')"
   ]
  },
  {
   "cell_type": "code",
   "execution_count": 7,
   "metadata": {
    "colab": {},
    "colab_type": "code",
    "id": "A9RIuQAQQsMF"
   },
   "outputs": [],
   "source": [
    "df=df.drop(['lac','cid','imei','event_type','max_dist','cell_type','start_angle','end_angle'],axis=1)"
   ]
  },
  {
   "cell_type": "code",
   "execution_count": 8,
   "metadata": {
    "colab": {},
    "colab_type": "code",
    "id": "TJW4RJxkRPqX"
   },
   "outputs": [],
   "source": [
    "df.tstamp//=1000\n",
    "df.tstamp-=df.tstamp.min(axis=0)"
   ]
  },
  {
   "cell_type": "code",
   "execution_count": 9,
   "metadata": {
    "colab": {},
    "colab_type": "code",
    "id": "ZZrA5PiKW4Tp"
   },
   "outputs": [],
   "source": [
    "period=df.tstamp.max(axis=0)//1000\n",
    "y=[]\n",
    "for i in range(1000):\n",
    "  y.append(df.loc[(df.tstamp>i*period)&(df.tstamp<=(i+1)*period)].shape[0])"
   ]
  },
  {
   "cell_type": "code",
   "execution_count": 10,
   "metadata": {
    "colab": {
     "base_uri": "https://localhost:8080/",
     "height": 266
    },
    "colab_type": "code",
    "id": "vqddnxjMXGKU",
    "outputId": "4336bd08-6a3e-41c7-ccd5-5a443527a184"
   },
   "outputs": [
    {
     "data": {
      "image/png": "[encoded data removed]",
      "text/plain": [
       "<Figure size 432x288 with 1 Axes>"
      ]
     },
     "metadata": {
      "needs_background": "light"
     },
     "output_type": "display_data"
    }
   ],
   "source": [
    "from matplotlib import pyplot as plt\n",
    "plt.plot(y)\n",
    "plt.show()"
   ]
  },
  {
   "cell_type": "code",
   "execution_count": 11,
   "metadata": {
    "colab": {
     "base_uri": "https://localhost:8080/",
     "height": 34
    },
    "colab_type": "code",
    "id": "MGKbTFxuCnrC",
    "outputId": "f7eddd3c-a941-42bc-937d-f18bcb2161cb"
   },
   "outputs": [
    {
     "data": {
      "text/plain": [
       "2361"
      ]
     },
     "execution_count": 11,
     "metadata": {},
     "output_type": "execute_result"
    }
   ],
   "source": [
    "unique_numbers=df['msisdn'].unique()\n",
    "len(unique_numbers)"
   ]
  },
  {
   "cell_type": "code",
   "execution_count": 12,
   "metadata": {
    "colab": {},
    "colab_type": "code",
    "id": "fa6Irs5vRyBe"
   },
   "outputs": [],
   "source": [
    "quantity_time_intervals=100\n",
    "min_tstamp=df.tstamp.min(axis=0)\n",
    "max_tstamp=df.tstamp.max(axis=0)\n",
    "time_period=(max_tstamp-min_tstamp)//quantity_time_intervals\n",
    "# time_intervals=[el for el in range(0,max_tstamp,time_period)]\n",
    "df_norm=pd.DataFrame(columns=df.columns)"
   ]
  },
  {
   "cell_type": "code",
   "execution_count": 13,
   "metadata": {
    "colab": {
     "base_uri": "https://localhost:8080/",
     "height": 402
    },
    "colab_type": "code",
    "id": "44S1RsPUeWte",
    "outputId": "e6526080-75ab-4e29-8d34-6d8c7919a55a"
   },
   "outputs": [
    {
     "data": {
      "text/html": [
       "<div>\n",
       "<style scoped>\n",
       "    .dataframe tbody tr th:only-of-type {\n",
       "        vertical-align: middle;\n",
       "    }\n",
       "\n",
       "    .dataframe tbody tr th {\n",
       "        vertical-align: top;\n",
       "    }\n",
       "\n",
       "    .dataframe thead th {\n",
       "        text-align: right;\n",
       "    }\n",
       "</style>\n",
       "<table border=\"1\" class=\"dataframe\">\n",
       "  <thead>\n",
       "    <tr style=\"text-align: right;\">\n",
       "      <th></th>\n",
       "      <th>msisdn</th>\n",
       "      <th>tstamp</th>\n",
       "      <th>long</th>\n",
       "      <th>lat</th>\n",
       "    </tr>\n",
       "  </thead>\n",
       "  <tbody>\n",
       "    <tr>\n",
       "      <th>0</th>\n",
       "      <td>158529599791</td>\n",
       "      <td>0</td>\n",
       "      <td>37.9305</td>\n",
       "      <td>55.7815</td>\n",
       "    </tr>\n",
       "    <tr>\n",
       "      <th>1</th>\n",
       "      <td>158520145943</td>\n",
       "      <td>1</td>\n",
       "      <td>37.4239</td>\n",
       "      <td>55.7426</td>\n",
       "    </tr>\n",
       "    <tr>\n",
       "      <th>2</th>\n",
       "      <td>158521798391</td>\n",
       "      <td>2</td>\n",
       "      <td>37.7034</td>\n",
       "      <td>55.5803</td>\n",
       "    </tr>\n",
       "    <tr>\n",
       "      <th>3</th>\n",
       "      <td>158537830573</td>\n",
       "      <td>2</td>\n",
       "      <td>37.7895</td>\n",
       "      <td>55.7042</td>\n",
       "    </tr>\n",
       "    <tr>\n",
       "      <th>4</th>\n",
       "      <td>158510204039</td>\n",
       "      <td>3</td>\n",
       "      <td>37.1900</td>\n",
       "      <td>55.8308</td>\n",
       "    </tr>\n",
       "    <tr>\n",
       "      <th>...</th>\n",
       "      <td>...</td>\n",
       "      <td>...</td>\n",
       "      <td>...</td>\n",
       "      <td>...</td>\n",
       "    </tr>\n",
       "    <tr>\n",
       "      <th>174118</th>\n",
       "      <td>158503851673</td>\n",
       "      <td>673967</td>\n",
       "      <td>37.6178</td>\n",
       "      <td>55.7370</td>\n",
       "    </tr>\n",
       "    <tr>\n",
       "      <th>174119</th>\n",
       "      <td>158503851673</td>\n",
       "      <td>674287</td>\n",
       "      <td>37.6217</td>\n",
       "      <td>55.7363</td>\n",
       "    </tr>\n",
       "    <tr>\n",
       "      <th>174120</th>\n",
       "      <td>158503851673</td>\n",
       "      <td>675316</td>\n",
       "      <td>37.6217</td>\n",
       "      <td>55.7363</td>\n",
       "    </tr>\n",
       "    <tr>\n",
       "      <th>174121</th>\n",
       "      <td>158503851673</td>\n",
       "      <td>678091</td>\n",
       "      <td>37.7856</td>\n",
       "      <td>55.7508</td>\n",
       "    </tr>\n",
       "    <tr>\n",
       "      <th>174122</th>\n",
       "      <td>158503851673</td>\n",
       "      <td>678577</td>\n",
       "      <td>37.3426</td>\n",
       "      <td>55.4158</td>\n",
       "    </tr>\n",
       "  </tbody>\n",
       "</table>\n",
       "<p>174123 rows × 4 columns</p>\n",
       "</div>"
      ],
      "text/plain": [
       "              msisdn  tstamp     long      lat\n",
       "0       158529599791       0  37.9305  55.7815\n",
       "1       158520145943       1  37.4239  55.7426\n",
       "2       158521798391       2  37.7034  55.5803\n",
       "3       158537830573       2  37.7895  55.7042\n",
       "4       158510204039       3  37.1900  55.8308\n",
       "...              ...     ...      ...      ...\n",
       "174118  158503851673  673967  37.6178  55.7370\n",
       "174119  158503851673  674287  37.6217  55.7363\n",
       "174120  158503851673  675316  37.6217  55.7363\n",
       "174121  158503851673  678091  37.7856  55.7508\n",
       "174122  158503851673  678577  37.3426  55.4158\n",
       "\n",
       "[174123 rows x 4 columns]"
      ]
     },
     "execution_count": 13,
     "metadata": {},
     "output_type": "execute_result"
    }
   ],
   "source": [
    "df"
   ]
  },
  {
   "cell_type": "code",
   "execution_count": 14,
   "metadata": {
    "colab": {
     "base_uri": "https://localhost:8080/",
     "height": 34
    },
    "colab_type": "code",
    "id": "7g79XACheP0N",
    "outputId": "298dfbbe-9b77-4547-e69e-ad3b9b3d6a55"
   },
   "outputs": [
    {
     "data": {
      "text/plain": [
       "(0, 678577, 6785)"
      ]
     },
     "execution_count": 14,
     "metadata": {},
     "output_type": "execute_result"
    }
   ],
   "source": [
    "min_tstamp,max_tstamp,time_period"
   ]
  },
  {
   "cell_type": "code",
   "execution_count": 15,
   "metadata": {
    "colab": {},
    "colab_type": "code",
    "id": "n_FF7PwjIaqd"
   },
   "outputs": [],
   "source": [
    "import collections\n",
    "current_tstamp=collections.defaultdict(tuple)\n",
    "for number in unique_numbers:\n",
    "  df1=df.loc[df.msisdn==number]\n",
    "  idx=df1.tstamp.idxmax()\n",
    "  current_tstamp[number]=(df.at[idx,'long'],df.at[idx,'lat'])\n"
   ]
  },
  {
   "cell_type": "code",
   "execution_count": null,
   "metadata": {
    "colab": {},
    "colab_type": "code",
    "id": "cfOUqHbaY0YO"
   },
   "outputs": [],
   "source": [
    "df_norm=pd.DataFrame(columns=df.columns)\n",
    "for number in unique_numbers:\n",
    "  for i in range(0,quantity_time_intervals):\n",
    "    # print(i,end=' ')\n",
    "  \n",
    "  # for j in range(1):\n",
    "    # number=158529599791\n",
    "    # if i==18:\n",
    "    #   break\n",
    "    df1=df.loc[(df.msisdn==number)&(df.tstamp<=max_tstamp-i*time_period)&(df.tstamp>max_tstamp-(i+1)*time_period)]\n",
    "    if df1.size>0:\n",
    "      idx=df1.tstamp.idxmax()\n",
    "      df_norm=df_norm.append({'msisdn':number,'tstamp':i,'long':df1.at[idx,'long'],'lat':df1.at[idx,'lat']},ignore_index=True)\n",
    "      # print(i,number,df1.at[idx,'long'])\n",
    "      # df_norm.at[idx,'tstamp']=max_tstamp-i*time_period\n",
    "      current_tstamp[number]=(df1.at[idx,'long'],df1.at[idx,'lat'])\n",
    "      # if number==158510204039:\n",
    "      #   print(df1.shape)\n",
    "      #   print(idx)\n",
    "      #   print(i,current_tstamp[number])\n",
    "    else:\n",
    "      # print('**************')\n",
    "      # print(i)\n",
    "      # df_norm=df_norm.append({'msisdn':number,'tstamp':max_tstamp-i*time_period,'long':current_tstamp[number][0],'lat':current_tstamp[number][1]},ignore_index=True)\n",
    "      df_norm=df_norm.append({'msisdn':number,'tstamp':i,'long':current_tstamp[number][0],'lat':current_tstamp[number][1]},ignore_index=True)\n",
    "      # print(i,number)"
   ]
  },
  {
   "cell_type": "code",
   "execution_count": 0,
   "metadata": {
    "colab": {},
    "colab_type": "code",
    "id": "ZDcAdtHjQyPr"
   },
   "outputs": [],
   "source": [
    "df_norm=df_norm.astype({'msisdn':int,'tstamp':int})\n",
    "df_norm.loc[df_norm.msisdn==158529599791]\n"
   ]
  },
  {
   "cell_type": "code",
   "execution_count": 0,
   "metadata": {
    "colab": {},
    "colab_type": "code",
    "id": "fi6WnSIrgN_u"
   },
   "outputs": [],
   "source": [
    "import torch\n",
    "(int(len(unique_numbers)*(len(unique_numbers)-1)/2),2*2*quantity_time_intervals)"
   ]
  },
  {
   "cell_type": "code",
   "execution_count": 0,
   "metadata": {
    "colab": {},
    "colab_type": "code",
    "id": "kg1i4rUfkO2Q"
   },
   "outputs": [],
   "source": [
    "x=torch.zeros((int(len(unique_numbers)*(len(unique_numbers)-1)/2),2*2*quantity_time_intervals))"
   ]
  },
  {
   "cell_type": "code",
   "execution_count": 0,
   "metadata": {
    "colab": {},
    "colab_type": "code",
    "id": "voV-6Ly_kY3N"
   },
   "outputs": [],
   "source": [
    "x.shape"
   ]
  },
  {
   "cell_type": "code",
   "execution_count": 0,
   "metadata": {
    "colab": {},
    "colab_type": "code",
    "id": "bxg3EfxRka_M"
   },
   "outputs": [],
   "source": [
    "idx=0\n",
    "for i in unique_numbers:\n",
    "  print(i,end=' ')\n",
    "  for j in unique_numbers:\n",
    "    if i<=j:\n",
    "      continue\n",
    "    t1=torch.FloatTensor(df_norm.loc[df_norm.msisdn==i]['long'].values,)\n",
    "    t2=torch.FloatTensor(df_norm.loc[df_norm.msisdn==i]['lat'].values)\n",
    "    t3=torch.FloatTensor(df_norm.loc[df_norm.msisdn==j]['long'].values)\n",
    "    t4=torch.FloatTensor(df_norm.loc[df_norm.msisdn==j]['lat'].values)\n",
    "    t=torch.cat([t1,t2,t3,t4])\n",
    "    x[idx]=t\n",
    "    idx+=1\n",
    "    \n",
    "    "
   ]
  },
  {
   "cell_type": "code",
   "execution_count": 0,
   "metadata": {
    "colab": {},
    "colab_type": "code",
    "id": "Rekvfmo-wmct"
   },
   "outputs": [],
   "source": [
    "x"
   ]
  },
  {
   "cell_type": "code",
   "execution_count": 0,
   "metadata": {
    "colab": {},
    "colab_type": "code",
    "id": "xzjjemFo0SqG"
   },
   "outputs": [],
   "source": [
    "x.shape"
   ]
  },
  {
   "cell_type": "code",
   "execution_count": 0,
   "metadata": {
    "colab": {},
    "colab_type": "code",
    "id": "reR4dudkL1f6"
   },
   "outputs": [],
   "source": [
    "pair=[]\n",
    "idx=0\n",
    "for i in unique_numbers:\n",
    "  # print(i,end=' ')\n",
    "  for j in unique_numbers:\n",
    "    if i<=j:\n",
    "      continue\n",
    "    pair.append((i,j))\n",
    "    # idx+=1\n"
   ]
  },
  {
   "cell_type": "code",
   "execution_count": 0,
   "metadata": {
    "colab": {},
    "colab_type": "code",
    "id": "y9xP-tNmN0xB"
   },
   "outputs": [],
   "source": [
    "pair_back={(pair[i][0],pair[i][1]):i for i in range(len(pair))}"
   ]
  },
  {
   "cell_type": "code",
   "execution_count": 0,
   "metadata": {
    "colab": {},
    "colab_type": "code",
    "id": "mlzdZLQUT-JO"
   },
   "outputs": [],
   "source": [
    "uploaded = files.upload()"
   ]
  },
  {
   "cell_type": "code",
   "execution_count": 0,
   "metadata": {
    "colab": {},
    "colab_type": "code",
    "id": "cNp9UbTtT-OP"
   },
   "outputs": [],
   "source": [
    "df=pd.read_csv('facts.csv',sep=';')"
   ]
  },
  {
   "cell_type": "code",
   "execution_count": 0,
   "metadata": {
    "colab": {},
    "colab_type": "code",
    "id": "nSs5qXvQT-Sf"
   },
   "outputs": [],
   "source": [
    "label=[]\n",
    "for row in df.iterrows():\n",
    "  label.append((max(row[1][0],row[1][1]),min(row[1][0],row[1][1])))"
   ]
  },
  {
   "cell_type": "code",
   "execution_count": 0,
   "metadata": {
    "colab": {},
    "colab_type": "code",
    "id": "V5ct59adT-XP"
   },
   "outputs": [],
   "source": [
    "true_label=[]\n",
    "for el in label:\n",
    "  try:\n",
    "    num=pair_back[el]\n",
    "    true_label.append(el)\n",
    "  except:\n",
    "    print(el)"
   ]
  },
  {
   "cell_type": "code",
   "execution_count": 0,
   "metadata": {
    "colab": {},
    "colab_type": "code",
    "id": "naAtwEdyT-cs"
   },
   "outputs": [],
   "source": [
    "label=true_label\n",
    "len(label)"
   ]
  },
  {
   "cell_type": "code",
   "execution_count": 0,
   "metadata": {
    "colab": {},
    "colab_type": "code",
    "id": "l4zp_7N5c1FI"
   },
   "outputs": [],
   "source": [
    "numbers_of_labels=[]\n",
    "for el in label:\n",
    "  numbers_of_labels.append(pair_back[el])"
   ]
  },
  {
   "cell_type": "code",
   "execution_count": 0,
   "metadata": {
    "colab": {},
    "colab_type": "code",
    "id": "gM1bQ4HXRe23"
   },
   "outputs": [],
   "source": [
    "numbers_of_labels[0:3]"
   ]
  },
  {
   "cell_type": "code",
   "execution_count": 0,
   "metadata": {
    "colab": {},
    "colab_type": "code",
    "id": "PhVUZDfzKSV8"
   },
   "outputs": [],
   "source": [
    "x_label=x[numbers_of_labels]\n",
    "x_label.shape"
   ]
  },
  {
   "cell_type": "code",
   "execution_count": 0,
   "metadata": {
    "colab": {},
    "colab_type": "code",
    "id": "A0H8XwneLyAU"
   },
   "outputs": [],
   "source": [
    "x0=torch.zeros((x.shape[0],1))\n",
    "for i in range(x0.shape[0]):\n",
    "  if i in numbers_of_labels:\n",
    "    x0[i][0]=1"
   ]
  },
  {
   "cell_type": "code",
   "execution_count": 0,
   "metadata": {
    "colab": {},
    "colab_type": "code",
    "id": "W4Zo9p3esJnX"
   },
   "outputs": [],
   "source": [
    "import numpy as np\n",
    "x_fake=torch.zeros((1200000,x.shape[1]))\n",
    "for i in range(len(numbers_of_labels)):\n",
    "  for j in range(10000):\n",
    "    x_fake[i*10000+j]=x[numbers_of_labels[i]]+np.random.sample(1)/1000\n"
   ]
  },
  {
   "cell_type": "code",
   "execution_count": 0,
   "metadata": {
    "colab": {},
    "colab_type": "code",
    "id": "05ul188XMDtD"
   },
   "outputs": [],
   "source": [
    "x1=torch.ones((x_fake.shape[0]),1)\n",
    "x_fake1=torch.cat((x_fake,x1),dim=1)\n",
    "x_fake1[0][-1]"
   ]
  },
  {
   "cell_type": "code",
   "execution_count": 0,
   "metadata": {
    "colab": {},
    "colab_type": "code",
    "id": "46dTy1QRMt4R"
   },
   "outputs": [],
   "source": [
    "no_label=list(set(range(x.shape[0]))-set(numbers_of_labels))"
   ]
  },
  {
   "cell_type": "code",
   "execution_count": 0,
   "metadata": {
    "colab": {},
    "colab_type": "code",
    "id": "BYBMzQ3cM6xf"
   },
   "outputs": [],
   "source": [
    "len(no_label)"
   ]
  },
  {
   "cell_type": "code",
   "execution_count": 0,
   "metadata": {
    "colab": {},
    "colab_type": "code",
    "id": "GlicRoHXM9Pb"
   },
   "outputs": [],
   "source": [
    "numbers_of_labels[0] in no_label"
   ]
  },
  {
   "cell_type": "code",
   "execution_count": 0,
   "metadata": {
    "colab": {},
    "colab_type": "code",
    "id": "qhAVYCkXTY4U"
   },
   "outputs": [],
   "source": [
    "x_with_labels=torch.cat((x,x0),dim=1)"
   ]
  },
  {
   "cell_type": "code",
   "execution_count": 0,
   "metadata": {
    "colab": {},
    "colab_type": "code",
    "id": "p2tqd5z_Tvnj"
   },
   "outputs": [],
   "source": [
    "x_with_labels[numbers_of_labels[0]][-1]"
   ]
  },
  {
   "cell_type": "code",
   "execution_count": 0,
   "metadata": {
    "colab": {},
    "colab_type": "code",
    "id": "d8t_82uiNcmq"
   },
   "outputs": [],
   "source": [
    "x1=x_with_labels[torch.randperm(x_with_labels.shape[0])]\n",
    "x2=x1[:int(x_with_labels.shape[0]*0.8)]\n",
    "x3=x1[int(x_with_labels.shape[0]*0.8):]"
   ]
  },
  {
   "cell_type": "code",
   "execution_count": 0,
   "metadata": {
    "colab": {},
    "colab_type": "code",
    "id": "Go9iwVeDO56g"
   },
   "outputs": [],
   "source": [
    "sum(x2[:,-1]),sum(x3[:,-1])"
   ]
  },
  {
   "cell_type": "code",
   "execution_count": 0,
   "metadata": {
    "colab": {},
    "colab_type": "code",
    "id": "Mw7GHAcryH-W"
   },
   "outputs": [],
   "source": [
    "x4=torch.cat((x2,x_fake1),dim=0)"
   ]
  },
  {
   "cell_type": "code",
   "execution_count": 0,
   "metadata": {
    "colab": {},
    "colab_type": "code",
    "id": "V0Zt3MubUwIX"
   },
   "outputs": [],
   "source": [
    "X_train=x4[:,:-1]\n",
    "X_test=x3[:,:-1]\n",
    "y_train=x4[:,-1].long()\n",
    "y_test=x3[:,-1].long()"
   ]
  },
  {
   "cell_type": "code",
   "execution_count": 0,
   "metadata": {
    "colab": {},
    "colab_type": "code",
    "id": "kpPL-7zGe82f"
   },
   "outputs": [],
   "source": [
    "y_train"
   ]
  },
  {
   "cell_type": "code",
   "execution_count": 0,
   "metadata": {
    "colab": {},
    "colab_type": "code",
    "id": "2OJHXkOaVljo"
   },
   "outputs": [],
   "source": [
    "X_train.shape,X_test.shape,y_train.shape,y_test.shape"
   ]
  },
  {
   "cell_type": "code",
   "execution_count": 0,
   "metadata": {
    "colab": {},
    "colab_type": "code",
    "id": "9hvWsQ30ah3C"
   },
   "outputs": [],
   "source": [
    "device = torch.device(\"cuda\" if torch.cuda.is_available() else \"cpu\")\n",
    "X_train.to(device)"
   ]
  },
  {
   "cell_type": "code",
   "execution_count": 0,
   "metadata": {
    "colab": {},
    "colab_type": "code",
    "id": "gSe5iAp3VuL0"
   },
   "outputs": [],
   "source": [
    "class MegafonNet(torch.nn.Module):\n",
    "  def __init__(self,n_hidden_neurons):\n",
    "    super(MegafonNet,self).__init__()\n",
    "\n",
    "    self.fc1=torch.nn.Linear(quantity_time_intervals*4,n_hidden_neurons)\n",
    "    self.activ1=torch.nn.LeakyReLU()\n",
    "    self.fc2=torch.nn.Linear(n_hidden_neurons,n_hidden_neurons)\n",
    "    self.activ2=torch.nn.Tanh()\n",
    "    self.fc3=torch.nn.Linear(n_hidden_neurons,2)\n",
    "    self.sm = torch.nn.Softmax(dim=1)\n",
    "  \n",
    "  def forward(self,x):\n",
    "    x=self.fc1(x)\n",
    "    x=self.activ1(x)\n",
    "    x=self.fc2(x)\n",
    "    x=self.activ2(x)\n",
    "    x=self.fc3(x)\n",
    "    return x\n",
    "\n",
    "megafon_net=MegafonNet(100)"
   ]
  },
  {
   "cell_type": "code",
   "execution_count": 0,
   "metadata": {
    "colab": {},
    "colab_type": "code",
    "id": "Jot4NUjiZmLn"
   },
   "outputs": [],
   "source": [
    "loss = torch.nn.CrossEntropyLoss()\n",
    "\n",
    "optimizer = torch.optim.Adam(megafon_net.parameters(), \n",
    "                             lr=1.0e-3)"
   ]
  },
  {
   "cell_type": "code",
   "execution_count": 0,
   "metadata": {
    "colab": {},
    "colab_type": "code",
    "id": "QsEJAC4QZ0TR"
   },
   "outputs": [],
   "source": [
    "batch_size = 100\n",
    "\n",
    "for epoch in range(50000):\n",
    "    order = torch.randperm(len(X_train))\n",
    "    total_loss=0\n",
    "    iter=0\n",
    "    for start_index in range(0, len(X_train), batch_size):\n",
    "        # print(start_index/len(X_train))\n",
    "        optimizer.zero_grad()\n",
    "        \n",
    "        batch_indexes = order[start_index:start_index+batch_size]\n",
    "        \n",
    "        x_batch = X_train[batch_indexes]\n",
    "        y_batch = y_train[batch_indexes]\n",
    "        \n",
    "        preds = megafon_net.forward(x_batch) \n",
    "        \n",
    "        loss_value = loss(preds, y_batch)\n",
    "        total_loss+=loss_value\n",
    "        iter+=1\n",
    "        loss_value.backward()\n",
    "        \n",
    "        optimizer.step()\n",
    "        \n",
    "    if epoch % 1 == 0:\n",
    "        test_preds = megafon_net.forward(X_test)\n",
    "        print(\"train loss=\",total_loss/iter)\n",
    "        print(\"test loss=\",loss(megafon_net.forward(X_test),y_test))\n",
    "        test_preds = test_preds.argmax(dim=1)\n",
    "        accuracy=((test_preds == y_test).float().mean())\n",
    "        print(\"test accuracy=\",accuracy)\n",
    "        "
   ]
  },
  {
   "cell_type": "code",
   "execution_count": 0,
   "metadata": {
    "colab": {},
    "colab_type": "code",
    "id": "GyoWva88it3O"
   },
   "outputs": [],
   "source": [
    "y_test.argmax()"
   ]
  },
  {
   "cell_type": "code",
   "execution_count": 0,
   "metadata": {
    "colab": {},
    "colab_type": "code",
    "id": "J757-UVSiy0b"
   },
   "outputs": [],
   "source": [
    "y_test[549947],test_preds[549947]"
   ]
  },
  {
   "cell_type": "code",
   "execution_count": 0,
   "metadata": {
    "colab": {},
    "colab_type": "code",
    "id": "2wmWFX6hdZYI"
   },
   "outputs": [],
   "source": [
    "y_batch"
   ]
  },
  {
   "cell_type": "code",
   "execution_count": 0,
   "metadata": {
    "colab": {},
    "colab_type": "code",
    "id": "0f7j5jAsfvAp"
   },
   "outputs": [],
   "source": [
    "preds"
   ]
  },
  {
   "cell_type": "code",
   "execution_count": 0,
   "metadata": {
    "colab": {},
    "colab_type": "code",
    "id": "zQIs0xwHfxmK"
   },
   "outputs": [],
   "source": []
  }
 ],
 "metadata": {
  "accelerator": "GPU",
  "colab": {
   "authorship_tag": "ABX9TyPu/R9KoebqxSPH3f9Hjcku",
   "collapsed_sections": [],
   "include_colab_link": true,
   "machine_shape": "hm",
   "name": "Megafon_test.ipynb",
   "provenance": []
  },
  "kernelspec": {
   "display_name": "Python 3",
   "language": "python",
   "name": "python3"
  },
  "language_info": {
   "codemirror_mode": {
    "name": "ipython",
    "version": 3
   },
   "file_extension": ".py",
   "mimetype": "text/x-python",
   "name": "python",
   "nbconvert_exporter": "python",
   "pygments_lexer": "ipython3",
   "version": "3.7.5"
  }
 },
 "nbformat": 4,
 "nbformat_minor": 1
}
